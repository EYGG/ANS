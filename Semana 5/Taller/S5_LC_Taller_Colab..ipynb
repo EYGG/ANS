{
 "cells": [
  {
   "cell_type": "markdown",
   "id": "7e65c81a",
   "metadata": {},
   "source": [
    "<div >\n",
    "<img src = \"figs/ans_banner_1920x200.png\" />\n",
    "</div>"
   ]
  },
  {
   "cell_type": "markdown",
   "id": "397e3fb1",
   "metadata": {},
   "source": [
    "# Caso-taller:  Recomendando Música"
   ]
  },
  {
   "cell_type": "markdown",
   "id": "e411dafd",
   "metadata": {},
   "source": [
    "El objetivo de este caso-taller es construir un sistema de recomendación de Música utilizando los datos de [Last.fm](https://www.last.fm/) provistos  abiertamente por [grouplens](https://grouplens.org/about/what-is-grouplens/) para: **\"avanzar la teoría y la práctica de la computación social mediante la construcción y la comprensión de sistemas *(de recomendación)* utilizados por personas reales\".**\n",
    "\n",
    "Los datos contienen información sobre artistas, usuarios, y las veces que estos escucharon sus canciones. Las bases se encuentran en los `Archivos de Laboratorio` en la carpeta `data`, allí también está disponible un archivo [README](data/readme.txt) que contiene más información sobre las bases.\n"
   ]
  },
  {
   "cell_type": "markdown",
   "id": "d3f4a37c",
   "metadata": {},
   "source": [
    "## Instrucciones generales\n",
    "\n",
    "1. Para desarrollar el *cuaderno*, primero debe descargarlo.\n",
    "\n",
    "2. Para responder cada inciso deberá utilizar el espacio debidamente especificado.\n",
    "\n",
    "3. La actividad será calificada sólo si sube el *cuaderno* de jupyter notebook con extensión `.ipynb` en la actividad designada como \"entrega calificada por el personal\".\n",
    "\n",
    "4. El archivo entregado debe poder ser ejecutado localmente por el tutor. Sea cuidadoso con la especificación de la ubicación de los archivos de soporte, guarde la carpeta de datos en el mismo `path` de su cuaderno, por ejemplo: `data`."
   ]
  },
  {
   "cell_type": "markdown",
   "id": "0fa5b794",
   "metadata": {},
   "source": [
    "## Desarrollo\n"
   ]
  },
  {
   "cell_type": "markdown",
   "id": "61ab5686",
   "metadata": {},
   "source": [
    "### 1. Carga de datos \n",
    "\n",
    "En la carpeta `data` se encuentran los archivos:\n",
    "\n",
    "   - `artists.dat`  que contienen el identificador del artista (`id`), nombre (`name`), link a la página del artista en last.fm (`url`), y link a la imagen del usuario (`pictureURL`), vale aclarar que varios de estos links están rotos. \n",
    "   - `user_artists.dat`  que contiene identificador del usuario (`userID`), nombre del artista que escuchó (`artistID`), y las veces que los escuchó (`weight`).\n",
    "\n",
    "Cargue estos datos en su *cuaderno*:\n",
    "\n",
    "   1. Para la base de artistas seleccione las columnas de identificador de artista (`id`) y nombre (`name`). Renombre estas columnas para poder hacer la unión con la base `user_artists.dat`.\n",
    "   2. Para la base de usuarios y artistas, renombre las columnas de forma tal que se mantenga la consistencia para unir con la base anterior, y renombre la columna `weight` a `nro_reproducciones`.\n",
    "   3. Una estas bases.\n",
    "   "
   ]
  },
  {
   "cell_type": "code",
   "execution_count": null,
   "id": "256346fe",
   "metadata": {},
   "outputs": [
    {
     "ename": "",
     "evalue": "",
     "output_type": "error",
     "traceback": [
      "\u001b[1;31mRunning cells with 'c:\\Users\\YOLANDA\\AppData\\Local\\Microsoft\\WindowsApps\\python3.7.exe' requires the ipykernel package.\n",
      "\u001b[1;31mRun the following command to install 'ipykernel' into the Python environment. \n",
      "\u001b[1;31mCommand: 'c:/Users/YOLANDA/AppData/Local/Microsoft/WindowsApps/python3.7.exe -m pip install ipykernel -U --user --force-reinstall'"
     ]
    }
   ],
   "source": [
    "# Importar librerias\n",
    "import numpy as np\n",
    "import pandas as pd\n",
    "import matplotlib.pyplot as plt\n",
    "import seaborn as sns\n",
    "import apyori as ap\n",
    "from sklearn.metrics.pairwise import cosine_similarity\n",
    "from scipy.sparse.linalg import svds\n",
    "from scipy.linalg import svd"
   ]
  },
  {
   "cell_type": "code",
   "execution_count": null,
   "id": "7b832db4",
   "metadata": {
    "scrolled": true
   },
   "outputs": [
    {
     "ename": "",
     "evalue": "",
     "output_type": "error",
     "traceback": [
      "\u001b[1;31mRunning cells with 'c:\\Users\\YOLANDA\\AppData\\Local\\Microsoft\\WindowsApps\\python3.7.exe' requires the ipykernel package.\n",
      "\u001b[1;31mRun the following command to install 'ipykernel' into the Python environment. \n",
      "\u001b[1;31mCommand: 'c:/Users/YOLANDA/AppData/Local/Microsoft/WindowsApps/python3.7.exe -m pip install ipykernel -U --user --force-reinstall'"
     ]
    }
   ],
   "source": [
    "# Cargar datos de artistas\n",
    "df_artists = pd.read_csv('./data/artists.dat', sep='\\t')\n",
    "df_artists.rename(columns={'id': 'artistID'}, inplace=True)\n",
    "df_artists.drop(columns=['url', 'pictureURL'], inplace=True)\n",
    "\n",
    "# Cargar datos de usuarios\n",
    "df_users = pd.read_csv('./data/user_artists.dat', sep='\\t')\n",
    "df_users.rename(columns={'weight': 'nro_reproducciones'}, inplace=True)\n",
    "\n",
    "# Unir la bases\n",
    "df = pd.merge(df_users, df_artists, on='artistID')\n",
    "df.head()"
   ]
  },
  {
   "cell_type": "markdown",
   "id": "c843c315",
   "metadata": {},
   "source": [
    "El primer paso es improtar las librerías que se van a necesitar en este notebook. Seguido a esto se procede a leer los archivos de artistas y usuarios renombrando la columna 'id' de la base de artistas a 'artistsID' y removiendo las columnas de las urls que no se van a necesitar. Finalmente, se unen los dos dataframes en la columna de 'artistsID'."
   ]
  },
  {
   "cell_type": "markdown",
   "id": "cd73fa58",
   "metadata": {
    "noteable": {
     "cell_type": "markdown"
    }
   },
   "source": [
    "### 2. Análisis preliminar. \n",
    "\n",
    "En esta sección exploraremos la base. Para ello responda las siguientes preguntas.\n",
    "\n",
    "#### 2.1 ¿Cuantos usuarios y artistas hay en la base?\n"
   ]
  },
  {
   "cell_type": "markdown",
   "id": "dea51682",
   "metadata": {},
   "source": [
    "\n",
    "#### 2.2 ¿Cuáles es la distribución de probabilidad del consumo por artista? (haga el calculo sin ponderar y ponderando por el numero de reproducciones) ¿Qué podemos inferir a partir de la comparación de ambas?"
   ]
  },
  {
   "cell_type": "code",
   "execution_count": null,
   "id": "6d577a71",
   "metadata": {},
   "outputs": [
    {
     "ename": "",
     "evalue": "",
     "output_type": "error",
     "traceback": [
      "\u001b[1;31mRunning cells with 'c:\\Users\\YOLANDA\\AppData\\Local\\Microsoft\\WindowsApps\\python3.7.exe' requires the ipykernel package.\n",
      "\u001b[1;31mRun the following command to install 'ipykernel' into the Python environment. \n",
      "\u001b[1;31mCommand: 'c:/Users/YOLANDA/AppData/Local/Microsoft/WindowsApps/python3.7.exe -m pip install ipykernel -U --user --force-reinstall'"
     ]
    }
   ],
   "source": [
    "# Calcular cuántos usuarios y artistas hay\n",
    "total_users = df.userID.nunique()\n",
    "total_artists = df.artistID.nunique()\n",
    "\n",
    "print(f'Hay {total_users} usuarios y {total_artists} artistas')\n",
    "\n",
    "# Calcular la distribución de probabilidad de consumo por artista\n",
    "df_artist_consumption = df.groupby('artistID').agg({'userID': 'count'})\n",
    "df_artist_w_consumption = df.groupby('artistID').agg({'nro_reproducciones': 'sum'})"
   ]
  },
  {
   "cell_type": "code",
   "execution_count": null,
   "id": "b165e1a7",
   "metadata": {},
   "outputs": [
    {
     "ename": "",
     "evalue": "",
     "output_type": "error",
     "traceback": [
      "\u001b[1;31mRunning cells with 'c:\\Users\\YOLANDA\\AppData\\Local\\Microsoft\\WindowsApps\\python3.7.exe' requires the ipykernel package.\n",
      "\u001b[1;31mRun the following command to install 'ipykernel' into the Python environment. \n",
      "\u001b[1;31mCommand: 'c:/Users/YOLANDA/AppData/Local/Microsoft/WindowsApps/python3.7.exe -m pip install ipykernel -U --user --force-reinstall'"
     ]
    }
   ],
   "source": [
    "# Agregar la columna de nombre de artista\n",
    "df_artist_consumption = pd.merge(df_artist_consumption, df_artists, on='artistID')\n",
    "df_artist_consumption.rename(columns={'userID': 'users_consumption'}, inplace=True)\n",
    "df_artist_w_consumption = pd.merge(df_artist_w_consumption, df_artists, on='artistID')\n",
    "\n",
    "# Calcular la probabilidad de consumo\n",
    "df_artist_consumption['prob'] = df_artist_consumption['users_consumption'] / total_users\n",
    "df_artist_w_consumption['w_prob'] = df_artist_w_consumption['nro_reproducciones'] / df_artist_w_consumption['nro_reproducciones'].sum()\n",
    "\n",
    "# Unir probabilidades\n",
    "df_probs = pd.merge(df_artist_consumption, df_artist_w_consumption[['artistID','w_prob']], on='artistID', how='inner')\n",
    "\n",
    "# Graficar la distribución de probabilidad de consumo\n",
    "fig, ax = plt.subplots(1, 3, figsize=(15, 5))\n",
    "sns.distplot(df_artist_consumption['prob'], ax=ax[0])\n",
    "ax[0].set_title('Distribución de probabilidad de consumo por artista')\n",
    "sns.distplot(df_artist_w_consumption['w_prob'], ax=ax[1])\n",
    "ax[1].set_title('Distribución de probabilidad Ponderada')\n",
    "ax[2].set_title('Comparación de probabilidades')\n",
    "ax[2].scatter(df_probs['prob'], df_probs['w_prob'])\n",
    "plt.xlabel('Probabilidad')\n",
    "plt.ylabel('Probabilidad Ponderada')\n",
    "plt.xlim(0, 0.35)\n",
    "plt.show()"
   ]
  },
  {
   "cell_type": "markdown",
   "id": "4dd3e121",
   "metadata": {},
   "source": [
    "Graficando las probabilidades simples, se puede observar que el \"número de casos exitosos\" para cada artista es más homogéneo entre artistas y por ende el eje y muestra que hay una menor frecuencia para cada artista en comparación con el eje y de la gráfica de las probabilidades ponderadas. Para esta segunda gráfica se puede ver cómo el 'share market' de cada artista se ve reflejado pues para los artistas más famosos no cuenta simplemente el hecho de que la mayoría de gente los escucha sino también cuántas veces son escuchados por toda esta población, haciendo que para artistas menos reconocidos exista una menor probabilidad de consumo pues en este caso el \"número de casos exitosos\" debe considerar todas las reproducciones totales y no solo si existe una persona que escucha al artista. Finalmente, en la tercera gráfica se comparan ambas probabilidades ratificando las conclusiones expuestas pues, de no haber diferencia entre estas, se debería graficar una línea recta, pero como se puede ver, hay casos en el que la probabilidad ponderada es mucho mayor y esto se debe a que tienen un share grande del mercado, es decir, son escuchados con mucha más frecuencia que el resto de artistas."
   ]
  },
  {
   "cell_type": "markdown",
   "id": "b980c32f",
   "metadata": {
    "noteable": {
     "cell_type": "markdown"
    }
   },
   "source": [
    "#### 2.3 Para el usuario 8 (`userID==8`) ¿cuál es la distribución de reproducción de artistas basado en el número de reproducciones relativas?. Presente sus resultados usando tablas y/o gráficas. ¿Encuentra algún patrón en los artistas que escucha y las veces que reproduce? ¿Podemos decir algo de sus preferencias?\n"
   ]
  },
  {
   "cell_type": "code",
   "execution_count": null,
   "id": "c9b7dcc5",
   "metadata": {},
   "outputs": [
    {
     "ename": "",
     "evalue": "",
     "output_type": "error",
     "traceback": [
      "\u001b[1;31mRunning cells with 'c:\\Users\\YOLANDA\\AppData\\Local\\Microsoft\\WindowsApps\\python3.7.exe' requires the ipykernel package.\n",
      "\u001b[1;31mRun the following command to install 'ipykernel' into the Python environment. \n",
      "\u001b[1;31mCommand: 'c:/Users/YOLANDA/AppData/Local/Microsoft/WindowsApps/python3.7.exe -m pip install ipykernel -U --user --force-reinstall'"
     ]
    }
   ],
   "source": [
    "# Distribución de reproducciones de usuario 8\n",
    "df_user8 = df[df['userID'] == 8]\n",
    "\n",
    "# Ordenar por reproducciones\n",
    "df_user8.sort_values(by='nro_reproducciones', ascending=False, inplace=True)\n",
    "\n",
    "# Graficar distribución de reproducciones de usuario 8\n",
    "fig, ax = plt.subplots(figsize=(15, 5))\n",
    "plt.bar(df_user8['name'], df_user8['nro_reproducciones'])\n",
    "plt.title('Distribución de reproducciones de usuario 8')\n",
    "plt.xticks(rotation=90)\n",
    "plt.show()"
   ]
  },
  {
   "cell_type": "markdown",
   "id": "6ab9f298",
   "metadata": {},
   "source": [
    "Para este análisis se filtró dentro del dataframe las reproducciones del usuario 8, se ordenó el número de reproducciones de mayor a menor y se graficó la frecuencia de reproducciones de cada uno de los artistas que escucha este usuario. Dentro de los artistas que se encuentran en la gráfica, se puede ver que en su mayoría son artistas pop y mujeres."
   ]
  },
  {
   "cell_type": "markdown",
   "id": "c71db425",
   "metadata": {
    "noteable": {
     "cell_type": "markdown"
    }
   },
   "source": [
    "### 3. Generando Recomendaciones\n",
    "\n",
    "En esta sección nos interesa generar recomendaciones ***nuevas y relevantes*** para el usuario 8 (`userID==8`). Para ello vamos a generar distintos sistemas de recomendación y comparar las recomendaciones generadas."
   ]
  },
  {
   "cell_type": "markdown",
   "id": "e2d013bf",
   "metadata": {
    "noteable": {
     "cell_type": "markdown"
    }
   },
   "source": [
    "#### 3.1. Filtrado colaborativo sencillo: promedios simples.\n",
    "\n",
    "Usando el promedio simple de reproducciones (sin considerar el número de reproducciones) genere una tabla y/o gráfica con 10 recomendaciones de artistas para este usuario. Explique con cuidado su procedimiento y justifique sus elecciones."
   ]
  },
  {
   "cell_type": "code",
   "execution_count": null,
   "id": "d8271f2c",
   "metadata": {},
   "outputs": [
    {
     "ename": "",
     "evalue": "",
     "output_type": "error",
     "traceback": [
      "\u001b[1;31mRunning cells with 'c:\\Users\\YOLANDA\\AppData\\Local\\Microsoft\\WindowsApps\\python3.7.exe' requires the ipykernel package.\n",
      "\u001b[1;31mRun the following command to install 'ipykernel' into the Python environment. \n",
      "\u001b[1;31mCommand: 'c:/Users/YOLANDA/AppData/Local/Microsoft/WindowsApps/python3.7.exe -m pip install ipykernel -U --user --force-reinstall'"
     ]
    }
   ],
   "source": [
    "# Se crea la matriz de frecuencias. Si el usuario ha escuchado al artista, se coloca 1, de lo contrario 0\n",
    "r_matrix = df.pivot_table(values='nro_reproducciones', index='userID', columns='artistID')\n",
    "r_matrix_dummy = r_matrix.notna().astype(int)\n",
    "r_matrix_dummy\n",
    "\n",
    "# Función para calcular la similitud entre usuarios\n",
    "def cf_user_mean(r_matrix, artistID):\n",
    "    if artistID in r_matrix:\n",
    "        mean_rating = r_matrix[artistID].mean()\n",
    "    else:\n",
    "        mean_rating = 0\n",
    "    return mean_rating\n",
    "\n",
    "# Calcular la similitud entre usuarios\n",
    "artistID_list = df['artistID'].unique()  \n",
    "scores = []\n",
    "\n",
    "for artistID in artistID_list:\n",
    "    mean_rating = cf_user_mean(r_matrix_dummy, artistID)\n",
    "    scores.append({\"artistID\": artistID, \"score\": mean_rating})\n",
    "\n",
    "# Función para graficar el rating\n",
    "def plot_artist_ranking(scores, df_artists, title):\n",
    "    # Convertir diccionario a dataframe\n",
    "    scores_df = pd.DataFrame(scores)\n",
    "    # Agregar las columnas de id de artista y nombre de artista\n",
    "    scores_df = scores_df.merge(df_artists[['artistID', 'name']], on='artistID', how='left')\n",
    "    # Agregar el nombre de los artistas que escucha el usuario 8\n",
    "    scores_df = scores_df.merge(df_user8[['name']], on='name', how='left', indicator=True)\n",
    "    # Filtrar los artistas que no escucha el usuario 8 para hacerle las recomendaciones\n",
    "    scores_df = scores_df[scores_df['_merge'] == 'left_only']\n",
    "\n",
    "    artistas_populares = scores_df.sort_values(by='score', ascending=False).head(10)\n",
    "\n",
    "    # Crear un gráfico de barras horizontal\n",
    "    plt.figure(figsize=(10, 6))  # Ajustar el tamaño del gráfico\n",
    "    plt.barh(artistas_populares['name'], artistas_populares['score'], color='skyblue')\n",
    "    plt.xlabel('Puntaje')\n",
    "    plt.ylabel('Artista')\n",
    "    plt.title(title)\n",
    "    plt.gca().invert_yaxis()  # Invertir el eje y para mostrar el artista más popular en la parte superior\n",
    "\n",
    "    # Mostrar el gráfico\n",
    "    plt.show()\n",
    "\n",
    "# Graficar el rating\n",
    "plot_artist_ranking(scores, df_artists, 'Los 10 Artistas Más recomendados por número de usuarios')"
   ]
  },
  {
   "cell_type": "markdown",
   "id": "1e03f941",
   "metadata": {},
   "source": [
    "De acuerdo a lo indicado en las respuestas de slack a la duda sobre este punto presentada por una compañera el día 9 de septiembre, se utilizó la proporción de usuarios que escucharon un artista en lugar de sus reproducciones. Para esto, se generó una matriz que cruza el id del usuario con el de los artistas y llena los espacios con el número de reproducciones. A continuación, el número de reproducciones se modificó por 1 y los NaN por 0 indicando que el usuario no escuchó al artista. A continuación se definió una función que asigna un rating igual a la proporción de veces que fue escuchado y un puntaje de 0.01 a artistas que no aparecen en la lista inicial. Se realizó el cálculo para el usuario 8 depurando los artistas que él ya escucha con el fin de que las recomendaciones seaan nuevas y relevantes. A continuación, se muestran gráficamente las 10 primeras recomendaciones para el usuario."
   ]
  },
  {
   "cell_type": "markdown",
   "id": "efc22fe2",
   "metadata": {},
   "source": [
    "#### 3.2.  Filtrado colaborativo sencillo: promedios ponderados.\n",
    "\n",
    "Usando el promedio de reproducciones ponderado por `nro_reproducciones` genere una tabla y/o gráfica con 10 recomendaciones de artistas para este usuario. Explique con cuidado su procedimiento y justifique sus elecciones. Compare las recomendaciones con el sistema implementado en el paso anterior.\n"
   ]
  },
  {
   "cell_type": "code",
   "execution_count": null,
   "id": "9c10eec7",
   "metadata": {},
   "outputs": [
    {
     "ename": "",
     "evalue": "",
     "output_type": "error",
     "traceback": [
      "\u001b[1;31mRunning cells with 'c:\\Users\\YOLANDA\\AppData\\Local\\Microsoft\\WindowsApps\\python3.7.exe' requires the ipykernel package.\n",
      "\u001b[1;31mRun the following command to install 'ipykernel' into the Python environment. \n",
      "\u001b[1;31mCommand: 'c:/Users/YOLANDA/AppData/Local/Microsoft/WindowsApps/python3.7.exe -m pip install ipykernel -U --user --force-reinstall'"
     ]
    }
   ],
   "source": [
    "# Tabla con usuarios y número de reproducciones por artista\n",
    "r_matrix = df.pivot_table(values='nro_reproducciones', index='userID', columns='artistID').fillna(0)\n",
    "\n",
    "# Reiniciar la lista de scores\n",
    "scores.clear()\n",
    "\n",
    "for artistID in artistID_list:\n",
    "    mean_rating = cf_user_mean(r_matrix, artistID)\n",
    "    scores.append({\"artistID\": artistID, \"score\": mean_rating})\n",
    "\n",
    "# Graficar el rating\n",
    "plot_artist_ranking(scores, df_artists, 'Los 10 artistas más recomendados por número de reproducciones')"
   ]
  },
  {
   "cell_type": "markdown",
   "id": "23be7a0d",
   "metadata": {},
   "source": [
    "En este punto, en lugar de usar la proporción de usuarios que escucharon un artista, se usa la proporción de reproducciones, de manera que la matriz usada no es la que tiene máyor proporción de usuarios que la escucharon, sino mayor número de reproducciones promedio entre los usuarios que escucharon al artista. Esto puede hacer que se terminen recomendando artistas que quizás son menos habituales (notan populares), pero que son sumamente habituales entre los usuarios que los escuchan."
   ]
  },
  {
   "cell_type": "markdown",
   "id": "2097e910",
   "metadata": {
    "noteable": {
     "cell_type": "markdown"
    }
   },
   "source": [
    "#### 3.3.  Filtrado colaborativo sencillo: similitud de coseno.\n",
    "\n",
    "Usando el promedio ponderado de reproducciones genere una tabla y/o gráfica  con 10 recomendaciones de artistas para este usuario. Para generar los pesos utilice la distancia de coseno. Explique con cuidado su procedimiento y justifique sus elecciones. Compare las recomendaciones con el sistema implementado en el paso anterior."
   ]
  },
  {
   "cell_type": "code",
   "execution_count": null,
   "id": "e70e3dce",
   "metadata": {},
   "outputs": [
    {
     "ename": "",
     "evalue": "",
     "output_type": "error",
     "traceback": [
      "\u001b[1;31mRunning cells with 'c:\\Users\\YOLANDA\\AppData\\Local\\Microsoft\\WindowsApps\\python3.7.exe' requires the ipykernel package.\n",
      "\u001b[1;31mRun the following command to install 'ipykernel' into the Python environment. \n",
      "\u001b[1;31mCommand: 'c:/Users/YOLANDA/AppData/Local/Microsoft/WindowsApps/python3.7.exe -m pip install ipykernel -U --user --force-reinstall'"
     ]
    }
   ],
   "source": [
    "#Calculamos la similitud de coseno \n",
    "cosine_sim = cosine_similarity(r_matrix, r_matrix)\n",
    "\n",
    "# Transformamos la matriz resultante en un dataframe\n",
    "cosine_sim = pd.DataFrame(cosine_sim, index=r_matrix.index, columns=r_matrix.index)\n",
    "\n",
    "cosine_sim.head(10)\n",
    "\n",
    "def cf_user_wmean(user_id, artistID):\n",
    "    # Primero verificamos si la película esta en la matriz\n",
    "    if artistID in r_matrix:\n",
    "        #Buscamos las medidas de similitud con los otros usuarios\n",
    "        sim_scores = cosine_sim[user_id]\n",
    "        # Obtenemos los ratings no faltantes de la matriz bajo evaluación\n",
    "        m_ratings = r_matrix[artistID]\n",
    "        # Obtenemos los índicies de las películas sin rating \n",
    "        idx = m_ratings[m_ratings.isnull()].index\n",
    "        # Nos quedamos con similitudes y ratings completos\n",
    "        sim_scores = sim_scores.drop(idx)\n",
    "        m_ratings = m_ratings.dropna()\n",
    "        # Calculamos la media ponderada\n",
    "        wmean_rating = np.dot(sim_scores, m_ratings)/ sim_scores.sum()\n",
    "    else:\n",
    "        # Si no tenemos ninguna información retornamos 0\n",
    "        wmean_rating = 0\n",
    "    \n",
    "    return wmean_rating\n",
    "\n",
    "# Calcular la similitud entre usuarios\n",
    "scores = []\n",
    "\n",
    "for artistID in artistID_list:\n",
    "    mean_rating = cf_user_wmean(8, artistID)\n",
    "    scores.append({\"artistID\": artistID, \"score\": mean_rating})\n",
    "\n",
    "# Graficar el rating\n",
    "plot_artist_ranking(scores, df_artists, 'Los 10 artistas más recomendados por similitud de coseno')"
   ]
  },
  {
   "cell_type": "markdown",
   "id": "1c9573ef",
   "metadata": {},
   "source": [
    "(Utilice este espacio para describir el procedimiento, análisis y conclusiones)."
   ]
  },
  {
   "cell_type": "markdown",
   "id": "ebff217f",
   "metadata": {
    "noteable": {
     "cell_type": "markdown"
    }
   },
   "source": [
    "#### 3.4.  Filtrado colaborativo usando SVD\n",
    "\n",
    "\n",
    "Usando la descomposición en valores singulares (SVD) genere una tabla y/o gráfica  con 10 recomendaciones de artistas para este usuario.  Explique con cuidado su procedimiento y justifique sus elecciones. Compare las recomendaciones con el sistema implementado en los pasos anteriores.\n"
   ]
  },
  {
   "cell_type": "code",
   "execution_count": null,
   "id": "54041856",
   "metadata": {},
   "outputs": [
    {
     "ename": "",
     "evalue": "",
     "output_type": "error",
     "traceback": [
      "\u001b[1;31mRunning cells with 'c:\\Users\\YOLANDA\\AppData\\Local\\Microsoft\\WindowsApps\\python3.7.exe' requires the ipykernel package.\n",
      "\u001b[1;31mRun the following command to install 'ipykernel' into the Python environment. \n",
      "\u001b[1;31mCommand: 'c:/Users/YOLANDA/AppData/Local/Microsoft/WindowsApps/python3.7.exe -m pip install ipykernel -U --user --force-reinstall'"
     ]
    }
   ],
   "source": [
    "# Pasar a matriz dispersa para poder aplicar SVD\n",
    "A = r_matrix.to_numpy()\n",
    "# Calcular la media de las calificaciones de cada usuario\n",
    "user_ratings_mean = np.mean(A, axis = 1)\n",
    "# Restar la media de las calificaciones de cada usuario para normalizar\n",
    "A_demeaned = A - user_ratings_mean.reshape(-1, 1)\n",
    "# Calcular SVD\n",
    "U, sigma, Vt = svd(A_demeaned)\n",
    "# Graficar los valores singulares\n",
    "x_coordinate = [i for i in range(len(sigma)) ]\n",
    "plt.plot(x_coordinate,sigma)\n",
    "plt.title('Gráfico de valores singulares')\n",
    "plt.xlim(0, 1000)\n",
    "plt.show()\n",
    "# Calcular la varianza explicada\n",
    "var_explained = np.round(sigma**2/np.sum(sigma**2), decimals=6)\n",
    "vs = 100\n",
    "print(f'La varianza explicada por los primeros {vs} valores singulares es {sum(var_explained[0:vs])}')"
   ]
  },
  {
   "cell_type": "code",
   "execution_count": 73,
   "id": "bf456ffc",
   "metadata": {},
   "outputs": [
    {
     "data": {
      "text/html": [
       "<div>\n",
       "<style scoped>\n",
       "    .dataframe tbody tr th:only-of-type {\n",
       "        vertical-align: middle;\n",
       "    }\n",
       "\n",
       "    .dataframe tbody tr th {\n",
       "        vertical-align: top;\n",
       "    }\n",
       "\n",
       "    .dataframe thead th {\n",
       "        text-align: right;\n",
       "    }\n",
       "</style>\n",
       "<table border=\"1\" class=\"dataframe\">\n",
       "  <thead>\n",
       "    <tr style=\"text-align: right;\">\n",
       "      <th>artistID</th>\n",
       "      <th>1</th>\n",
       "      <th>2</th>\n",
       "      <th>3</th>\n",
       "      <th>4</th>\n",
       "      <th>5</th>\n",
       "      <th>6</th>\n",
       "      <th>7</th>\n",
       "      <th>8</th>\n",
       "      <th>9</th>\n",
       "      <th>10</th>\n",
       "      <th>...</th>\n",
       "      <th>18736</th>\n",
       "      <th>18737</th>\n",
       "      <th>18738</th>\n",
       "      <th>18739</th>\n",
       "      <th>18740</th>\n",
       "      <th>18741</th>\n",
       "      <th>18742</th>\n",
       "      <th>18743</th>\n",
       "      <th>18744</th>\n",
       "      <th>18745</th>\n",
       "    </tr>\n",
       "  </thead>\n",
       "  <tbody>\n",
       "    <tr>\n",
       "      <th>0</th>\n",
       "      <td>2.033813</td>\n",
       "      <td>5.224558</td>\n",
       "      <td>0.650398</td>\n",
       "      <td>1.489550</td>\n",
       "      <td>1.962391</td>\n",
       "      <td>-15.348861</td>\n",
       "      <td>90.160239</td>\n",
       "      <td>18.164756</td>\n",
       "      <td>2.470251</td>\n",
       "      <td>0.960792</td>\n",
       "      <td>...</td>\n",
       "      <td>2.501171</td>\n",
       "      <td>1.989224</td>\n",
       "      <td>1.745287</td>\n",
       "      <td>1.698746</td>\n",
       "      <td>1.604060</td>\n",
       "      <td>1.573568</td>\n",
       "      <td>1.562334</td>\n",
       "      <td>1.551100</td>\n",
       "      <td>1.549495</td>\n",
       "      <td>-0.998452</td>\n",
       "    </tr>\n",
       "    <tr>\n",
       "      <th>1</th>\n",
       "      <td>1.194764</td>\n",
       "      <td>1.188069</td>\n",
       "      <td>1.184917</td>\n",
       "      <td>1.185820</td>\n",
       "      <td>1.201188</td>\n",
       "      <td>1.033677</td>\n",
       "      <td>-1.160870</td>\n",
       "      <td>0.727358</td>\n",
       "      <td>1.096808</td>\n",
       "      <td>1.259612</td>\n",
       "      <td>...</td>\n",
       "      <td>1.189457</td>\n",
       "      <td>1.188005</td>\n",
       "      <td>1.187314</td>\n",
       "      <td>1.187182</td>\n",
       "      <td>1.186914</td>\n",
       "      <td>1.186827</td>\n",
       "      <td>1.186795</td>\n",
       "      <td>1.186763</td>\n",
       "      <td>1.186759</td>\n",
       "      <td>1.164497</td>\n",
       "    </tr>\n",
       "    <tr>\n",
       "      <th>2</th>\n",
       "      <td>0.689183</td>\n",
       "      <td>0.764240</td>\n",
       "      <td>0.353082</td>\n",
       "      <td>0.425605</td>\n",
       "      <td>0.532978</td>\n",
       "      <td>1.513865</td>\n",
       "      <td>-16.581012</td>\n",
       "      <td>-0.043575</td>\n",
       "      <td>1.348333</td>\n",
       "      <td>2.274401</td>\n",
       "      <td>...</td>\n",
       "      <td>0.402998</td>\n",
       "      <td>0.380830</td>\n",
       "      <td>0.370267</td>\n",
       "      <td>0.368251</td>\n",
       "      <td>0.364151</td>\n",
       "      <td>0.362831</td>\n",
       "      <td>0.362345</td>\n",
       "      <td>0.361858</td>\n",
       "      <td>0.361789</td>\n",
       "      <td>0.181378</td>\n",
       "    </tr>\n",
       "    <tr>\n",
       "      <th>3</th>\n",
       "      <td>0.020067</td>\n",
       "      <td>0.296278</td>\n",
       "      <td>-0.058060</td>\n",
       "      <td>0.099957</td>\n",
       "      <td>0.186824</td>\n",
       "      <td>-0.123308</td>\n",
       "      <td>5.046489</td>\n",
       "      <td>-0.513088</td>\n",
       "      <td>2.494495</td>\n",
       "      <td>3.426673</td>\n",
       "      <td>...</td>\n",
       "      <td>-0.038857</td>\n",
       "      <td>-0.044141</td>\n",
       "      <td>-0.046659</td>\n",
       "      <td>-0.047139</td>\n",
       "      <td>-0.048116</td>\n",
       "      <td>-0.048431</td>\n",
       "      <td>-0.048547</td>\n",
       "      <td>-0.048663</td>\n",
       "      <td>-0.048679</td>\n",
       "      <td>0.214308</td>\n",
       "    </tr>\n",
       "    <tr>\n",
       "      <th>4</th>\n",
       "      <td>0.048156</td>\n",
       "      <td>0.040642</td>\n",
       "      <td>0.049110</td>\n",
       "      <td>0.048797</td>\n",
       "      <td>0.048883</td>\n",
       "      <td>0.049199</td>\n",
       "      <td>0.600705</td>\n",
       "      <td>0.055137</td>\n",
       "      <td>0.043836</td>\n",
       "      <td>0.051172</td>\n",
       "      <td>...</td>\n",
       "      <td>0.048901</td>\n",
       "      <td>0.049010</td>\n",
       "      <td>0.049063</td>\n",
       "      <td>0.049073</td>\n",
       "      <td>0.049093</td>\n",
       "      <td>0.049099</td>\n",
       "      <td>0.049102</td>\n",
       "      <td>0.049104</td>\n",
       "      <td>0.049105</td>\n",
       "      <td>0.049492</td>\n",
       "    </tr>\n",
       "    <tr>\n",
       "      <th>5</th>\n",
       "      <td>-0.876509</td>\n",
       "      <td>-2.670086</td>\n",
       "      <td>-0.715243</td>\n",
       "      <td>-0.565705</td>\n",
       "      <td>-0.823352</td>\n",
       "      <td>-2.525956</td>\n",
       "      <td>-178.816782</td>\n",
       "      <td>-3.205692</td>\n",
       "      <td>-6.936395</td>\n",
       "      <td>-1.130159</td>\n",
       "      <td>...</td>\n",
       "      <td>-0.979791</td>\n",
       "      <td>-0.857930</td>\n",
       "      <td>-0.799865</td>\n",
       "      <td>-0.788787</td>\n",
       "      <td>-0.766248</td>\n",
       "      <td>-0.758990</td>\n",
       "      <td>-0.756316</td>\n",
       "      <td>-0.753642</td>\n",
       "      <td>-0.753260</td>\n",
       "      <td>-0.313330</td>\n",
       "    </tr>\n",
       "    <tr>\n",
       "      <th>6</th>\n",
       "      <td>1.120755</td>\n",
       "      <td>1.298576</td>\n",
       "      <td>1.334999</td>\n",
       "      <td>1.298769</td>\n",
       "      <td>1.313603</td>\n",
       "      <td>1.878054</td>\n",
       "      <td>-0.855280</td>\n",
       "      <td>1.087856</td>\n",
       "      <td>1.158459</td>\n",
       "      <td>1.466806</td>\n",
       "      <td>...</td>\n",
       "      <td>1.328846</td>\n",
       "      <td>1.329784</td>\n",
       "      <td>1.330231</td>\n",
       "      <td>1.330316</td>\n",
       "      <td>1.330490</td>\n",
       "      <td>1.330546</td>\n",
       "      <td>1.330567</td>\n",
       "      <td>1.330587</td>\n",
       "      <td>1.330590</td>\n",
       "      <td>1.287740</td>\n",
       "    </tr>\n",
       "    <tr>\n",
       "      <th>7</th>\n",
       "      <td>1.148434</td>\n",
       "      <td>1.154687</td>\n",
       "      <td>1.233696</td>\n",
       "      <td>1.101964</td>\n",
       "      <td>1.031252</td>\n",
       "      <td>3.369137</td>\n",
       "      <td>1.747134</td>\n",
       "      <td>8.563406</td>\n",
       "      <td>-1.604402</td>\n",
       "      <td>2.306917</td>\n",
       "      <td>...</td>\n",
       "      <td>1.065645</td>\n",
       "      <td>1.086552</td>\n",
       "      <td>1.096514</td>\n",
       "      <td>1.098414</td>\n",
       "      <td>1.102281</td>\n",
       "      <td>1.103526</td>\n",
       "      <td>1.103985</td>\n",
       "      <td>1.104444</td>\n",
       "      <td>1.104509</td>\n",
       "      <td>1.129360</td>\n",
       "    </tr>\n",
       "    <tr>\n",
       "      <th>8</th>\n",
       "      <td>0.994919</td>\n",
       "      <td>0.938152</td>\n",
       "      <td>0.759316</td>\n",
       "      <td>0.881424</td>\n",
       "      <td>0.999748</td>\n",
       "      <td>1.443726</td>\n",
       "      <td>19.857339</td>\n",
       "      <td>3.707931</td>\n",
       "      <td>1.054971</td>\n",
       "      <td>2.962881</td>\n",
       "      <td>...</td>\n",
       "      <td>0.846483</td>\n",
       "      <td>0.818577</td>\n",
       "      <td>0.805280</td>\n",
       "      <td>0.802743</td>\n",
       "      <td>0.797582</td>\n",
       "      <td>0.795920</td>\n",
       "      <td>0.795308</td>\n",
       "      <td>0.794695</td>\n",
       "      <td>0.794608</td>\n",
       "      <td>0.932179</td>\n",
       "    </tr>\n",
       "    <tr>\n",
       "      <th>9</th>\n",
       "      <td>1.292727</td>\n",
       "      <td>1.302498</td>\n",
       "      <td>0.430708</td>\n",
       "      <td>0.409558</td>\n",
       "      <td>0.498570</td>\n",
       "      <td>-1.386623</td>\n",
       "      <td>27.681695</td>\n",
       "      <td>3.637578</td>\n",
       "      <td>-0.819332</td>\n",
       "      <td>-0.073769</td>\n",
       "      <td>...</td>\n",
       "      <td>0.359208</td>\n",
       "      <td>0.377344</td>\n",
       "      <td>0.385985</td>\n",
       "      <td>0.387633</td>\n",
       "      <td>0.390987</td>\n",
       "      <td>0.392068</td>\n",
       "      <td>0.392466</td>\n",
       "      <td>0.392864</td>\n",
       "      <td>0.392920</td>\n",
       "      <td>0.394374</td>\n",
       "    </tr>\n",
       "  </tbody>\n",
       "</table>\n",
       "<p>10 rows × 17632 columns</p>\n",
       "</div>"
      ],
      "text/plain": [
       "artistID     1         2         3         4         5          6       \n",
       "0         2.033813  5.224558  0.650398  1.489550  1.962391 -15.348861  \\\n",
       "1         1.194764  1.188069  1.184917  1.185820  1.201188   1.033677   \n",
       "2         0.689183  0.764240  0.353082  0.425605  0.532978   1.513865   \n",
       "3         0.020067  0.296278 -0.058060  0.099957  0.186824  -0.123308   \n",
       "4         0.048156  0.040642  0.049110  0.048797  0.048883   0.049199   \n",
       "5        -0.876509 -2.670086 -0.715243 -0.565705 -0.823352  -2.525956   \n",
       "6         1.120755  1.298576  1.334999  1.298769  1.313603   1.878054   \n",
       "7         1.148434  1.154687  1.233696  1.101964  1.031252   3.369137   \n",
       "8         0.994919  0.938152  0.759316  0.881424  0.999748   1.443726   \n",
       "9         1.292727  1.302498  0.430708  0.409558  0.498570  -1.386623   \n",
       "\n",
       "artistID       7          8         9         10     ...     18736     18737   \n",
       "0          90.160239  18.164756  2.470251  0.960792  ...  2.501171  1.989224  \\\n",
       "1          -1.160870   0.727358  1.096808  1.259612  ...  1.189457  1.188005   \n",
       "2         -16.581012  -0.043575  1.348333  2.274401  ...  0.402998  0.380830   \n",
       "3           5.046489  -0.513088  2.494495  3.426673  ... -0.038857 -0.044141   \n",
       "4           0.600705   0.055137  0.043836  0.051172  ...  0.048901  0.049010   \n",
       "5        -178.816782  -3.205692 -6.936395 -1.130159  ... -0.979791 -0.857930   \n",
       "6          -0.855280   1.087856  1.158459  1.466806  ...  1.328846  1.329784   \n",
       "7           1.747134   8.563406 -1.604402  2.306917  ...  1.065645  1.086552   \n",
       "8          19.857339   3.707931  1.054971  2.962881  ...  0.846483  0.818577   \n",
       "9          27.681695   3.637578 -0.819332 -0.073769  ...  0.359208  0.377344   \n",
       "\n",
       "artistID     18738     18739     18740     18741     18742     18743   \n",
       "0         1.745287  1.698746  1.604060  1.573568  1.562334  1.551100  \\\n",
       "1         1.187314  1.187182  1.186914  1.186827  1.186795  1.186763   \n",
       "2         0.370267  0.368251  0.364151  0.362831  0.362345  0.361858   \n",
       "3        -0.046659 -0.047139 -0.048116 -0.048431 -0.048547 -0.048663   \n",
       "4         0.049063  0.049073  0.049093  0.049099  0.049102  0.049104   \n",
       "5        -0.799865 -0.788787 -0.766248 -0.758990 -0.756316 -0.753642   \n",
       "6         1.330231  1.330316  1.330490  1.330546  1.330567  1.330587   \n",
       "7         1.096514  1.098414  1.102281  1.103526  1.103985  1.104444   \n",
       "8         0.805280  0.802743  0.797582  0.795920  0.795308  0.794695   \n",
       "9         0.385985  0.387633  0.390987  0.392068  0.392466  0.392864   \n",
       "\n",
       "artistID     18744     18745  \n",
       "0         1.549495 -0.998452  \n",
       "1         1.186759  1.164497  \n",
       "2         0.361789  0.181378  \n",
       "3        -0.048679  0.214308  \n",
       "4         0.049105  0.049492  \n",
       "5        -0.753260 -0.313330  \n",
       "6         1.330590  1.287740  \n",
       "7         1.104509  1.129360  \n",
       "8         0.794608  0.932179  \n",
       "9         0.392920  0.394374  \n",
       "\n",
       "[10 rows x 17632 columns]"
      ]
     },
     "execution_count": 73,
     "metadata": {},
     "output_type": "execute_result"
    }
   ],
   "source": [
    "# Calcular la matriz de recomendaciones\n",
    "U, sigma, Vt = svds(A_demeaned, k = vs)\n",
    "sigma = np.diag(sigma)\n",
    "A_recomendaciones = np.dot(np.dot(U, sigma), Vt) + user_ratings_mean.reshape(-1, 1)\n",
    "recomendac_df = pd.DataFrame(A_recomendaciones, columns = r_matrix.columns)\n",
    "recomendac_df.head(10)"
   ]
  },
  {
   "cell_type": "code",
   "execution_count": 74,
   "id": "e0d2f428",
   "metadata": {},
   "outputs": [
    {
     "data": {
      "image/png": "[encoded data removed]",
      "text/plain": [
       "<Figure size 1000x600 with 1 Axes>"
      ]
     },
     "metadata": {},
     "output_type": "display_data"
    }
   ],
   "source": [
    "# Obtener la fila de recomendaciones para el usuario 8\n",
    "user8_recomendations = recomendac_df.abs().iloc[8].sort_values(ascending=False)\n",
    "user8_recomendations = pd.DataFrame(user8_recomendations).reset_index()\n",
    "user8_recomendations.rename(columns={8: 'score'}, inplace=True)\n",
    "plot_artist_ranking(user8_recomendations, df_artists, 'Los 10 artistas más recomendados por SVD')"
   ]
  },
  {
   "cell_type": "markdown",
   "id": "bbac0686",
   "metadata": {
    "ExecuteTime": {
     "end_time": "2023-07-20T13:08:53.953788+00:00",
     "start_time": "2023-07-20T13:08:00.765701+00:00"
    },
    "noteable": {
     "cell_type": "code",
     "output_collection_id": "7748407e-0324-4bc3-a209-c6a2068ebdf2"
    }
   },
   "source": [
    "Para este punto primero se calcula la matriz de valores singulares y se grafica la varianza explicada de esta obteniendo que con 100 valores singulares se explica casi el 95% de la varianza. Seguido a esto se toma como k=100 dado el ejercicio hecho anteriormente y se procede a reconstruir la matriz original obteniendo nuevos puntajes para cada combinación de usuario-artista. Se extrae la fila del usuario 8, se organizan los puntajes en valor absoluto de esta fila y se grafican los primeros 10 que serían las recomendaciones para hacerle al usuario."
   ]
  },
  {
   "cell_type": "markdown",
   "id": "a1837bac",
   "metadata": {
    "noteable": {
     "cell_type": "markdown"
    }
   },
   "source": [
    "#### 3.5.  Filtrado colaborativo usando Análisis de Canasta de Compra\n",
    "\n",
    "Usando  el algoritmo `Apriori` genere una tabla y/o gráfica  con 10 recomendaciones de artistas para este usuario.  Explique con cuidado su procedimiento y justifique sus elecciones. Compare las recomendaciones con el sistema implementado en los pasos anteriores. Esto puede tomar mucho tiempo, sea cuidadoso al elegir los hiper-parámetors del modelo, utilice los resultados de las estadísticas descriptivas para elegir sus hier-parámetros, y genere solo reglas con 2 elementos. (Puede también aprovechar los recursos de [Google Colab](https://colab.research.google.com/))\n"
   ]
  },
  {
   "cell_type": "code",
   "execution_count": 70,
   "id": "39873366",
   "metadata": {},
   "outputs": [],
   "source": [
    "# Utilice este espacio para escribir el código."
   ]
  },
  {
   "cell_type": "markdown",
   "id": "e59232e7",
   "metadata": {
    "ExecuteTime": null,
    "noteable": {
     "cell_type": "code",
     "output_collection_id": "c81565ab-5de5-49a9-819f-ca3f6f442a3c"
    }
   },
   "source": [
    "(Utilice este espacio para describir el procedimiento, análisis y conclusiones)."
   ]
  },
  {
   "cell_type": "markdown",
   "id": "330af0c5",
   "metadata": {},
   "source": [
    "### 4. Recomendaciones generales \n",
    "\n",
    "De acuerdo con los resultados encontrados, en su opinión ¿qué procedimiento generó las mejores recomendaciones para este usuario? ¿Cómo implementaría una evaluación objetiva de estas recomendaciones? Justifique su respuesta."
   ]
  },
  {
   "cell_type": "markdown",
   "id": "8cef8ff4",
   "metadata": {},
   "source": [
    "(Utilice este espacio para describir el procedimiento, análisis y conclusiones)."
   ]
  }
 ],
 "metadata": {
  "kernelspec": {
   "display_name": "Python 3 (ipykernel)",
   "language": "python",
   "name": "python3"
  },
  "language_info": {
   "codemirror_mode": {
    "name": "ipython",
    "version": 3
   },
   "file_extension": ".py",
   "mimetype": "text/x-python",
   "name": "python",
   "nbconvert_exporter": "python",
   "pygments_lexer": "ipython3",
   "version": "3.7.9"
  },
  "noteable": {
   "last_transaction_id": "6d8b1923-2053-48b7-b0ac-3ca8bd83674a"
  },
  "selected_hardware_size": "small",
  "toc": {
   "base_numbering": 1,
   "nav_menu": {},
   "number_sections": true,
   "sideBar": true,
   "skip_h1_title": false,
   "title_cell": "Table of Contents",
   "title_sidebar": "Contents",
   "toc_cell": false,
   "toc_position": {},
   "toc_section_display": true,
   "toc_window_display": true
  }
 },
 "nbformat": 4,
 "nbformat_minor": 5
}
