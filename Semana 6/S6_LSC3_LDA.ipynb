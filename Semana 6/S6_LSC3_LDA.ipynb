{
 "cells": [
  {
   "cell_type": "markdown",
   "metadata": {},
   "source": [
    "<div >\n",
    "<img src = \"figs/ans_banner_1920x200.png\" />\n",
    "</div>"
   ]
  },
  {
   "cell_type": "markdown",
   "metadata": {},
   "source": [
    "# Modelado de Temas\n",
    "\n",
    "Este *cuaderno* trata sobre modelado de temas o tópicos a partir de datos de texto. El objetivo del *cuaderno* es que usted obtenga una visión general del modelo de asignación latente de Dirichlet (LDA, por sus siglas en inglés). Busca también que sea capaz de crear e implementar este modelo en `Python` y que sea  capaz de evaluar e interpretar los resultados, y de identificar el mejor modelo de temas para un determinado problema. \n",
    "\n",
    "**NO** es necesario editar el archivo o hacer una entrega. Sin embargo, los ejemplos contienen celdas con código ejecutable (`en gris`), que podrá modificar  libremente. Esta puede ser una buena forma de aprender nuevas funcionalidades del *cuaderno*, o experimentar variaciones en los códigos de ejemplo."
   ]
  },
  {
   "cell_type": "markdown",
   "metadata": {},
   "source": [
    "## Introducción\n",
    "\n",
    "Todo texto presenta una variedad de temas o tópicos que se expresan a través  de palabras. El modelado de temas es una faceta del procesamiento del lenguaje natural (NLP, por sus siglas en inglés). Como vimos anteriormente, utilizar el lenguaje, textos, como datos puede ser extremadamente poderoso. \n",
    "\n",
    "En este *cuaderno* nos centraremos sobre el modelado de temas. Inmediatamente nos surge la pregunta ¿qué son los temas? Responderemos esa pregunta con un ejemplo. Habremos notado que en los días en que se llevan a cabo eventos importantes (como elecciones nacionales, desastres naturales o eventos deportivos), las publicaciones de las redes sociales tienden a centrarse en esos eventos. Las publicaciones de alguna manera reflejan los eventos del día, y lo hacen de diferentes formas. Las publicaciones pueden tener, puntos de vista divergentes que permiten que las agrupemos en grupos o clústeres de temas. Por ejemplo, la siguiente figura con un breve texto sobre ciencia de datos muestra cómo se pueden identificar palabras y asignarlas a temas."
   ]
  },
  {
   "cell_type": "markdown",
   "metadata": {},
   "source": [
    "<center>\n",
    "<img src = \"figs/topicos1.jpeg\" alt = \"topicos\" style = \"width: 500px;\"/>\n",
    "</center>\n"
   ]
  },
  {
   "cell_type": "markdown",
   "metadata": {},
   "source": [
    "En  la figura se muestra cómo palabras como *información*, *predicción*, y *estadística*, son asignadas al tema modelado; mientras que *computacional*, *producción* y *escala* son asignadas al tema ingeniería. Los modelos de temas son importantes porque ofrecen la misma función para los datos textuales que las estadísticas clásicas para los datos numéricos. Es decir, proporcionan un resumen significativo de los datos. \n",
    "\n",
    "Los modelos de temas entran en la categoría de aprendizaje no supervisado porque, casi siempre, no se conocen de antemano los temas subyacentes de los documentos. Por lo tanto, no existe una variable que guíe el aprendizaje. En términos de aprendizaje no supervisado, los modelos de temas se pueden pensar como parte del análisis de clusters, más específicamente a K-medias. Recordemos que con K-medias, primero se establece el número de clusters y luego el modelo asigna cada uno de los datos a uno de los clústers predeterminados. Lo mismo ocurre generalmente con los modelos de temas. Seleccionamos el número de temas al inicio y luego el modelo aísla las palabras que forman esa cantidad de temas. \n",
    "\n",
    "Los modelos de temas buscan entonces buscan identificar los temas subyacentes en una colección de documentos (también referidos como corpus), utilizando las palabras contenidas en los mismos.  Para ello asumen que las palabras en el mismo documento están relacionadas y usan esa suposición para definir temas abstractos al encontrar grupos de palabras que aparecen con frecuencia una cerca de otra.  Por ejemplo, si una oración contiene las palabras *salario*, *empleado*, y *reunión*, podemos asumir que esa oración trata sobre trabajo.\n",
    "\n",
    "Este tipo de algoritmos por lo general pretenden primero determinar el número de temas, luego identificar palabras o frases concurrentes en los documentos; y a partir de esto, buscar clusters de palabras que caracterizan el documento y finalmente retornar un conjunto de temas abstractos que caracterizan el corpus.\n",
    "\n",
    "Un aspecto clave de los modelos de temas es que no producen tópicos específicos de una palabra o una frase, sino un conjunto de palabras, cada una de las cuales representa un tema abstracto. Esto se debe a que los modelos de temas entienden la proximidad de las palabras, no el contexto. Por ejemplo, en la figura siguiente, el modelo no tiene idea de lo que significan *ala*, *elevar*, *piloto*, *equipaje*, *pasajero*, o *mosca*; sólo sabe que estas palabras, generalmente, siempre que aparecen, aparecen muy próximas entre sí. Será nuestra tarea darle una interpretación (o no) a este tópico."
   ]
  },
  {
   "cell_type": "markdown",
   "metadata": {},
   "source": [
    "<center>\n",
    "<img src = \"figs/topicos3.jpeg\" alt = \"topicos3\" style = \"width: 500px;\"/>\n",
    "</center>"
   ]
  },
  {
   "cell_type": "markdown",
   "metadata": {},
   "source": [
    "Existen varios algoritmos de modelado de temas, pero quizás el más conocidos es el de asignación latente de Dirichlet, o Latent Dirichlet Allocation (LDA) en inglés. En este *cuaderno* nos centraremos en este."
   ]
  },
  {
   "cell_type": "markdown",
   "metadata": {},
   "source": [
    "## Asignación Latente de Dirichlet (LDA)\n",
    "\n",
    "En 2003, David Blei, Andrew Ng, y Michael Jordan publicaron un artículo sobre el algoritmo del modelado de temas conocido como Latent Dirichlet Allocation (LDA). LDA es un modelo probabilístico generativo, esto significa que el proceso de modelado comienza con el texto y funciona como ingeniería reversa a través del proceso que suponemos que lo generó, con el fin de identificar los parámetros de interés. En este caso, son los temas que generaron los datos que son de interés. \n",
    "\n",
    "Esencialmente LDA es una técnica de clustering que puede ser aplicada a colecciones de datos discretos como los son los documentos de texto. LDA es un modelo bayesiano jerárquico de 3 niveles en donde cada elemento o palabra de un texto se modela como una mezcla finita de temas. A su vez, cada tópico se modela como una combinación infinita de palabras. \n",
    "\n",
    "Esta técnica de aprendizaje no supervisado se diferencia de las técnicas de clustering estudiadas anteriormente porque en este caso cada observación pertenece a más de un grupo, donde la pertenencia de un elemento a un grupo se modela como una distribución de probabilidades."
   ]
  },
  {
   "cell_type": "markdown",
   "metadata": {},
   "source": [
    "### Set-up del modelo\n",
    "\n",
    "LDA representa los documentos como una mezcla de temas que generan palabras con ciertas probabilidades. Asume  que los documentos se generan siguiendo un proceso definido. Al empezar a escribir un documento:\n",
    "\n",
    "1. Decidimos el número de palabras que el documento tendrá, que surge de una distribución de Poisson.\n",
    "2. Elegimos la mezcla de temas del documento, esta mezcla surge de una distribución de Dirichlet sobre un conjunto fijo de K temas. Usando el ejemplo anterior, podríamos elegir que el documento consista 1/3 sobre aviones y 2/3 sobre automóviles. Intuitivamente, cuando utilizamos la distribución de Dirichlet estamos suponiendo que los documentos dentro del corpus se distribuirían a lo largo del simplex en donde cada vértice se representa un tema. Luego, cada documento se ubicaría más cercano a los vértices que representan los temas contenidos en él. Por ejemplo, supongamos que tenemos 7 documentos y 3 temas posibles (aviones, automóviles y barcos), podríamos representar los documentos dentro del simplex  de la siguiente manera:\n",
    "\n",
    "<center>\n",
    "<img src = \"figs/Triangulo.png\" alt = \"LDA\" style = \"width: 500px;\"/>\n",
    "</center>\n",
    "\n",
    "   De esta manera podríamos ver que cada documento es una combinación de temas. El documento 1 sería 100% sobre aviones, el documento 2 sería 50% sobre aviones y 50% sobre automóviles, el documento 5 sería 100% sobre barcos, etc.\n",
    "\n",
    "\n",
    "3. Generamos cada palabra en el documento siguiendo el siguiente esquema:\n",
    "    \n",
    "    3.1. Elegimos un tema, de acuerdo con la distribución multinomial que obtuvimos en el paso anterior, por ejemplo, podemos elegir el tópico de aviones con probabilidad 1/3 y el tópico de automóviles con 2/3.\n",
    "    \n",
    "    3.2 Usando el tópico generamos la palabra (de acuerdo con la distribución multinomial). Por ejemplo, si seleccionamos el tema de aviones, podríamos generar la palabra “piloto” con probabilidad del 20%, y “equipaje” con probabilidad del 10%, y así sucesivamente.\n",
    "\n",
    "Formalmente, definimos una palabra como un ítem de un vocabulario indexado por $\\{1, \\cdots, V\\}$. Las palabras se representan  mediante vectores de base uno, es decir, un vector donde sólo un elemento es 1 y el resto son 0. Así, usando superíndices para denotar componentes, la v-ésima palabra en el vocabulario se representa mediante un V-vector $w$ tal que $w^v = 1$ y $w^u = 0$ para $u\\neq v$. Un *documento* es una secuencia de $N$ palabras denotadas por $\\mathbf{w}=(w_1,w_2,\\cdots,w_N)$, en donde $w_n$ es la n-ésima palabra de la secuencia. Un *corpus* es una colección de $M$ documentos denotados por $\\mathbf{D}=(\\mathbf{w_1},\\mathbf{w_2},\\cdots,\\mathbf{w_m})$.\n",
    "\n",
    "Así, para cada documento del corpus $D$, LDA supone los siguientes pasos que generan cada documento:\n",
    "\n",
    "1. Decidimos $N\\sim Poisson(\\xi)$, donde $N$ son palabras del documento que surgen de un proceso de Poisson  con parámetro $\\xi$\n",
    "2. Elegimos  $\\theta\\sim Dir(\\alpha)$ donde $\\theta$  es la distribución de temas que asumimos surgen de una distribución Dirichlet con $K$ categorías.\n",
    "3. Generamos $N$ palabras, $w_n$:\n",
    "\n",
    "    3.1. Elegimos un tópico $z_n\\sim Multinomial(\\theta)$, de una distribución multiomial con parámetro $\\theta$\n",
    "  \n",
    "    3.2 Usando el tópico generamos $w_n$ de $p(w_n|z_n, \\beta)$\n",
    "\n",
    "\n",
    "Estos 3 pasos se repiten para cada documento en el corpus.\n",
    "\n",
    "Es importante que notemos que este modelo inicial cuenta con algunas simplificaciones:   \n",
    "\n",
    "  - En primer lugar, la dimensionalidad $K$ de la distribución Dirichlet (y por consiguiente la dimensionalidad de la variable de los temas $z$) se supone fija y conocida. \n",
    "  - Segundo, las probabilidades de cada palabra son parametrizadas por una matriz $\\beta$ de tamaño $k\\times V$ en donde $\\beta_{ij}=p(w^j = 1|z^i = 1)$, que trataremos como una cantidad fija que será estimada. \n",
    "\n",
    "Tomando como dados los parámetros $\\alpha$ y $\\beta$, la distribución de probabilidad conjunta de una mezcla de temas $\\theta$, un conjunto de $N$ temas $\\mathbf{z}$ y un conjunto de $N$ palabras $\\mathbf{w}$ esta dada por:\n",
    "\n",
    "$$p(\\theta, \\mathbf{z}, \\mathbf{w}|\\alpha, \\beta) = p(\\theta|\\alpha)\\prod_{n=1}^N p(z_n|\\theta)p(w_n|z_n, \\beta)$$\n",
    "\n",
    "Notemos que el lado izquierdo de esta ecuación ($p(\\theta, \\mathbf{z}, \\mathbf{w}|\\alpha, \\beta)$) corresponde a la probabilidad de que un documento $x$ aparezca en nuestro corpus. De este modo, nuestro objetivo será estimar $\\alpha$ y $\\beta$ de modo que se maximice la probabilidad de encontrar nuestra muestra de documentos.\n",
    "\n",
    "Podemos representar la solución LDA a través de una gráfica, que nos permitirá entender un poco mejor la intuición detrás del problema: \n",
    "\n",
    "<center>\n",
    "<img src = \"figs/topicos4.jpeg\" alt = \"LDA1\" style = \"width: 500px;\"/>\n",
    "</center>\n",
    "\n",
    "\n",
    "Las cajas son \"placas\" que utilizamos  para representar los 2 pasos iterativos del proceso. Dado que el proceso lo ejecutamos para cada documento del corpus, la placa externa (etiquetada como M) representa la iteración sobre cada documento. Mientras que, la iteración sobre palabras en el Paso 3 está representada por la placa  interna del diagrama, etiquetada como N. Los círculos representan los parámetros, las distribuciones y los resultados. El círculo etiquetado como W es la palabra seleccionada, que es el único dato conocido y, como tal, se utiliza para realizar \"ingeniería inversa\" en el proceso. Además de W, las otras 4 variables en el diagrama se definen de la siguiente manera:\n",
    "\n",
    "- $\\alpha$: hiperparámetro del documento del tópico para la distribución de Dirichlet.\n",
    "- $\\beta$: distribución de palabras para cada tópico.\n",
    "- $z$: variable latente del tópico.\n",
    "- $\\theta$: variable latente para la distribución de temas de cada documento.\n",
    "\n",
    "$\\alpha$ y $\\beta$ controlan la frecuencia de temas de los documentos y la frecuencia de palabra en los temas. Si $\\alpha$ aumenta, los documentos se vuelven cada vez más similares a medida que aumenta el número de temas en cada documento. Por otro lado, si $\\alpha$ disminuye, los documentos se vuelven cada vez más disímiles a medida que disminuye el número de temas en cada documento. \n",
    "\n",
    "El parámetro $\\beta$  se comporta de manera similar. Si $\\beta$ aumenta, se usan más palabras del documento para modelar un tema, mientras que un valor más bajo hace que se use una cantidad menor de palabras para un temas. Dada la complejidad de las distribuciones en LDA, no existe una solución directa, por lo que se requiere algún tipo de algoritmo de aproximación para generar los resultados. "
   ]
  },
  {
   "cell_type": "markdown",
   "metadata": {},
   "source": [
    "### Inferencia variacional\n",
    "\n",
    "El principal desafío  de este modelo es el cálculo de la distribución posterior:\n",
    "\n",
    "$$p(\\theta, \\mathbf{z}|\\mathbf{w},\\alpha, \\beta)=\\frac{p(\\theta, \\mathbf{z}, \\mathbf{w}|\\alpha, \\beta)}{p(\\mathbf{w}|\\alpha, \\beta)}$$\n",
    "\n",
    "Desafortunadamente, esta distribución no se puede calcular directamente, por ende se debe aproximar numéricamente. La inferencia variacional es uno de los algoritmos de aproximación más simples, pero tiene una derivación extensa que requiere un conocimiento significativo de la probabilidad y es material para cursos más avanzados.\n",
    "\n",
    "Sin embargo, en este *cuaderno* describiremos la intuición detrás de un algoritmo variacional simple basado en la convexidad. \n",
    "\n",
    "#### Intuición\n",
    "\n",
    "\n",
    "La intuición detrás de la inferencia variacional es que, si la distribución real es intratable, entonces se debe encontrar una distribución más simple, muy cercana a la distribución verdadera, que es manejable, para que la inferencia sea posible. En otras palabras, dado que es imposible inferir la distribución real debido a su  complejidad, buscamos encontrar una distribución más simple que sea una buena aproximación de la distribución real.\n"
   ]
  },
  {
   "cell_type": "markdown",
   "metadata": {},
   "source": [
    "<center>\n",
    "<img src = \"figs/topicos5.jpeg\" alt = \"LDA1\" style = \"width: 500px;\"/>\n",
    "</center>\n",
    "\n"
   ]
  },
  {
   "cell_type": "markdown",
   "metadata": {},
   "source": [
    "La inferencia variacional es como tratar de ver animales en un zoológico lleno de gente. Los animales del zoológico están en un hábitat cerrado que, en este ejemplo, es la distribución posterior. Los visitantes en realidad no pueden ingresar al hábitat, por lo que los visitantes deben conformarse con ver el hábitat desde la posición más cercana posible, que es la aproximación posterior (es decir, la mejor aproximación del hábitat). Si hay mucha gente en el zoológico, puede ser difícil llegar a ese punto de vista óptimo. La gente generalmente comienza en la parte de atrás de la multitud y avanza estratégicamente hacia ese punto de vista óptimo. El paso de los visitantes desde la parte trasera de la multitud al punto de vista óptimo es el camino de optimización. La inferencia variacional es simplemente el proceso de acercarse lo mejor posible al punto deseado sabiendo que en realidad no se puede alcanzar el punto deseado.\n",
    "\n",
    "Con la intuición  desarrollada veamos una aplicación en `Python`."
   ]
  },
  {
   "cell_type": "markdown",
   "metadata": {},
   "source": [
    "## LDA en `Python`\n",
    "\n",
    "\n",
    "Ilustremos ahora la implementación de LDA en `Phyton`. Para ello vamos a usar textos que contienen  páginas sobre distintos ensayos. Por la frecuencia de palabras tenemos la sospecha de que estas páginas se refieren a [Chomsky](https://en.wikipedia.org/wiki/Noam_Chomsky), [Freud](https://en.wikipedia.org/wiki/Sigmund_Freud), y [Voltaire](https://en.wikipedia.org/wiki/Voltaire). El objetivo será entonces ver si podemos encontrar de forma no supervisada estas páginas."
   ]
  },
  {
   "cell_type": "code",
   "execution_count": 1,
   "metadata": {},
   "outputs": [
    {
     "data": {
      "text/html": [
       "<div>\n",
       "<style scoped>\n",
       "    .dataframe tbody tr th:only-of-type {\n",
       "        vertical-align: middle;\n",
       "    }\n",
       "\n",
       "    .dataframe tbody tr th {\n",
       "        vertical-align: top;\n",
       "    }\n",
       "\n",
       "    .dataframe thead th {\n",
       "        text-align: right;\n",
       "    }\n",
       "</style>\n",
       "<table border=\"1\" class=\"dataframe\">\n",
       "  <thead>\n",
       "    <tr style=\"text-align: right;\">\n",
       "      <th></th>\n",
       "      <th>texto</th>\n",
       "      <th>titulo</th>\n",
       "      <th>pagina</th>\n",
       "    </tr>\n",
       "  </thead>\n",
       "  <tbody>\n",
       "    <tr>\n",
       "      <th>0</th>\n",
       "      <td>Introducción Noam Chomsky. Avram Noam Chomsky ...</td>\n",
       "      <td>Chomsky</td>\n",
       "      <td>1</td>\n",
       "    </tr>\n",
       "    <tr>\n",
       "      <th>1</th>\n",
       "      <td>toda su construcción intelectual. Si de algo n...</td>\n",
       "      <td>Chomsky</td>\n",
       "      <td>2</td>\n",
       "    </tr>\n",
       "    <tr>\n",
       "      <th>2</th>\n",
       "      <td>tales como la ya lejana Guerra de Vietnam (la ...</td>\n",
       "      <td>Chomsky</td>\n",
       "      <td>3</td>\n",
       "    </tr>\n",
       "    <tr>\n",
       "      <th>3</th>\n",
       "      <td>un sistema de financiación sin parangón, que d...</td>\n",
       "      <td>Chomsky</td>\n",
       "      <td>4</td>\n",
       "    </tr>\n",
       "    <tr>\n",
       "      <th>4</th>\n",
       "      <td>de la lingüística y de las ciencias cognitivas...</td>\n",
       "      <td>Chomsky</td>\n",
       "      <td>5</td>\n",
       "    </tr>\n",
       "  </tbody>\n",
       "</table>\n",
       "</div>"
      ],
      "text/plain": [
       "                                               texto   titulo  pagina\n",
       "0  Introducción Noam Chomsky. Avram Noam Chomsky ...  Chomsky       1\n",
       "1  toda su construcción intelectual. Si de algo n...  Chomsky       2\n",
       "2  tales como la ya lejana Guerra de Vietnam (la ...  Chomsky       3\n",
       "3  un sistema de financiación sin parangón, que d...  Chomsky       4\n",
       "4  de la lingüística y de las ciencias cognitivas...  Chomsky       5"
      ]
     },
     "execution_count": 1,
     "metadata": {},
     "output_type": "execute_result"
    }
   ],
   "source": [
    "# Cargamos las librerías a utilizar\n",
    "import pandas as pd\n",
    "import numpy as np\n",
    "\n",
    "# Cargamos los datos \n",
    "ensayos= pd.read_csv('data/ensayos.csv', sep=',')\n",
    "ensayos.head()"
   ]
  },
  {
   "cell_type": "code",
   "execution_count": 2,
   "metadata": {},
   "outputs": [
    {
     "data": {
      "text/plain": [
       "(269, 3)"
      ]
     },
     "execution_count": 2,
     "metadata": {},
     "output_type": "execute_result"
    }
   ],
   "source": [
    "ensayos.shape"
   ]
  },
  {
   "cell_type": "markdown",
   "metadata": {},
   "source": [
    "Los datos entonces contienen 269 entradas donde fueron catalogadas como pertenecientes a alguno de estos 3 autores. De estas, 101 páginas se refieren a Voltaire, 85 a Freud, y 83 a Chomsky. En nuestra tarea no supervisada ignoraremos por ahora esta información."
   ]
  },
  {
   "cell_type": "code",
   "execution_count": 3,
   "metadata": {},
   "outputs": [
    {
     "data": {
      "text/plain": [
       "titulo\n",
       "Voltaire    101\n",
       "Freud        85\n",
       "Chomsky      83\n",
       "Name: count, dtype: int64"
      ]
     },
     "execution_count": 3,
     "metadata": {},
     "output_type": "execute_result"
    }
   ],
   "source": [
    "ensayos.titulo.value_counts()"
   ]
  },
  {
   "cell_type": "markdown",
   "metadata": {},
   "source": [
    "Antes de proceder con el análisis de datos tenemos que normalizar, para ello cargaremos las librerías y utilizaremos la función que creamos en el *cuaderno: Sistemas de Recomendación basado en Contenidos* "
   ]
  },
  {
   "cell_type": "code",
   "execution_count": 4,
   "metadata": {},
   "outputs": [],
   "source": [
    "# Cargamos las librerías a utilizar\n",
    "import unidecode\n",
    "import re\n",
    "import spacy\n",
    "\n",
    "# Cargamos el modelo para el idioma deseado (por ejemplo, español)\n",
    "nlp = spacy.load(\"es_core_news_sm\")\n",
    "\n",
    "\n",
    "# Cargamos las stopwords extra\n",
    "extra_stopwords = pd.read_csv('data/extra_stopwords.csv', sep=',',header=None)\n",
    "extra_stopwords.columns = ['stopwords']\n",
    "extra_stopwords=set(extra_stopwords['stopwords'].to_list())\n",
    "\n",
    "# Agregamos a nuestro modelo de SpaCy\n",
    "nlp.Defaults.stop_words |= extra_stopwords\n",
    "\n",
    "\n",
    "# Definimos nuestra función limpiadora\n",
    "def text_cleaning(txt):\n",
    "    \n",
    "    # Eliminar caracteres especiales\n",
    "    out = unidecode.unidecode(txt)\n",
    "    out = re.sub(\"[^\\\\w\\\\s]|\\n\", ' ', out)\n",
    "    out = re.sub(\"\\d+\", \"\", out)\n",
    "    out = re.sub('tv', ' ', out)\n",
    "    out = re.sub('miniserie', 'miniseriedetv', out)\n",
    "    out = re.sub('\\s+', ' ', out)\n",
    "    # Poner en minúsculas\n",
    "    out = out.lower()\n",
    "    #NLP object\n",
    "    out = nlp(out)\n",
    "    # Eliminar Stopwords\n",
    "    out = [token.text for token in out if not token.is_stop]\n",
    "    out = \" \".join(out)\n",
    "    # Obtener los lemas de cada palabra\n",
    "    lemmas =[token.lemma_ for token in nlp(out)]\n",
    "    # Convertir la lista de lemmas nuevamente a texto\n",
    "    out = \" \".join(lemmas)\n",
    "    # Remover palabras muy cortas\n",
    "    out = [token.text for token in nlp(out) if len(token) > 2]\n",
    "    \n",
    "    return out"
   ]
  },
  {
   "cell_type": "markdown",
   "metadata": {},
   "source": [
    "Aplicamos esta función sobre las filas que contienen el texto:"
   ]
  },
  {
   "cell_type": "code",
   "execution_count": 5,
   "metadata": {},
   "outputs": [],
   "source": [
    "clean = list(map(text_cleaning, ensayos['texto']))"
   ]
  },
  {
   "cell_type": "markdown",
   "metadata": {},
   "source": [
    "Así la fila 100 lucirá de la siguiente manera y podemos ver que se refiere a Freud:"
   ]
  },
  {
   "cell_type": "code",
   "execution_count": 6,
   "metadata": {},
   "outputs": [
    {
     "name": "stdout",
     "output_type": "stream",
     "text": [
      "['serio', 'candidatura', 'premio', 'nobel', 'freud', 'escribio', 'publico', 'magistral', 'libro', 'malestar', 'cultura', 'contribución', 'significativo', 'autor', 'pensamiento', 'contemporaneo', 'obstante', 'progresion', 'cancer', 'consecuent', 'dolor', 'seriar', 'unico', 'motivo', 'preocupacion', 'freud', 'ano', 'venidero', 'fruto', 'persecucion', 'nazi', 'freud', 'ver', 'obligado', 'abandonar', 'viena', 'refugiar', 'amado', 'londr', 'freud', 'llego', 'londres', 'recuperar', 'viaje', 'animo', 'reemprender', 'escrito', 'epocar', 'termino', 'ultima', 'obra', 'moises', 'religion', 'monoteista', 'labor', 'terapeutar', 'paciente', 'obstante', 'cancer', 'progreso', 'devino', 'inoperable', 'largo', 'agonia', 'soporto', 'estoicamente', 'murio', 'noche', 'septiembre', 'ceniza', 'reposar', 'golders', 'green', 'londres', 'freud', 'gestapo', 'estallido', 'guerra', 'mundial', 'adolf', 'hitler', 'promover', 'durisima', 'represalia', 'comunidad', 'judia', 'alemán', 'judio', 'austriaco', 'temiar', 'medida', 'extender', 'territorio', 'principio', 'freud', 'encontrar', 'respondio', 'ironia', 'noticia', 'libro', 'psicoanalista', 'habiar', 'quemado', 'publicamente', 'berlin', 'progresamos', 'exclamo', 'edad', 'medio', 'quemado', 'conformar', 'quemar', 'libro', 'dejar', 'oportuno', 'mentar', 'palabra', 'premonitoria', 'heinrich', 'heinar', 'poeta', 'romantico', 'origen', 'judio', 'dejar', 'escrita', 'quemar', 'libro', 'acabar', 'quemar', 'ser', 'humano', 'efecto', 'nacionalismo', 'antisemitar', 'violento', 'extremo', 'extendio', 'polvoro', 'austria', 'freud', 'termino', 'aceptar', 'necesidad', 'abandonar', 'viena', 'movio', 'cielo', 'tierra', 'salvoconducto', 'allegado', 'presidente', 'roosevelt', 'intercedio', 'favor', 'finalmente', 'nazi', 'acceder', 'reganadient', 'freud', 'obligado', 'firmar', 'carta', 'dejar', 'constancia', 'persona', 'excelente', 'trato', 'recibido', 'autoridad', 'nazi', 'circunstancia', 'luctuoso', 'freud', 'respondio', 'sarcasmo', 'pedir', 'anadir', 'ultima', 'line']\n"
     ]
    }
   ],
   "source": [
    "print(clean[100])"
   ]
  },
  {
   "cell_type": "markdown",
   "metadata": {},
   "source": [
    "### Modelado de temas con [Gensim](https://radimrehurek.com)\n",
    "\n",
    "Con los datos tokenizados vamos a cargar la primero utilizaremos la librería  [gensim](https://radimrehurek.com/gensim/index.html) que contiene múltiples  funciones que facilitan el modelado de temas. \n",
    "\n",
    "El primer paso es generar una representación de diccionario del documento, esto en términos de [gensim](https://radimrehurek.com/gensim/index.html), implica crear un mapeo entre palabras y un identificador."
   ]
  },
  {
   "cell_type": "code",
   "execution_count": 7,
   "metadata": {},
   "outputs": [
    {
     "data": {
      "text/plain": [
       "<gensim.corpora.dictionary.Dictionary at 0x289a6cd00>"
      ]
     },
     "execution_count": 7,
     "metadata": {},
     "output_type": "execute_result"
    }
   ],
   "source": [
    "# Cargamos la función \n",
    "from gensim.corpora import Dictionary\n",
    "\n",
    "# Creamos la representación de diccionario del documento\n",
    "dictionary = Dictionary(clean)\n",
    "dictionary"
   ]
  },
  {
   "cell_type": "markdown",
   "metadata": {},
   "source": [
    "Ahora haremos un paso opcional, y es el uso de la función `filter_extremes` para remover palabras que aparecen en menos de 20 páginas o en más de 50% de las páginas: "
   ]
  },
  {
   "cell_type": "code",
   "execution_count": 8,
   "metadata": {},
   "outputs": [],
   "source": [
    "dictionary.filter_extremes(no_below=20, no_above=0.5)"
   ]
  },
  {
   "cell_type": "markdown",
   "metadata": {},
   "source": [
    "Estamos en condiciones de vectorizar el documento usando la función `doc2bow` que va a crear el corpus con la matriz de frecuencia de los documentos:"
   ]
  },
  {
   "cell_type": "code",
   "execution_count": 9,
   "metadata": {},
   "outputs": [],
   "source": [
    "corpus = [dictionary.doc2bow(doc) for doc in clean]"
   ]
  },
  {
   "cell_type": "markdown",
   "metadata": {},
   "source": [
    "Con esto podemos ver el número de palabras únicas con el que vamos a estimar LDA:"
   ]
  },
  {
   "cell_type": "code",
   "execution_count": 10,
   "metadata": {},
   "outputs": [
    {
     "name": "stdout",
     "output_type": "stream",
     "text": [
      "Numero de palabras únicas: 295\n"
     ]
    }
   ],
   "source": [
    "print('Numero de palabras únicas: %d' % len(dictionary))"
   ]
  },
  {
   "cell_type": "markdown",
   "metadata": {},
   "source": [
    "Estamos listos para estimar LDA utilizando la función [LDAModel](https://radimrehurek.com/gensim/models/ldamodel.html?highlight=ldamodel#module-gensim.models.ldamode) disponible en [gensim](https://radimrehurek.com/gensim/index.html). Carguemos entonces esta función:"
   ]
  },
  {
   "cell_type": "code",
   "execution_count": 11,
   "metadata": {},
   "outputs": [],
   "source": [
    "from gensim.models import LdaModel"
   ]
  },
  {
   "cell_type": "markdown",
   "metadata": {},
   "source": [
    "Antes de apicarla, discutiremos algunos de los parámetros:\n",
    "\n",
    "   - `corpus` es donde especificamos la matriz de frecuencia de los documentos.\n",
    "   \n",
    "   - `id2word` es donde especificamos el diccionario que mapea palabras con identificadores, este sirve para determinar el tamaño del vocabulario y para mostrar luego los temas con las palabras encontradas.\n",
    "   \n",
    "   - `num_topics` donde especificamos el número de temas a buscar.  \n",
    "   \n",
    "   - `chunksize` controla cuántos documentos se procesan a la vez en el entrenamiento. Aumentar el tamaño de los fragmentos acelerará el entrenamiento, siempre y cuando el fragmento de documentos entre fácilmente en la memoria.  \n",
    "   \n",
    "   - `passes` controla la frecuencia con la que entrenamos el modelo en todo el corpus.\n",
    "   \n",
    "   - `iterations` controla la frecuencia con la que repetimos un bucle particular sobre cada documento. Cuando entrenamos  es importante establecer el número de \"passes\" e \"iterations\" lo suficientemente alto.\n",
    "   \n",
    "   - `alpha` es el parámetro que controla el \"prior\" de la distribución de temas. \n",
    "   \n",
    "   - `eta` es el parámetro que controla el \"prior\" de la distribución de palabras-temas.\n",
    "   \n",
    "Estimemos el modelo:"
   ]
  },
  {
   "cell_type": "code",
   "execution_count": 12,
   "metadata": {},
   "outputs": [],
   "source": [
    "Estimacion = LdaModel(\n",
    "    corpus=corpus,\n",
    "    id2word=dictionary,\n",
    "    num_topics=3,\n",
    "    chunksize=1000,\n",
    "    passes=20,\n",
    "    iterations=400,\n",
    "    alpha='auto',\n",
    "    eta='auto',\n",
    "    random_state=123,\n",
    "    eval_every=None\n",
    ")"
   ]
  },
  {
   "cell_type": "markdown",
   "metadata": {},
   "source": [
    "Notemos que elegimos 3 temas ya que tenemos la sospecha de que los textos se refieren a 3 escritores distintos. Vamos a fijar `chunksize = 1000`, que es más que la cantidad de documentos, así procesamos todos los datos de una sola vez. No obstante, el tamaño de los fragmentos puede influir en la calidad del modelo (Hoffman et al., 2010). Por eso, los invito a que prueben con distintos tamaños. Especificamos también 20 passes y 400 iteraciones. Es importante asignar estos parámetros lo suficientemente altos de forma tal que haya convergencia en la estimación. Nuevamente los invito a que prueben con distintos valores. Fijamos `alpha = 'auto'` y `eta = 'auto'` de forma que el modelo \"aprenda\" automáticamente estos 2 parámetros. Luego, establecemos el `random_state` para lograr reproducibilidad y finalmente fijamos `eval_every=None`. Esto evitará el cálculo de la perplejidad, que discutiremos más adelante, haciendo que el proceso sea más rápido."
   ]
  },
  {
   "cell_type": "markdown",
   "metadata": {},
   "source": [
    "Con el modelo estimado podemos utilizar `pprint` para ver los temas con las palabras asociadas y su peso dentro del tema."
   ]
  },
  {
   "cell_type": "code",
   "execution_count": 13,
   "metadata": {},
   "outputs": [
    {
     "name": "stdout",
     "output_type": "stream",
     "text": [
      "[(0,\n",
      "  '0.079*\"freud\" + 0.024*\"hombre\" + 0.022*\"humano\" + 0.014*\"psicoanalisis\" + '\n",
      "  '0.012*\"sexual\" + 0.012*\"caso\" + 0.012*\"deseo\" + 0.011*\"sociedad\" + '\n",
      "  '0.010*\"inconsciente\" + 0.010*\"mente\"'),\n",
      " (1,\n",
      "  '0.047*\"chomsky\" + 0.040*\"lenguaje\" + 0.033*\"linguistico\" + 0.020*\"humano\" + '\n",
      "  '0.020*\"teoria\" + 0.020*\"generativo\" + 0.018*\"mente\" + 0.018*\"frase\" + '\n",
      "  '0.017*\"ejemplo\" + 0.017*\"estructura\"'),\n",
      " (2,\n",
      "  '0.074*\"voltaire\" + 0.024*\"hombre\" + 0.017*\"diccionario\" + 0.014*\"obra\" + '\n",
      "  '0.014*\"ano\" + 0.013*\"mundo\" + 0.013*\"historia\" + 0.013*\"filosofico\" + '\n",
      "  '0.012*\"filosofo\" + 0.012*\"rousseau\"')]\n"
     ]
    }
   ],
   "source": [
    "from pprint import pprint\n",
    "\n",
    "pprint(Estimacion.print_topics())"
   ]
  },
  {
   "cell_type": "markdown",
   "metadata": {},
   "source": [
    "Vemos entonces que Freud tiene el mayor peso en el primer tema, Chomsky en el segundo, y Voltaire en el tercero. El modelo parece haber hecho un gran trabajo encontrando los 3 autores."
   ]
  },
  {
   "cell_type": "markdown",
   "metadata": {},
   "source": [
    "Podemos también generar una visualización interactiva de los resultados utilizando [pyLDAvis](https://pyldavis.readthedocs.io/en/latest/readme.html) que permite ayudar a la interpretación de los temas:"
   ]
  },
  {
   "cell_type": "code",
   "execution_count": 15,
   "metadata": {},
   "outputs": [
    {
     "data": {
      "text/html": [
       "\n",
       "<link rel=\"stylesheet\" type=\"text/css\" href=\"https://cdn.jsdelivr.net/gh/bmabey/pyLDAvis@3.4.0/pyLDAvis/js/ldavis.v1.0.0.css\">\n",
       "\n",
       "\n",
       "<div id=\"ldavis_el8804109693232163112213545\" style=\"background-color:white;\"></div>\n",
       "<script type=\"text/javascript\">\n",
       "\n",
       "var ldavis_el8804109693232163112213545_data = {\"mdsDat\": {\"x\": [-0.17972008293167752, 0.13816190754756463, 0.04155817538411317], \"y\": [-0.035876917075573986, -0.08217883042852642, 0.11805574750410043], \"topics\": [1, 2, 3], \"cluster\": [1, 1, 1], \"Freq\": [37.23311291615538, 31.464056431844273, 31.302830652000353]}, \"tinfo\": {\"Term\": [\"freud\", \"voltaire\", \"chomsky\", \"lenguaje\", \"linguistico\", \"generativo\", \"frase\", \"diccionario\", \"gramatico\", \"hombre\", \"psicoanalisis\", \"sexual\", \"rousseau\", \"regla\", \"deseo\", \"gramatica\", \"rey\", \"mente\", \"inconsciente\", \"estructura\", \"sexualidad\", \"teoria\", \"lengua\", \"tolerancia\", \"fanatismo\", \"sociedad\", \"escribir\", \"cognitiva\", \"historia\", \"ley\", \"linguistico\", \"chomsky\", \"generativo\", \"gramatico\", \"frase\", \"gramatica\", \"lenguaje\", \"cognitiva\", \"sintaxis\", \"cognitivo\", \"especifico\", \"regla\", \"concepto\", \"lengua\", \"estructura\", \"simple\", \"formal\", \"hipotesis\", \"aprender\", \"desarrollar\", \"fundamental\", \"representacion\", \"base\", \"nivel\", \"disciplina\", \"consistir\", \"sistema\", \"explicar\", \"facultad\", \"fenomeno\", \"mental\", \"ciencia\", \"teoria\", \"estudio\", \"mente\", \"forma\", \"luis\", \"ejemplo\", \"pensamiento\", \"proceso\", \"humano\", \"idea\", \"aspecto\", \"politico\", \"palabra\", \"punto\", \"filosofia\", \"visto\", \"voltaire\", \"diccionario\", \"rousseau\", \"tolerancia\", \"fanatismo\", \"voltairar\", \"rey\", \"mil\", \"ley\", \"hacer\", \"hijo\", \"carta\", \"escribir\", \"pueblo\", \"habrio\", \"espiritu\", \"mano\", \"tratado\", \"comun\", \"joven\", \"decidir\", \"casa\", \"tierra\", \"vivir\", \"libertad\", \"celebrar\", \"servir\", \"dejar\", \"dio\", \"publicar\", \"historia\", \"articulo\", \"guerra\", \"antiguo\", \"moral\", \"filosofo\", \"libro\", \"hombre\", \"filosofico\", \"obra\", \"mundo\", \"ano\", \"cosa\", \"religion\", \"escrito\", \"vida\", \"tiempo\", \"razon\", \"sociedad\", \"politico\", \"caso\", \"idea\", \"freud\", \"psicoanalisis\", \"sexual\", \"deseo\", \"inconsciente\", \"sexualidad\", \"psique\", \"impulso\", \"sentimiento\", \"cultura\", \"medico\", \"caracter\", \"racional\", \"consciente\", \"afirmar\", \"podiar\", \"mayorio\", \"tenia\", \"arte\", \"sujeto\", \"fuerza\", \"oscuro\", \"origen\", \"desear\", \"amor\", \"madre\", \"placer\", \"necesidad\", \"serie\", \"cultural\", \"camino\", \"termino\", \"sociedad\", \"hombre\", \"humano\", \"caso\", \"naturaleza\", \"nino\", \"vida\", \"padre\", \"religioso\", \"momento\", \"mente\", \"considerar\", \"realidad\", \"ejemplo\", \"resultar\"], \"Freq\": [367.0, 346.0, 260.0, 221.0, 182.0, 108.0, 99.0, 77.0, 90.0, 228.0, 66.0, 57.0, 56.0, 77.0, 54.0, 64.0, 58.0, 149.0, 48.0, 107.0, 45.0, 144.0, 82.0, 42.0, 41.0, 93.0, 49.0, 44.0, 77.0, 42.0, 181.39404530948374, 259.2879305587185, 107.61504836459542, 89.90125752831909, 98.6193029431329, 64.3068327102218, 218.65230512819102, 43.633100829193225, 37.728037623796155, 33.78425053353558, 34.710296538063744, 74.38965260060048, 30.83108091330731, 72.36833123650345, 92.47332482994562, 27.827046336430087, 20.99218701545333, 21.524141482773434, 27.82249454804161, 27.6959394877351, 27.624361336734097, 35.1411539952467, 18.99111088094705, 25.24718473648442, 21.93676110018863, 17.961956640681986, 32.01146192981821, 40.50821371341752, 27.87107082457389, 16.65971555458437, 45.89907826198627, 61.52403294931584, 108.09177915430693, 53.27500585579803, 100.44534747099542, 84.68676966543475, 39.119273844441906, 93.93160531349533, 58.7656543002694, 50.418492694843664, 109.55372152604332, 76.19363374070134, 35.4988759760755, 49.29430836463901, 40.67076370257581, 40.340367795184775, 39.25998803525796, 37.698358940629504, 345.6016782530237, 76.6669041575381, 55.956333949223584, 41.43499651442414, 40.44836109918515, 26.73141206408367, 55.77057320707388, 26.672143318883002, 39.455895404493376, 24.57795793818231, 33.036126725647875, 41.904215157381884, 45.135516805795184, 29.552884828694438, 33.44537863220286, 23.80067666430186, 20.852932321016407, 23.762259055661563, 18.82899121900069, 23.67154396998763, 17.89753708655135, 20.92904145456975, 19.63331695075792, 29.06578853491651, 24.23790656495438, 16.409204827822528, 21.06426590491711, 45.13948001280645, 33.392259989049116, 20.156557519601524, 60.88997347160198, 38.9225393656281, 29.030288226966075, 27.38579286230883, 36.1357673524824, 56.91859369647616, 43.19609098524657, 110.9188148652051, 59.19830643527137, 65.39153266928633, 61.07202600043034, 65.08127017754713, 45.69346893092123, 42.07093348939893, 39.717717738999994, 47.76303229379947, 41.13467445466521, 38.93942081228678, 41.73317489841689, 34.704008037020465, 35.13704350757, 33.70923659430196, 366.6459593829137, 65.77528270022518, 56.971563103543225, 54.013993243397564, 48.193319708403735, 45.25587712242182, 24.748252944150334, 34.39185948391936, 39.16847098211416, 42.0756259117813, 30.463631295773308, 39.24654640280746, 24.101972233443334, 35.27046380367969, 19.09267594460372, 35.51552766339467, 17.773218319021208, 24.10704597484757, 22.604326314667386, 41.35633707211395, 31.050304144542245, 20.089479090068895, 29.207338525837887, 29.042233390828972, 25.2582263020983, 34.37278350617369, 23.638451557919648, 16.8641823002876, 14.813682384081405, 15.293095049630558, 19.651952739680212, 34.27830012175279, 51.615369095202865, 109.73908427646916, 102.89365257080708, 55.13837733638457, 44.64052688526682, 32.876124387103054, 44.381718776061476, 34.588013336453685, 34.52888704997094, 34.079355711446134, 48.07855425770845, 35.42088303719186, 36.97308887518673, 37.70692387347317, 33.13741991953074], \"Total\": [367.0, 346.0, 260.0, 221.0, 182.0, 108.0, 99.0, 77.0, 90.0, 228.0, 66.0, 57.0, 56.0, 77.0, 54.0, 64.0, 58.0, 149.0, 48.0, 107.0, 45.0, 144.0, 82.0, 42.0, 41.0, 93.0, 49.0, 44.0, 77.0, 42.0, 182.14069105627996, 260.90157733060926, 108.29800127012227, 90.57569662405395, 99.43592934689204, 64.97677906745415, 221.5108893999702, 44.300696249440705, 38.393276504556475, 34.45494083126668, 35.43905702123641, 77.76011499396022, 34.43301780902591, 82.64153005312326, 107.20987534534376, 32.457950240872776, 24.585905113867977, 25.572070452927992, 33.43874573808598, 33.43229902431448, 33.43702085783327, 43.259358010154145, 23.594990745901015, 31.459693449964988, 27.527539294035808, 22.613667929137968, 40.311588604977224, 51.12271858325723, 35.38928598636286, 21.623810400986073, 59.94988430225246, 80.60981548753341, 144.45834824555192, 72.7156892219769, 149.27788579043164, 126.70203768601986, 52.10569150455282, 152.19721823847826, 88.39788220616475, 75.62680166946258, 235.36845651063305, 140.36246198666706, 47.17219546777651, 85.44480191545186, 80.45449500901098, 81.42145475183096, 73.62682497034717, 63.81861934813422, 346.5410307441145, 77.33597648218324, 56.77814998166456, 42.094574316178466, 41.115659957738, 27.410624495058308, 58.73147765681527, 28.38710529014193, 42.10529779763636, 26.437687932089577, 36.215572105894225, 46.0030691667299, 49.94903611007751, 33.278388189351375, 38.185719778537454, 27.404376277920242, 24.471458647307905, 28.411741053908305, 22.516430734069658, 28.381053466927597, 21.537648514863665, 25.444724933785935, 24.46511890654662, 36.23032156705638, 30.338482831083525, 20.550748016704603, 26.450056183851547, 56.76358898251402, 42.078354464410594, 25.453015647836843, 77.37958738010063, 49.961760815547976, 37.23794361399796, 35.23429114277133, 50.87686917702281, 92.0829169059767, 64.68794158686305, 228.9003760071263, 101.82685839522505, 118.52464225689019, 110.6905343501186, 124.43264656495424, 75.46304689772782, 67.49780569071804, 64.5791690150336, 94.8832894834099, 78.36772757976746, 74.37070801070581, 93.87790787322959, 85.44480191545186, 119.48735135476244, 140.36246198666706, 367.36258561981236, 66.44005586658105, 57.646892330981345, 54.71573711362768, 48.853649357802205, 45.92262390134747, 25.40514181538312, 39.11381190732235, 44.954971006261346, 49.84900392376976, 36.16160716001235, 46.92328878908419, 29.34185117515009, 43.039368224631886, 24.45692385580265, 45.94103492564805, 23.463123771612118, 32.2581376327758, 30.30832046439187, 55.78599886468426, 42.04860973670309, 27.37152169774439, 40.10092485121705, 40.11664391918186, 35.19374542950097, 47.901144017005564, 34.217104728567925, 24.45742702529088, 22.515500707967117, 23.465168053576377, 30.31983984290121, 54.84634363440708, 93.87790787322959, 228.9003760071263, 235.36845651063305, 119.48735135476244, 90.10834995517033, 56.815376867770944, 94.8832894834099, 64.5476367955429, 64.54260479485993, 63.648462148224795, 149.27788579043164, 70.52186319862238, 80.34421599289396, 152.19721823847826, 74.3879197571762], \"Category\": [\"Default\", \"Default\", \"Default\", \"Default\", \"Default\", \"Default\", \"Default\", \"Default\", \"Default\", \"Default\", \"Default\", \"Default\", \"Default\", \"Default\", \"Default\", \"Default\", \"Default\", \"Default\", \"Default\", \"Default\", \"Default\", \"Default\", \"Default\", \"Default\", \"Default\", \"Default\", \"Default\", \"Default\", \"Default\", \"Default\", \"Topic1\", \"Topic1\", \"Topic1\", \"Topic1\", \"Topic1\", \"Topic1\", \"Topic1\", \"Topic1\", \"Topic1\", \"Topic1\", \"Topic1\", \"Topic1\", \"Topic1\", \"Topic1\", \"Topic1\", \"Topic1\", \"Topic1\", \"Topic1\", \"Topic1\", \"Topic1\", \"Topic1\", \"Topic1\", \"Topic1\", \"Topic1\", \"Topic1\", \"Topic1\", \"Topic1\", \"Topic1\", \"Topic1\", \"Topic1\", \"Topic1\", \"Topic1\", \"Topic1\", \"Topic1\", \"Topic1\", \"Topic1\", \"Topic1\", \"Topic1\", \"Topic1\", \"Topic1\", \"Topic1\", \"Topic1\", \"Topic1\", \"Topic1\", \"Topic1\", \"Topic1\", \"Topic1\", \"Topic1\", \"Topic2\", \"Topic2\", \"Topic2\", \"Topic2\", \"Topic2\", \"Topic2\", \"Topic2\", \"Topic2\", \"Topic2\", \"Topic2\", \"Topic2\", \"Topic2\", \"Topic2\", \"Topic2\", \"Topic2\", \"Topic2\", \"Topic2\", \"Topic2\", \"Topic2\", \"Topic2\", \"Topic2\", \"Topic2\", \"Topic2\", \"Topic2\", \"Topic2\", \"Topic2\", \"Topic2\", \"Topic2\", \"Topic2\", \"Topic2\", \"Topic2\", \"Topic2\", \"Topic2\", \"Topic2\", \"Topic2\", \"Topic2\", \"Topic2\", \"Topic2\", \"Topic2\", \"Topic2\", \"Topic2\", \"Topic2\", \"Topic2\", \"Topic2\", \"Topic2\", \"Topic2\", \"Topic2\", \"Topic2\", \"Topic2\", \"Topic2\", \"Topic2\", \"Topic2\", \"Topic3\", \"Topic3\", \"Topic3\", \"Topic3\", \"Topic3\", \"Topic3\", \"Topic3\", \"Topic3\", \"Topic3\", \"Topic3\", \"Topic3\", \"Topic3\", \"Topic3\", \"Topic3\", \"Topic3\", \"Topic3\", \"Topic3\", \"Topic3\", \"Topic3\", \"Topic3\", \"Topic3\", \"Topic3\", \"Topic3\", \"Topic3\", \"Topic3\", \"Topic3\", \"Topic3\", \"Topic3\", \"Topic3\", \"Topic3\", \"Topic3\", \"Topic3\", \"Topic3\", \"Topic3\", \"Topic3\", \"Topic3\", \"Topic3\", \"Topic3\", \"Topic3\", \"Topic3\", \"Topic3\", \"Topic3\", \"Topic3\", \"Topic3\", \"Topic3\", \"Topic3\", \"Topic3\"], \"logprob\": [30.0, 29.0, 28.0, 27.0, 26.0, 25.0, 24.0, 23.0, 22.0, 21.0, 20.0, 19.0, 18.0, 17.0, 16.0, 15.0, 14.0, 13.0, 12.0, 11.0, 10.0, 9.0, 8.0, 7.0, 6.0, 5.0, 4.0, 3.0, 2.0, 1.0, -3.4103, -3.053, -3.9324, -4.1122, -4.0197, -4.4473, -3.2235, -4.8351, -4.9806, -5.091, -5.0639, -4.3016, -5.1824, -4.3292, -4.084, -5.285, -5.5668, -5.5418, -5.2851, -5.2897, -5.2923, -5.0516, -5.667, -5.3822, -5.5228, -5.7227, -5.1449, -4.9095, -5.2834, -5.798, -4.7845, -4.4915, -3.928, -4.6355, -4.0013, -4.172, -4.9443, -4.0684, -4.5374, -4.6906, -3.9145, -4.2777, -5.0415, -4.7132, -4.9054, -4.9136, -4.9408, -4.9813, -2.5973, -4.1031, -4.418, -4.7185, -4.7426, -5.1568, -4.4214, -5.159, -4.7674, -5.2408, -4.945, -4.7072, -4.6329, -5.0564, -4.9327, -5.2729, -5.4051, -5.2745, -5.5072, -5.2783, -5.5579, -5.4015, -5.4654, -5.073, -5.2547, -5.6448, -5.395, -4.6328, -4.9343, -5.4391, -4.3335, -4.781, -5.0743, -5.1326, -4.8553, -4.401, -4.6769, -3.7338, -4.3617, -4.2622, -4.3306, -4.267, -4.6207, -4.7032, -4.7608, -4.5764, -4.7258, -4.7806, -4.7113, -4.8958, -4.8834, -4.9248, -2.5331, -4.2512, -4.3949, -4.4482, -4.5622, -4.6251, -5.2287, -4.8996, -4.7696, -4.698, -5.0209, -4.7676, -5.2552, -4.8744, -5.4882, -4.8675, -5.5598, -5.255, -5.3193, -4.7152, -5.0019, -5.4373, -5.063, -5.0687, -5.2083, -4.9002, -5.2746, -5.6123, -5.7419, -5.7101, -5.4593, -4.903, -4.4936, -3.7394, -3.8038, -4.4276, -4.6388, -4.9447, -4.6446, -4.894, -4.8957, -4.9088, -4.5646, -4.8702, -4.8273, -4.8076, -4.9368], \"loglift\": [30.0, 29.0, 28.0, 27.0, 26.0, 25.0, 24.0, 23.0, 22.0, 21.0, 20.0, 19.0, 18.0, 17.0, 16.0, 15.0, 14.0, 13.0, 12.0, 11.0, 10.0, 9.0, 8.0, 7.0, 6.0, 5.0, 4.0, 3.0, 2.0, 1.0, 0.9839, 0.9818, 0.9816, 0.9805, 0.9797, 0.9776, 0.975, 0.9728, 0.9705, 0.9683, 0.9672, 0.9437, 0.8775, 0.8552, 0.8401, 0.834, 0.8299, 0.8156, 0.8041, 0.7997, 0.797, 0.7801, 0.7709, 0.768, 0.7609, 0.7577, 0.7574, 0.7552, 0.7492, 0.7272, 0.7209, 0.7178, 0.698, 0.6769, 0.5918, 0.5851, 0.7013, 0.5054, 0.5797, 0.5825, 0.2232, 0.377, 0.7037, 0.4379, 0.3058, 0.2857, 0.3592, 0.4615, 1.1536, 1.1476, 1.1417, 1.1405, 1.14, 1.1312, 1.1046, 1.094, 1.0913, 1.0834, 1.0644, 1.063, 1.055, 1.0376, 1.0238, 1.0153, 0.9963, 0.9776, 0.9775, 0.9749, 0.9712, 0.961, 0.9363, 0.936, 0.9318, 0.9313, 0.9286, 0.9272, 0.9251, 0.923, 0.9167, 0.9066, 0.9073, 0.9043, 0.8142, 0.6753, 0.7525, 0.4318, 0.6139, 0.5616, 0.5616, 0.5082, 0.6546, 0.6836, 0.6702, 0.4699, 0.5118, 0.5093, 0.3456, 0.2553, -0.0676, -0.2701, 1.1595, 1.1514, 1.1497, 1.1486, 1.1479, 1.1468, 1.1353, 1.0328, 1.0237, 0.9919, 0.99, 0.9828, 0.9647, 0.9624, 0.9139, 0.9041, 0.8837, 0.8702, 0.8682, 0.8622, 0.8582, 0.8522, 0.8445, 0.8384, 0.8297, 0.8296, 0.7916, 0.7897, 0.7428, 0.7333, 0.7278, 0.6914, 0.5633, 0.4263, 0.334, 0.3881, 0.4591, 0.6144, 0.4016, 0.5376, 0.5359, 0.5368, 0.0285, 0.4728, 0.3853, -0.2339, 0.3528]}, \"token.table\": {\"Topic\": [1, 2, 3, 1, 2, 3, 1, 2, 3, 1, 2, 3, 1, 2, 3, 1, 2, 3, 1, 2, 3, 1, 2, 3, 1, 2, 3, 1, 2, 3, 1, 2, 3, 2, 3, 2, 3, 1, 2, 3, 2, 3, 1, 2, 1, 2, 3, 1, 1, 1, 2, 3, 1, 2, 3, 1, 2, 3, 1, 2, 3, 1, 2, 3, 1, 2, 3, 1, 2, 3, 2, 3, 1, 2, 3, 1, 2, 3, 1, 2, 3, 1, 2, 3, 3, 2, 2, 3, 1, 2, 3, 1, 2, 3, 1, 2, 1, 2, 3, 1, 2, 3, 1, 2, 3, 1, 2, 3, 1, 2, 3, 1, 2, 3, 2, 1, 2, 3, 1, 2, 3, 1, 2, 3, 1, 2, 3, 1, 2, 3, 1, 3, 1, 3, 1, 2, 3, 1, 2, 3, 1, 1, 1, 1, 2, 3, 1, 2, 3, 1, 2, 2, 3, 1, 2, 3, 1, 2, 3, 1, 2, 3, 1, 2, 3, 1, 2, 3, 1, 3, 3, 2, 3, 1, 2, 3, 1, 2, 1, 2, 1, 2, 3, 1, 2, 3, 1, 1, 2, 2, 3, 1, 2, 3, 1, 2, 3, 2, 3, 1, 3, 1, 2, 3, 2, 3, 1, 2, 3, 2, 3, 1, 2, 3, 1, 2, 3, 1, 2, 3, 1, 2, 3, 1, 2, 3, 1, 2, 3, 1, 2, 3, 2, 3, 1, 2, 3, 1, 2, 3, 1, 2, 3, 2, 3, 2, 3, 1, 2, 3, 1, 2, 3, 3, 3, 1, 2, 3, 2, 3, 1, 2, 3, 1, 2, 3, 1, 2, 3, 1, 2, 3, 1, 2, 2, 3, 2, 3, 1, 2, 3, 1, 2, 3, 2, 3, 2, 2, 3, 1, 2, 3, 1, 2, 3, 3, 3, 1, 2, 3, 1, 1, 2, 3, 1, 2, 3, 1, 2, 3, 2, 3, 1, 2, 3, 1, 2, 3, 1, 2, 3, 2, 3, 2, 1, 2, 1, 2, 3, 1, 2, 3, 1, 2, 3, 2, 2, 3], \"Freq\": [0.16355286640232802, 0.040888216600582006, 0.7768761154110582, 0.02841413972272912, 0.2557272575045621, 0.710353493068228, 0.23305780918886032, 0.5223709516302042, 0.24109428536778654, 0.02838144227020046, 0.7662989412954124, 0.19867009589140322, 0.8373519814204224, 0.11962171163148892, 0.02990542790787223, 0.03299424001982766, 0.197965440118966, 0.7588675204560363, 0.1601224590449266, 0.7805969878440172, 0.06004592214184748, 0.7419624983091707, 0.04239785704623833, 0.19079035670807246, 0.805255666535946, 0.042381877186102423, 0.12714563155830727, 0.06596340911966461, 0.26385363647865845, 0.6596340911966461, 0.042622758370365166, 0.10655689592591291, 0.8311437882221206, 0.9129825631367878, 0.0869507202987417, 0.8253184129381508, 0.15720350722631443, 0.242703513561849, 0.2929180336091281, 0.46029976710005843, 0.7785604683096915, 0.19464011707742288, 0.992711514625304, 0.0038328629908312897, 0.7691371035279012, 0.14886524584410993, 0.08683806007573078, 0.9932123809579064, 0.9867960640682965, 0.044412012357131624, 0.843828234785501, 0.08882402471426325, 0.9002986660052197, 0.02904189245178128, 0.05808378490356256, 0.13940725079152386, 0.02323454179858731, 0.8132089629505558, 0.2694199945694452, 0.2268799954269012, 0.49629998999634645, 0.7959787884214394, 0.13266313140357322, 0.04422104380119108, 0.25177886105963854, 0.609569874144388, 0.14576670903452757, 0.02006058138151011, 0.12036348828906066, 0.8425444180234246, 0.34093086321539057, 0.6392453685288573, 0.04643032405835183, 0.8357458330503329, 0.09286064811670366, 0.01761692694075509, 0.792761712333979, 0.17616926940755087, 0.8375134470900818, 0.029911194538931492, 0.11964477815572597, 0.17449116666144984, 0.09970923809225704, 0.7228919761688636, 0.9869189898302692, 0.9956556250083601, 0.7842512004102022, 0.190121503129746, 0.7991996583859778, 0.07265451439872526, 0.10898177159808789, 0.6176196982306938, 0.13797886875366566, 0.2496760482209188, 0.0800816254228573, 0.9009182860071445, 0.046454608285554436, 0.6193947771407258, 0.3406671274273992, 0.987610928220429, 0.875772531970992, 0.109471566496374, 0.8581299036460045, 0.03730999581069585, 0.10260248847941358, 0.7288660888327492, 0.06876095177667445, 0.20628285533002336, 0.8019917785324422, 0.0782431003446285, 0.11736465051694275, 0.791199913182473, 0.05651427951303378, 0.14128569878258446, 0.9728653277392417, 0.7861704151468503, 0.09249063707610003, 0.13873595561415006, 0.529698245384166, 0.35313216358944405, 0.10865605033521354, 0.1276676920497982, 0.5794149100721611, 0.28479715918801135, 0.18461621950310528, 0.6190073242162942, 0.19547599712093502, 0.6708652958734442, 0.07103279603365881, 0.26045358545674896, 0.8541479316193528, 0.12202113308847896, 0.9956159775469966, 0.9990130034086062, 0.07134599737744436, 0.19025599300651827, 0.7372419729002584, 0.8373951770120232, 0.11962788243028902, 0.05981394121514451, 0.9972483216067951, 0.984967259358299, 0.9936440276419463, 0.18798030505016014, 0.7787755494935206, 0.026854329292880022, 0.052375600397196485, 0.864197406553742, 0.052375600397196485, 0.07564958044505991, 0.9456197555632488, 0.9112102358484935, 0.08283729416804486, 0.8603136003592939, 0.11731549095808554, 0.039105163652695174, 0.12923304890317439, 0.7883215983093638, 0.07753982934190463, 0.034949702309580034, 0.48492711954542295, 0.48055840675672545, 0.46735234462070163, 0.09771912660251034, 0.4376117408721115, 0.5414553073828186, 0.24223000593441885, 0.2137323581774284, 0.10226566537359594, 0.8692581556755655, 0.9825263952842067, 0.8456345719501627, 0.14093909532502713, 0.8712326593386797, 0.10890408241733496, 0.012100453601926107, 0.9886647134740341, 0.009028901492913553, 0.04749996092207363, 0.9262492379804358, 0.03296143731272687, 0.7910744955054448, 0.16480718656363436, 0.24734130670265927, 0.6647297617633968, 0.09275299001349722, 0.993737307958673, 0.7484786953953448, 0.24949289846511494, 0.2713922656082039, 0.7097951562060717, 0.04086393109672723, 0.8581425530312718, 0.12259179329018169, 0.04262007095619099, 0.21310035478095496, 0.7671612772114378, 0.13826819084327147, 0.8296091450596288, 0.7673075692369881, 0.23352839063734418, 0.6698915882315488, 0.006698915882315488, 0.3215479623511434, 0.9511360783015931, 0.03522726215931826, 0.23566948035708923, 0.2199581816666166, 0.5341841554760689, 0.7075907103233947, 0.27517416512576465, 0.19875231544562896, 0.5510859655537894, 0.24392329622872647, 0.2663460157903258, 0.24415051447446534, 0.4993987796068609, 0.12266212618758984, 0.16354950158345313, 0.6950853817296758, 0.3168156402780225, 0.1056052134260075, 0.5808286738430413, 0.7946676289062131, 0.06357341031249705, 0.15893352578124262, 0.19405247349449764, 0.5484091642235803, 0.2531119219493448, 0.09974832288384494, 0.17455956504672865, 0.7231753409078758, 0.25574025723885313, 0.730686449253866, 0.015492433954902766, 0.44928058469218024, 0.5422351884215968, 0.509604839299631, 0.18644079486571863, 0.31073465810953105, 0.667436804225672, 0.10181239386493302, 0.23756225235151038, 0.292251494664041, 0.7014035871936983, 0.21767032493247515, 0.7836131697569105, 0.5734696424071039, 0.4096211731479313, 0.011703462089940895, 0.6611412739432236, 0.07933695287318683, 0.25123368409842495, 0.9933766481553729, 0.9840527630852348, 0.07857615096268455, 0.7857615096268455, 0.1571523019253691, 0.9014859682897619, 0.09014859682897619, 0.4912710061729829, 0.1350995266975703, 0.3684532546297372, 0.1363240504534915, 0.034081012613372874, 0.8179443027209491, 0.08067692456465908, 0.5244000096702841, 0.40338462282329546, 0.3111611668749263, 0.22403604014994694, 0.4605185269748909, 0.9516446832125663, 0.03858018985996891, 0.6222424502575441, 0.37038241086758583, 0.4648092542182176, 0.5422774632545873, 0.8090734955378799, 0.02311638558679657, 0.16181469910757598, 0.1344304294654684, 0.4301773742894989, 0.4436204172360457, 0.9534921005601787, 0.05107993395858101, 0.9862949042560236, 0.1112224051774741, 0.867534760384298, 0.2220692342067591, 0.08882769368270364, 0.6662077026202773, 0.15122841222704492, 0.7939491641919857, 0.03780710305676123, 0.9887783659305137, 0.9799091640902426, 0.8626545974779674, 0.06161818553414053, 0.06161818553414053, 0.9897566308384802, 0.7938163964108573, 0.12403381193919646, 0.07442028716351788, 0.010652133421532735, 0.44738960370437486, 0.5539109379197023, 0.21510773750072062, 0.03585128958345343, 0.7349514364607954, 0.24799943788049375, 0.7439983136414813, 0.7476203439376199, 0.027689642368059996, 0.22151713894447997, 0.30995685169677, 0.07293102392865176, 0.61991370339354, 0.21692602969374558, 0.5231745422025629, 0.26796744844521514, 0.817490406500669, 0.1634980813001338, 0.973997258935155, 0.14078686668340454, 0.8447212001004272, 0.03161779082843183, 0.5058846532549093, 0.4637275988170002, 0.5954375131920017, 0.20370230714463214, 0.20370230714463214, 0.08280357088323084, 0.8004345185378982, 0.11040476117764113, 0.985019513322933, 0.9984387685840469, 0.002885661180878748], \"Term\": [\"afirmar\", \"afirmar\", \"afirmar\", \"amor\", \"amor\", \"amor\", \"ano\", \"ano\", \"ano\", \"antiguo\", \"antiguo\", \"antiguo\", \"aprender\", \"aprender\", \"aprender\", \"arte\", \"arte\", \"arte\", \"articulo\", \"articulo\", \"articulo\", \"aspecto\", \"aspecto\", \"aspecto\", \"base\", \"base\", \"base\", \"camino\", \"camino\", \"camino\", \"caracter\", \"caracter\", \"caracter\", \"carta\", \"carta\", \"casa\", \"casa\", \"caso\", \"caso\", \"caso\", \"celebrar\", \"celebrar\", \"chomsky\", \"chomsky\", \"ciencia\", \"ciencia\", \"ciencia\", \"cognitiva\", \"cognitivo\", \"comun\", \"comun\", \"comun\", \"concepto\", \"concepto\", \"concepto\", \"consciente\", \"consciente\", \"consciente\", \"considerar\", \"considerar\", \"considerar\", \"consistir\", \"consistir\", \"consistir\", \"cosa\", \"cosa\", \"cosa\", \"cultura\", \"cultura\", \"cultura\", \"cultural\", \"cultural\", \"decidir\", \"decidir\", \"decidir\", \"dejar\", \"dejar\", \"dejar\", \"desarrollar\", \"desarrollar\", \"desarrollar\", \"desear\", \"desear\", \"desear\", \"deseo\", \"diccionario\", \"dio\", \"dio\", \"disciplina\", \"disciplina\", \"disciplina\", \"ejemplo\", \"ejemplo\", \"ejemplo\", \"escribir\", \"escribir\", \"escrito\", \"escrito\", \"escrito\", \"especifico\", \"espiritu\", \"espiritu\", \"estructura\", \"estructura\", \"estructura\", \"estudio\", \"estudio\", \"estudio\", \"explicar\", \"explicar\", \"explicar\", \"facultad\", \"facultad\", \"facultad\", \"fanatismo\", \"fenomeno\", \"fenomeno\", \"fenomeno\", \"filosofia\", \"filosofia\", \"filosofia\", \"filosofico\", \"filosofico\", \"filosofico\", \"filosofo\", \"filosofo\", \"filosofo\", \"forma\", \"forma\", \"forma\", \"formal\", \"formal\", \"frase\", \"freud\", \"fuerza\", \"fuerza\", \"fuerza\", \"fundamental\", \"fundamental\", \"fundamental\", \"generativo\", \"gramatica\", \"gramatico\", \"guerra\", \"guerra\", \"guerra\", \"habrio\", \"habrio\", \"habrio\", \"hacer\", \"hacer\", \"hijo\", \"hijo\", \"hipotesis\", \"hipotesis\", \"hipotesis\", \"historia\", \"historia\", \"historia\", \"hombre\", \"hombre\", \"hombre\", \"humano\", \"humano\", \"humano\", \"idea\", \"idea\", \"idea\", \"impulso\", \"impulso\", \"inconsciente\", \"joven\", \"joven\", \"lengua\", \"lengua\", \"lengua\", \"lenguaje\", \"lenguaje\", \"ley\", \"ley\", \"libertad\", \"libertad\", \"libertad\", \"libro\", \"libro\", \"libro\", \"linguistico\", \"luis\", \"luis\", \"madre\", \"madre\", \"mano\", \"mano\", \"mano\", \"mayorio\", \"mayorio\", \"mayorio\", \"medico\", \"medico\", \"mental\", \"mental\", \"mente\", \"mente\", \"mente\", \"mil\", \"mil\", \"momento\", \"momento\", \"momento\", \"moral\", \"moral\", \"mundo\", \"mundo\", \"mundo\", \"naturaleza\", \"naturaleza\", \"naturaleza\", \"necesidad\", \"necesidad\", \"necesidad\", \"nino\", \"nino\", \"nino\", \"nivel\", \"nivel\", \"nivel\", \"obra\", \"obra\", \"obra\", \"origen\", \"origen\", \"origen\", \"oscuro\", \"oscuro\", \"padre\", \"padre\", \"padre\", \"palabra\", \"palabra\", \"palabra\", \"pensamiento\", \"pensamiento\", \"pensamiento\", \"placer\", \"placer\", \"podiar\", \"podiar\", \"politico\", \"politico\", \"politico\", \"proceso\", \"proceso\", \"proceso\", \"psicoanalisis\", \"psique\", \"publicar\", \"publicar\", \"publicar\", \"pueblo\", \"pueblo\", \"punto\", \"punto\", \"punto\", \"racional\", \"racional\", \"racional\", \"razon\", \"razon\", \"razon\", \"realidad\", \"realidad\", \"realidad\", \"regla\", \"regla\", \"religion\", \"religion\", \"religioso\", \"religioso\", \"representacion\", \"representacion\", \"representacion\", \"resultar\", \"resultar\", \"resultar\", \"rey\", \"rey\", \"rousseau\", \"sentimiento\", \"sentimiento\", \"serie\", \"serie\", \"serie\", \"servir\", \"servir\", \"servir\", \"sexual\", \"sexualidad\", \"simple\", \"simple\", \"simple\", \"sintaxis\", \"sistema\", \"sistema\", \"sistema\", \"sociedad\", \"sociedad\", \"sociedad\", \"sujeto\", \"sujeto\", \"sujeto\", \"tenia\", \"tenia\", \"teoria\", \"teoria\", \"teoria\", \"termino\", \"termino\", \"termino\", \"tiempo\", \"tiempo\", \"tiempo\", \"tierra\", \"tierra\", \"tolerancia\", \"tratado\", \"tratado\", \"vida\", \"vida\", \"vida\", \"visto\", \"visto\", \"visto\", \"vivir\", \"vivir\", \"vivir\", \"voltairar\", \"voltaire\", \"voltaire\"]}, \"R\": 30, \"lambda.step\": 0.01, \"plot.opts\": {\"xlab\": \"PC1\", \"ylab\": \"PC2\"}, \"topic.order\": [2, 3, 1]};\n",
       "\n",
       "function LDAvis_load_lib(url, callback){\n",
       "  var s = document.createElement('script');\n",
       "  s.src = url;\n",
       "  s.async = true;\n",
       "  s.onreadystatechange = s.onload = callback;\n",
       "  s.onerror = function(){console.warn(\"failed to load library \" + url);};\n",
       "  document.getElementsByTagName(\"head\")[0].appendChild(s);\n",
       "}\n",
       "\n",
       "if(typeof(LDAvis) !== \"undefined\"){\n",
       "   // already loaded: just create the visualization\n",
       "   !function(LDAvis){\n",
       "       new LDAvis(\"#\" + \"ldavis_el8804109693232163112213545\", ldavis_el8804109693232163112213545_data);\n",
       "   }(LDAvis);\n",
       "}else if(typeof define === \"function\" && define.amd){\n",
       "   // require.js is available: use it to load d3/LDAvis\n",
       "   require.config({paths: {d3: \"https://d3js.org/d3.v5\"}});\n",
       "   require([\"d3\"], function(d3){\n",
       "      window.d3 = d3;\n",
       "      LDAvis_load_lib(\"https://cdn.jsdelivr.net/gh/bmabey/pyLDAvis@3.4.0/pyLDAvis/js/ldavis.v3.0.0.js\", function(){\n",
       "        new LDAvis(\"#\" + \"ldavis_el8804109693232163112213545\", ldavis_el8804109693232163112213545_data);\n",
       "      });\n",
       "    });\n",
       "}else{\n",
       "    // require.js not available: dynamically load d3 & LDAvis\n",
       "    LDAvis_load_lib(\"https://d3js.org/d3.v5.js\", function(){\n",
       "         LDAvis_load_lib(\"https://cdn.jsdelivr.net/gh/bmabey/pyLDAvis@3.4.0/pyLDAvis/js/ldavis.v3.0.0.js\", function(){\n",
       "                 new LDAvis(\"#\" + \"ldavis_el8804109693232163112213545\", ldavis_el8804109693232163112213545_data);\n",
       "            })\n",
       "         });\n",
       "}\n",
       "</script>"
      ],
      "text/plain": [
       "PreparedData(topic_coordinates=              x         y  topics  cluster       Freq\n",
       "topic                                                \n",
       "1     -0.179720 -0.035877       1        1  37.233113\n",
       "2      0.138162 -0.082179       2        1  31.464056\n",
       "0      0.041558  0.118056       3        1  31.302831, topic_info=            Term        Freq       Total Category  logprob  loglift\n",
       "269        freud  367.000000  367.000000  Default  30.0000  30.0000\n",
       "292     voltaire  346.000000  346.000000  Default  29.0000  29.0000\n",
       "7        chomsky  260.000000  260.000000  Default  28.0000  28.0000\n",
       "24      lenguaje  221.000000  221.000000  Default  27.0000  27.0000\n",
       "26   linguistico  182.000000  182.000000  Default  26.0000  26.0000\n",
       "..           ...         ...         ...      ...      ...      ...\n",
       "28         mente   48.078554  149.277886   Topic3  -4.5646   0.0285\n",
       "85    considerar   35.420883   70.521863   Topic3  -4.8702   0.4728\n",
       "79      realidad   36.973089   80.344216   Topic3  -4.8273   0.3853\n",
       "87       ejemplo   37.706924  152.197218   Topic3  -4.8076  -0.2339\n",
       "42      resultar   33.137420   74.387920   Topic3  -4.9368   0.3528\n",
       "\n",
       "[177 rows x 6 columns], token_table=      Topic      Freq       Term\n",
       "term                            \n",
       "201       1  0.163553    afirmar\n",
       "201       2  0.040888    afirmar\n",
       "201       3  0.776876    afirmar\n",
       "156       1  0.028414       amor\n",
       "156       2  0.255727       amor\n",
       "...     ...       ...        ...\n",
       "222       2  0.800435      vivir\n",
       "222       3  0.110405      vivir\n",
       "293       2  0.985020  voltairar\n",
       "292       2  0.998439   voltaire\n",
       "292       3  0.002886   voltaire\n",
       "\n",
       "[338 rows x 3 columns], R=30, lambda_step=0.01, plot_opts={'xlab': 'PC1', 'ylab': 'PC2'}, topic_order=[2, 3, 1])"
      ]
     },
     "execution_count": 15,
     "metadata": {},
     "output_type": "execute_result"
    }
   ],
   "source": [
    "# Visualizamos los resultados\n",
    "import pyLDAvis\n",
    "import pyLDAvis.gensim_models as gensimvis\n",
    "\n",
    "pyLDAvis.enable_notebook()\n",
    "LDA_visualization = gensimvis.prepare(Estimacion, corpus, dictionary)\n",
    "LDA_visualization"
   ]
  },
  {
   "cell_type": "markdown",
   "metadata": {},
   "source": [
    "Tenemos entonces una gráfica  interactiva donde cada burbuja en la gráfica del lado izquierdo representa un tema. Cuanto más grande es la burbuja, más frecuente es ese tema. Un buen modelo de temas tendrá burbujas grandes que no se superpongan y están dispersas por todo el gráfico en lugar de estar agrupadas en un cuadrante. Un modelo con demasiados temas normalmente tendrá muchas burbujas pequeñas, superpuestas y agrupadas en una región del gráfico.\n",
    "\n",
    "Cuando posamos el cursor sobre las burbujas, las palabras y las barras del lado derecho se actualizarán. Estas palabras son las palabras claves sobresalientes que forman el tema seleccionado. La gráfica de la derecha también contiene un parámetro $\\lambda$ que al deslizarlo cambia la distribución de frecuencia de las palabras. Los valores de $\\lambda$ que están muy cerca de cero mostrarán términos que son más específicos para un tema elegido. Lo que significa que verán términos que son \"importantes\" para ese tema específico, pero no necesariamente \"importantes\" para todo el corpus. Los valores de  $\\lambda$ que están muy cerca de uno mostrarán aquellos términos que tienen la relación más alta entre la frecuencia de los términos para ese tema específico y la frecuencia general de los términos del corpus. Utilizar diferentes valores del parámetro $\\lambda$ puede ayudar cuando estamos intentando asignar un  \"significado\" a cada tópico.\n",
    "\n",
    "El escenario ideal es como el que aparece por la gráfica anterior, donde los círculos se distribuyen por todo el gráfico, alejados entre si y tienen un tamaño razonable y consistente. Es decir, los tópicos son distintos y  aparecen de manera uniforme en todo el corpus.\n",
    "\n",
    "[pyLDAvis](https://pyldavis.readthedocs.io/en/latest/readme.html) permite también guardar la visualización como html, que permite una mejor interacción, para ello podemos utilizar la función  `save_html`. Por ahora la dejamos escrita pero comentada y los invito a que la prueben por su cuenta."
   ]
  },
  {
   "cell_type": "code",
   "execution_count": 16,
   "metadata": {},
   "outputs": [],
   "source": [
    "#pyLDAvis.save_html(LDA_visualization, 'visualizacion_LDA.html')"
   ]
  },
  {
   "cell_type": "markdown",
   "metadata": {},
   "source": [
    "### Eligiendo el número de temas\n",
    "\n",
    "Elegir el número de tópicos,  como el número de clusters en K-medias, es un paso clave. La pregunta natural que surge es si existe algún método para hacerlo. Desafortunadamente, no existe una forma objetiva aceptada en la literatura de responderla. Sin embargo, hay 2 métodos  que pueden servir de guía.\n",
    "\n",
    "#### Medida de Coherencia\n",
    "\n",
    "Decimos que hechos, documentos o enunciados son coherentes, si se apoyan entre sí.  Un ejemplo de un conjunto de hechos coherente es \"el juego es un deporte de equipo\", “el juego se juega con una pelota”, “el juego exige un gran esfuerzo físico”. El problema fundamental es cómo medir esta coherencia en los datos. Röder et al. (2015) proponen una forma de hacerlo que consiste en 4 pasos que se muestran en la figura y describimos brevemente (los invito a leer el artículo original para los detalles matemáticos):"
   ]
  },
  {
   "cell_type": "markdown",
   "metadata": {},
   "source": [
    "<center>\n",
    "<img src = \"figs/coherencia.jpeg\" alt = \"coherencia\" style = \"width: 600px;\"/>\n",
    "</center>\n"
   ]
  },
  {
   "cell_type": "markdown",
   "metadata": {},
   "source": [
    "Comenzando con el tópico  que queremos evaluar (t), elegimos un corpus de referencia, y las n-palabras más importantes del tópico  que llamamos $W$:\n",
    "\n",
    "1. En el primer paso segmentamos el conjunto $W$ creando pares de palabras. Por ejemplo si tenemos las palabras $W={perro, gato, conejo}$ y la segmentamos una a una vamos a tener: $S={(perro,gato),(perro,conejo),(gato,perro),(gato,conejo),(conejo,perro),(conejo,gato)}$. Existen múltiples formas de segmentar, pero la idea es que dependiendo la segmentación, la medida de coherencia va a estar interesada en estos conjuntos resultantes.\n",
    "\n",
    "2. Usando el corpus de referencia, en el segundo definimos y calculamos la probabilidad de ocurrencia de distintas palabras dentro del texto.  Al igual que en el paso anterior, se pueden definir distintas formas de calcular estas probabilidades.\n",
    "\n",
    "3. Con las palabras segmentadas y las probabilidades, utilizamos una medida de confirmación para evaluar la relación entre los subconjuntos creados en el paso de segmentación. Esto nos dice cuán fuerte es la relación de estos subconjuntos. Esto se pueden hacer por medidas de confirmación directa o indirecta, que están  más allá de este curso.\n",
    "\n",
    "4. Agregación, toma los valores calculados en el paso anterior y se los agrega en un solo resultado que da la medida de coherencia del tópico. Aquí también existen varias formas de hacer la agregación, por ejemplo, la media, la mediana, etc.\n",
    "\n",
    "\n",
    "[Gensim](https://radimrehurek.com/gensim/index.html) implementa esta medida a través de la función [CoherenceModel](https://radimrehurek.com/gensim/models/coherencemodel.html) que implementa los 4 pasos anteriores. La función requiere como insumos el modelo estimado, el corpus y el diccionario."
   ]
  },
  {
   "cell_type": "code",
   "execution_count": 17,
   "metadata": {},
   "outputs": [
    {
     "data": {
      "text/plain": [
       "0.6043466319744287"
      ]
     },
     "execution_count": 17,
     "metadata": {},
     "output_type": "execute_result"
    }
   ],
   "source": [
    "from gensim.models import CoherenceModel\n",
    "\n",
    "coherencemodel = CoherenceModel(model=Estimacion, texts=clean, dictionary=dictionary)\n",
    "coherencemodel.get_coherence() "
   ]
  },
  {
   "cell_type": "markdown",
   "metadata": {},
   "source": [
    "Obtuvimos una coherencia de 0.51, sin embargo, este número no tiene interpretación directa. Sirve sólo en un contexto donde se compara con otros modelos con diferentes números de temas, y escogeremos aquella con mayor coherencia.\n",
    "\n",
    "Ilustremos esto creando una función que itere a lo largo de distinto número de temas y devuelve la medida de coherencia. Adicionalmente, aprovecharemos que [Gensim](https://radimrehurek.com/gensim/index.html) tiene una implementación de LDA ([LdaMulticore](https://radimrehurek.com/gensim/models/ldamulticore.html)) que paraleliza y acelera la estimación del modelo:"
   ]
  },
  {
   "cell_type": "code",
   "execution_count": 18,
   "metadata": {},
   "outputs": [],
   "source": [
    "from gensim.models.ldamulticore import LdaMulticore\n",
    "\n",
    "def calcular_coherencia(dictionary, corpus, texts, start=1, limit=10, step=1):\n",
    " \n",
    "    coherence_values = []\n",
    "    model_list = []\n",
    "    \n",
    "    for num_topics in range(start, limit, step):\n",
    "        model = LdaMulticore(corpus=corpus,\n",
    "                        id2word=dictionary,\n",
    "                        num_topics=num_topics, \n",
    "                        random_state=123,\n",
    "                        passes=20)\n",
    "        model_list.append(model)\n",
    "        coherencemodel = CoherenceModel(model=model, texts=texts, dictionary=dictionary, coherence='c_v')\n",
    "        coherence_values.append(coherencemodel.get_coherence())\n",
    "\n",
    "    return model_list, coherence_values"
   ]
  },
  {
   "cell_type": "markdown",
   "metadata": {},
   "source": [
    "La función además de los insumos esenciales para la estimación de LDA, tiene además un punto de inicio, finalización y tamaño de paso para el rango de temas a estimar:"
   ]
  },
  {
   "cell_type": "code",
   "execution_count": 19,
   "metadata": {},
   "outputs": [],
   "source": [
    "modelos, valores_c = calcular_coherencia(dictionary=dictionary, corpus=corpus, texts=clean, start=1, limit=10, step=1)"
   ]
  },
  {
   "cell_type": "markdown",
   "metadata": {},
   "source": [
    "Graficamos los resultados:"
   ]
  },
  {
   "cell_type": "code",
   "execution_count": 20,
   "metadata": {},
   "outputs": [
    {
     "data": {
      "image/png": "[encoded data removed]",
      "text/plain": [
       "<Figure size 640x480 with 1 Axes>"
      ]
     },
     "metadata": {},
     "output_type": "display_data"
    }
   ],
   "source": [
    "import matplotlib.pyplot as plt\n",
    "# Show graph\n",
    "limit=10; start=1; step=1;\n",
    "x = range(start, limit, step)\n",
    "plt.plot(x, valores_c)\n",
    "plt.xlabel(\"Número de Temas\")\n",
    "plt.ylabel(\"Medida de Coherencia\")\n",
    "plt.show()"
   ]
  },
  {
   "cell_type": "markdown",
   "metadata": {},
   "source": [
    "La medida de coherencia sugiere que hay 4 tipos de temas en estas páginas, visualicemos entonces los resultados:"
   ]
  },
  {
   "cell_type": "code",
   "execution_count": 21,
   "metadata": {},
   "outputs": [
    {
     "data": {
      "text/html": [
       "\n",
       "<link rel=\"stylesheet\" type=\"text/css\" href=\"https://cdn.jsdelivr.net/gh/bmabey/pyLDAvis@3.4.0/pyLDAvis/js/ldavis.v1.0.0.css\">\n",
       "\n",
       "\n",
       "<div id=\"ldavis_el8804110192732641209595999\" style=\"background-color:white;\"></div>\n",
       "<script type=\"text/javascript\">\n",
       "\n",
       "var ldavis_el8804110192732641209595999_data = {\"mdsDat\": {\"x\": [0.02888249236613484, -0.009190775999558039, -0.003161723497858158, -0.016529992868718667], \"y\": [-0.0033554921355878698, -0.01561722119474516, 0.019972623448696332, -0.0009999101183633004], \"topics\": [1, 2, 3, 4], \"cluster\": [1, 1, 1, 1], \"Freq\": [32.329322067370434, 27.165366136187707, 22.82713106667282, 17.678180729769036]}, \"tinfo\": {\"Term\": [\"freud\", \"hombre\", \"historia\", \"chomsky\", \"frase\", \"politico\", \"voltaire\", \"generativo\", \"linguistico\", \"diccionario\", \"estructura\", \"gramatico\", \"teoria\", \"inconsciente\", \"forma\", \"lengua\", \"caso\", \"tolerancia\", \"sociedad\", \"luis\", \"rey\", \"religion\", \"hijo\", \"lenguaje\", \"filosofo\", \"proceso\", \"gramatica\", \"articulo\", \"ciencia\", \"religioso\", \"inconsciente\", \"freud\", \"psique\", \"oscuro\", \"consciente\", \"muerte\", \"tenia\", \"religioso\", \"psicoanalisis\", \"deseo\", \"interno\", \"medico\", \"finalmente\", \"cultura\", \"habiar\", \"existencia\", \"habrio\", \"realidad\", \"pese\", \"caracter\", \"mayorio\", \"autor\", \"origen\", \"dudar\", \"sujeto\", \"ciudad\", \"completo\", \"casa\", \"sentimiento\", \"persona\", \"mundo\", \"mente\", \"ano\", \"razon\", \"humano\", \"lenguaje\", \"vida\", \"voltaire\", \"pensamiento\", \"estudio\", \"palabra\", \"lugar\", \"hombre\", \"obra\", \"idea\", \"ejemplo\", \"filosofico\", \"forma\", \"chomsky\", \"naturaleza\", \"linguistico\", \"teoria\", \"tiempo\", \"caso\", \"cognitiva\", \"cerebro\", \"ciencia\", \"capitulo\", \"proceso\", \"nombre\", \"gramatica\", \"chomsky\", \"teoria\", \"fundamental\", \"logico\", \"caber\", \"campo\", \"rousseau\", \"producir\", \"distinto\", \"intentar\", \"idea\", \"especifico\", \"servir\", \"investigacion\", \"natural\", \"humano\", \"orden\", \"estructura\", \"principio\", \"desarrollar\", \"aspecto\", \"general\", \"ser\", \"rey\", \"pensamiento\", \"gramatico\", \"generativo\", \"politico\", \"linguistico\", \"historia\", \"lenguaje\", \"mental\", \"voltaire\", \"mente\", \"filosofia\", \"ejemplo\", \"mundo\", \"forma\", \"filosofo\", \"lugar\", \"obra\", \"freud\", \"frase\", \"tolerancia\", \"hijo\", \"politico\", \"tierra\", \"diccionario\", \"antiguo\", \"moral\", \"articulo\", \"celebrar\", \"leer\", \"sociedad\", \"hecho\", \"creer\", \"convertir\", \"hombre\", \"fanatismo\", \"guerra\", \"lector\", \"dejar\", \"parecer\", \"preguntar\", \"cultural\", \"dio\", \"amigo\", \"tipo\", \"religion\", \"pequeno\", \"mostrar\", \"recibir\", \"ley\", \"caso\", \"visto\", \"chomsky\", \"naturaleza\", \"escribir\", \"filosofico\", \"determinado\", \"voltaire\", \"ejemplo\", \"ano\", \"linguistico\", \"frase\", \"freud\", \"obra\", \"resultar\", \"punto\", \"humano\", \"idea\", \"lenguaje\", \"generativo\", \"mente\", \"tiempo\", \"estructura\", \"teoria\", \"forma\", \"historia\", \"frase\", \"hacer\", \"querer\", \"justo\", \"nivel\", \"lengua\", \"luis\", \"concreto\", \"objeto\", \"gramatico\", \"generativo\", \"fenomeno\", \"significado\", \"momento\", \"especifico\", \"pese\", \"constituir\", \"pueblo\", \"rey\", \"forma\", \"conocimiento\", \"mantener\", \"llevar\", \"tomar\", \"filosofo\", \"expresar\", \"importante\", \"estructura\", \"nino\", \"intelectual\", \"voltaire\", \"linguistico\", \"hombre\", \"escrito\", \"caso\", \"lenguaje\", \"teoria\", \"profundo\", \"ejemplo\", \"obra\", \"razon\", \"palabra\", \"filosofia\", \"chomsky\", \"filosofico\", \"cosa\", \"humano\", \"ano\", \"vida\", \"idea\", \"freud\", \"mente\"], \"Freq\": [353.0, 219.0, 81.0, 269.0, 100.0, 85.0, 348.0, 111.0, 185.0, 76.0, 111.0, 93.0, 150.0, 48.0, 128.0, 83.0, 117.0, 39.0, 92.0, 52.0, 61.0, 64.0, 34.0, 224.0, 94.0, 79.0, 68.0, 49.0, 84.0, 61.0, 34.10972140728215, 239.02861486561056, 16.782809610312526, 17.1589226226568, 27.012490479844644, 21.24735603007146, 18.484767591610456, 36.62771054710273, 37.134070540520966, 29.945004272904647, 15.15050305034122, 18.506701716561047, 14.265754144586367, 25.14705848777967, 13.847139532531436, 14.177313781079057, 18.580723976068086, 39.39634399798243, 19.527663791955153, 22.6969644406087, 11.133094375614416, 26.110814429122353, 19.06332912454186, 11.53946131512519, 25.294763287087576, 13.25213378950902, 13.220177933226296, 11.02885371518466, 19.692458934912874, 19.826266311730954, 47.222460207943115, 61.959314548993184, 49.67558286739658, 31.110389410837215, 87.92067673169156, 80.99563484669909, 38.16456919198055, 105.8141621747061, 35.98890205569111, 30.00768810966935, 31.860166345094978, 31.261793380279016, 63.68500184074786, 39.3321169900034, 43.125818017824365, 44.07020771552489, 33.18210675781787, 37.00057179794575, 49.705176228467735, 30.364062963006862, 40.04111867795934, 35.3895387968297, 28.100124212868085, 29.98669209959365, 24.13038255897751, 15.684111703877115, 39.01090106089864, 14.271658769493477, 35.899288806801515, 15.721596040362193, 29.806810768778053, 118.08115636198694, 63.730834935685216, 14.585487239313078, 11.491813024792668, 10.415497999953898, 24.244318822004274, 24.144104986673877, 15.14205528686514, 12.237945543105852, 13.281953626001682, 56.41205508509695, 14.358288240981963, 10.568608015955078, 10.237665225366097, 17.486682716306667, 93.13510001378846, 19.7142795732266, 42.51330865221962, 30.94767157843936, 13.02538900554589, 18.31234747769814, 24.35814687282079, 9.849978190595284, 23.021612266838645, 33.53249000148918, 34.36136568036066, 40.38059151495586, 31.196253682661442, 61.55623221014362, 29.135835361939083, 68.69905154395418, 22.482523289833615, 90.45700453123082, 45.06505705067146, 25.69850622071695, 41.80272757642912, 32.92316943430408, 35.92022973521267, 28.951592879621728, 25.604230996855968, 30.74591924106688, 49.34683136894675, 25.330595900233224, 21.393299057045535, 17.36889145572923, 39.689171063972196, 10.722875287371807, 34.46207693945497, 14.609031687553195, 21.03953978338863, 20.55629004152653, 8.227819959984727, 9.45345950939496, 36.75248182780338, 15.954232195145282, 13.731853112419767, 10.080393580517951, 84.38344856125698, 15.523868244965074, 14.059914967778335, 12.435140000619388, 20.965043765739786, 8.512294503798518, 9.280503232293894, 8.242850229597696, 14.782777339928083, 11.38930242271567, 22.69713222407146, 23.183490865969283, 8.21756200086533, 14.396453788589842, 7.7702605814284516, 14.837509971873255, 37.83068849526214, 20.81514712362384, 68.99989000746561, 26.566132450228157, 16.031200595727228, 28.340209088467468, 17.478342609634538, 70.75962462980637, 36.75336291797992, 30.73872781769523, 40.74440981134855, 23.60721998763149, 45.110384091476654, 25.302319904085746, 19.59049135372567, 20.45981537052375, 33.79042283854423, 25.92370012832192, 30.40489184290571, 23.117150419669837, 25.255604879191864, 19.87139607132597, 21.261191970504676, 21.642334021783373, 20.844179201718443, 30.950270254048156, 36.09692323416635, 9.447517911903109, 12.907334207361673, 8.608051305510152, 10.31158490163875, 25.977592000834342, 16.0649833926136, 12.72255359679864, 16.036455859754746, 26.98073981933863, 31.883641203579074, 6.1240979723177675, 8.210121604419534, 17.982379389005676, 10.26644059083019, 10.887491149020141, 8.76704713503286, 9.0693423374559, 16.519724116431433, 34.57374529994977, 11.654909222582946, 6.371184822398924, 7.163193566150561, 9.708716760384778, 24.53662377251975, 6.435824647129624, 10.194139515999925, 28.382804438193592, 14.136798510582102, 16.103111163909418, 81.35333112302584, 43.04111674873864, 47.86011348173019, 15.930696612342276, 25.905763228110057, 43.91227009128032, 30.178426624762228, 12.520944947189655, 29.631367230172525, 23.174999869721255, 16.42467604942758, 16.944802082534135, 16.2863425264333, 32.76501764054838, 18.830030541661895, 16.08725201196005, 26.932562576240258, 19.039200881543476, 17.251635756093815, 18.83280121879774, 20.411850428106497, 17.370700810137205], \"Total\": [353.0, 219.0, 81.0, 269.0, 100.0, 85.0, 348.0, 111.0, 185.0, 76.0, 111.0, 93.0, 150.0, 48.0, 128.0, 83.0, 117.0, 39.0, 92.0, 52.0, 61.0, 64.0, 34.0, 224.0, 94.0, 79.0, 68.0, 49.0, 84.0, 61.0, 48.03675278771454, 353.8976807541405, 25.124800796297855, 26.37438386909023, 41.67715602551129, 35.45997385664508, 30.857269128082688, 61.44636888052219, 65.42197368694997, 53.577996749494574, 28.059906711170154, 34.45362478861927, 27.30830774682517, 48.14160268693445, 26.60252299274866, 27.81137748893514, 37.01645029636062, 79.02683182593547, 39.37814241706823, 46.172914966795396, 22.88938118533041, 54.16260655428687, 39.56973171674578, 24.287658890810043, 54.64555721399859, 28.93992005569292, 29.09116593153341, 24.389606675079403, 43.74559422181034, 44.12611588432677, 110.8121167613146, 149.6506772889937, 121.24312222259337, 73.47839633088421, 241.7787621602645, 224.01184832483926, 94.20212973644733, 348.3841224587691, 90.65316577278278, 72.11527014216256, 78.53506810256195, 78.85654416978664, 219.40554059421711, 118.5553560048773, 144.29437445004095, 152.25766544010645, 99.85200383369265, 128.33872603482664, 269.55124023846867, 88.37409066747028, 185.38287744819016, 150.94113437906051, 77.76850568426082, 117.51729985032975, 46.933566323918, 33.78005015601313, 84.65728381310949, 30.975843698600055, 79.7372681334619, 35.703701903349845, 68.00345397443161, 269.55124023846867, 150.94113437906051, 34.68637095301097, 27.382026260191765, 25.347585037452408, 59.24165737377501, 59.00467127709035, 37.48575044623829, 30.489734826496896, 33.58361316741461, 144.29437445004095, 36.85407102644105, 27.16658429051521, 26.382652978987622, 45.32996376014576, 241.7787621602645, 51.201645395525155, 111.12564367075497, 81.17320233446198, 34.27491628738406, 48.22741963376998, 64.37558134324425, 26.03787445471049, 61.152483900378044, 90.65316577278278, 93.90015561648647, 111.77387589983057, 85.29533062402541, 185.38287744819016, 81.46261722691492, 224.01184832483926, 61.39758843629163, 348.3841224587691, 149.6506772889937, 75.32787727011919, 152.25766544010645, 110.8121167613146, 128.33872603482664, 94.10788186386704, 78.85654416978664, 118.5553560048773, 353.8976807541405, 100.34980084376983, 39.99173168766473, 34.04849557612913, 85.29533062402541, 23.1409972101749, 76.70153225987322, 33.64907903660237, 49.25584096965558, 49.103290420398146, 19.677269033260664, 22.916602001826078, 92.61312292164376, 40.25264183525819, 34.842755634048046, 25.643566945357314, 219.40554059421711, 40.39952624393636, 36.701941926266116, 32.46654451534275, 55.550080340214365, 22.975360222782726, 25.227647463912547, 22.443942518718035, 40.47182295184726, 31.394930667589062, 63.21004559851134, 64.59728862294553, 22.952738009235876, 40.27781205032139, 21.841624786514924, 41.83532863670859, 117.51729985032975, 63.528014999028834, 269.55124023846867, 88.37409066747028, 49.26948677173756, 99.85200383369265, 55.02452577428962, 348.3841224587691, 152.25766544010645, 121.24312222259337, 185.38287744819016, 100.34980084376983, 353.8976807541405, 118.5553560048773, 73.84440773799511, 81.08180600220163, 241.7787621602645, 144.29437445004095, 224.01184832483926, 111.77387589983057, 149.6506772889937, 77.76850568426082, 111.12564367075497, 150.94113437906051, 128.33872603482664, 81.46261722691492, 100.34980084376983, 26.554356962499327, 40.39581338193358, 26.971181958003225, 32.762813862784434, 83.76248106903154, 52.73429761442754, 42.32661124425159, 54.07118441374519, 93.90015561648647, 111.77387589983057, 21.774612831578754, 29.263228911661855, 64.33628635578482, 36.85407102644105, 39.37814241706823, 31.96865457231182, 33.520313546770105, 61.152483900378044, 128.33872603482664, 43.523824929654126, 24.123909335625, 27.30310985789319, 37.14204618447987, 94.10788186386704, 24.711367038427746, 39.37923656974428, 111.12564367075497, 56.32785426583653, 64.42094690228188, 348.3841224587691, 185.38287744819016, 219.40554059421711, 65.57593159169619, 117.51729985032975, 224.01184832483926, 150.94113437906051, 50.15888550569445, 152.25766544010645, 118.5553560048773, 73.47839633088421, 78.53506810256195, 75.32787727011919, 269.55124023846867, 99.85200383369265, 74.26619034760476, 241.7787621602645, 121.24312222259337, 94.20212973644733, 144.29437445004095, 353.8976807541405, 149.6506772889937], \"Category\": [\"Default\", \"Default\", \"Default\", \"Default\", \"Default\", \"Default\", \"Default\", \"Default\", \"Default\", \"Default\", \"Default\", \"Default\", \"Default\", \"Default\", \"Default\", \"Default\", \"Default\", \"Default\", \"Default\", \"Default\", \"Default\", \"Default\", \"Default\", \"Default\", \"Default\", \"Default\", \"Default\", \"Default\", \"Default\", \"Default\", \"Topic1\", \"Topic1\", \"Topic1\", \"Topic1\", \"Topic1\", \"Topic1\", \"Topic1\", \"Topic1\", \"Topic1\", \"Topic1\", \"Topic1\", \"Topic1\", \"Topic1\", \"Topic1\", \"Topic1\", \"Topic1\", \"Topic1\", \"Topic1\", \"Topic1\", \"Topic1\", \"Topic1\", \"Topic1\", \"Topic1\", \"Topic1\", \"Topic1\", \"Topic1\", \"Topic1\", \"Topic1\", \"Topic1\", \"Topic1\", \"Topic1\", \"Topic1\", \"Topic1\", \"Topic1\", \"Topic1\", \"Topic1\", \"Topic1\", \"Topic1\", \"Topic1\", \"Topic1\", \"Topic1\", \"Topic1\", \"Topic1\", \"Topic1\", \"Topic1\", \"Topic1\", \"Topic1\", \"Topic1\", \"Topic1\", \"Topic1\", \"Topic1\", \"Topic1\", \"Topic1\", \"Topic1\", \"Topic2\", \"Topic2\", \"Topic2\", \"Topic2\", \"Topic2\", \"Topic2\", \"Topic2\", \"Topic2\", \"Topic2\", \"Topic2\", \"Topic2\", \"Topic2\", \"Topic2\", \"Topic2\", \"Topic2\", \"Topic2\", \"Topic2\", \"Topic2\", \"Topic2\", \"Topic2\", \"Topic2\", \"Topic2\", \"Topic2\", \"Topic2\", \"Topic2\", \"Topic2\", \"Topic2\", \"Topic2\", \"Topic2\", \"Topic2\", \"Topic2\", \"Topic2\", \"Topic2\", \"Topic2\", \"Topic2\", \"Topic2\", \"Topic2\", \"Topic2\", \"Topic2\", \"Topic2\", \"Topic2\", \"Topic2\", \"Topic2\", \"Topic2\", \"Topic2\", \"Topic2\", \"Topic2\", \"Topic2\", \"Topic2\", \"Topic2\", \"Topic3\", \"Topic3\", \"Topic3\", \"Topic3\", \"Topic3\", \"Topic3\", \"Topic3\", \"Topic3\", \"Topic3\", \"Topic3\", \"Topic3\", \"Topic3\", \"Topic3\", \"Topic3\", \"Topic3\", \"Topic3\", \"Topic3\", \"Topic3\", \"Topic3\", \"Topic3\", \"Topic3\", \"Topic3\", \"Topic3\", \"Topic3\", \"Topic3\", \"Topic3\", \"Topic3\", \"Topic3\", \"Topic3\", \"Topic3\", \"Topic3\", \"Topic3\", \"Topic3\", \"Topic3\", \"Topic3\", \"Topic3\", \"Topic3\", \"Topic3\", \"Topic3\", \"Topic3\", \"Topic3\", \"Topic3\", \"Topic3\", \"Topic3\", \"Topic3\", \"Topic3\", \"Topic3\", \"Topic3\", \"Topic3\", \"Topic3\", \"Topic3\", \"Topic3\", \"Topic3\", \"Topic3\", \"Topic3\", \"Topic4\", \"Topic4\", \"Topic4\", \"Topic4\", \"Topic4\", \"Topic4\", \"Topic4\", \"Topic4\", \"Topic4\", \"Topic4\", \"Topic4\", \"Topic4\", \"Topic4\", \"Topic4\", \"Topic4\", \"Topic4\", \"Topic4\", \"Topic4\", \"Topic4\", \"Topic4\", \"Topic4\", \"Topic4\", \"Topic4\", \"Topic4\", \"Topic4\", \"Topic4\", \"Topic4\", \"Topic4\", \"Topic4\", \"Topic4\", \"Topic4\", \"Topic4\", \"Topic4\", \"Topic4\", \"Topic4\", \"Topic4\", \"Topic4\", \"Topic4\", \"Topic4\", \"Topic4\", \"Topic4\", \"Topic4\", \"Topic4\", \"Topic4\", \"Topic4\", \"Topic4\", \"Topic4\", \"Topic4\", \"Topic4\", \"Topic4\", \"Topic4\", \"Topic4\", \"Topic4\"], \"logprob\": [30.0, 29.0, 28.0, 27.0, 26.0, 25.0, 24.0, 23.0, 22.0, 21.0, 20.0, 19.0, 18.0, 17.0, 16.0, 15.0, 14.0, 13.0, 12.0, 11.0, 10.0, 9.0, 8.0, 7.0, 6.0, 5.0, 4.0, 3.0, 2.0, 1.0, -4.9402, -2.9932, -5.6494, -5.6272, -5.1734, -5.4135, -5.5528, -4.8689, -4.8552, -5.0704, -5.7517, -5.5516, -5.8119, -5.245, -5.8417, -5.8181, -5.5476, -4.7961, -5.4979, -5.3475, -6.0598, -5.2074, -5.522, -6.024, -5.2391, -5.8856, -5.888, -6.0692, -5.4895, -5.4827, -4.6149, -4.3433, -4.5642, -5.0322, -3.9933, -4.0753, -4.8278, -3.8081, -4.8865, -5.0683, -5.0084, -5.0273, -4.3158, -4.7977, -4.7056, -4.684, -4.9677, -4.8588, -4.5636, -5.0565, -4.7798, -4.9033, -5.134, -5.069, -5.1122, -5.5431, -4.6319, -5.6374, -4.715, -5.5407, -4.901, -3.5243, -4.141, -5.6157, -5.8541, -5.9524, -5.1075, -5.1117, -5.5782, -5.7912, -5.7093, -4.263, -5.6314, -5.9378, -5.9696, -5.4343, -3.7617, -5.3144, -4.5459, -4.8634, -5.7288, -5.3881, -5.1028, -6.0082, -5.1593, -4.7832, -4.7588, -4.5974, -4.8554, -4.1758, -4.9237, -4.066, -5.183, -3.7908, -4.4876, -5.0493, -4.5627, -4.8015, -4.7144, -4.9301, -5.0529, -4.8699, -4.3968, -5.0637, -5.0586, -5.267, -4.4406, -5.7493, -4.5819, -5.4401, -5.0753, -5.0985, -6.0142, -5.8753, -4.5175, -5.352, -5.502, -5.8111, -3.6863, -5.3793, -5.4784, -5.6012, -5.0789, -5.9802, -5.8938, -6.0124, -5.4282, -5.689, -4.9995, -4.9783, -6.0154, -5.4547, -6.0714, -5.4246, -4.4886, -5.086, -3.8876, -4.8421, -5.3472, -4.7774, -5.2607, -3.8624, -4.5175, -4.6962, -4.4144, -4.9602, -4.3126, -4.8908, -5.1467, -5.1032, -4.6015, -4.8666, -4.7071, -4.9811, -4.8927, -5.1324, -5.0648, -5.0471, -5.0846, -4.4337, -4.2799, -5.6203, -5.3083, -5.7134, -5.5328, -4.6089, -5.0894, -5.3227, -5.0912, -4.571, -4.404, -6.0539, -5.7607, -4.9767, -5.5372, -5.4785, -5.6951, -5.6612, -5.0615, -4.323, -5.4104, -6.0143, -5.8971, -5.5931, -4.6659, -6.0042, -5.5443, -4.5203, -5.2173, -5.0871, -3.4673, -4.1039, -3.9978, -5.0978, -4.6116, -4.0839, -4.459, -5.3387, -4.4773, -4.723, -5.0673, -5.0361, -5.0758, -4.3767, -4.9306, -5.0881, -4.5728, -4.9196, -5.0182, -4.9305, -4.85, -5.0113], \"loglift\": [30.0, 29.0, 28.0, 27.0, 26.0, 25.0, 24.0, 23.0, 22.0, 21.0, 20.0, 19.0, 18.0, 17.0, 16.0, 15.0, 14.0, 13.0, 12.0, 11.0, 10.0, 9.0, 8.0, 7.0, 6.0, 5.0, 4.0, 3.0, 2.0, 1.0, 0.7868, 0.7368, 0.7257, 0.6993, 0.6955, 0.617, 0.6168, 0.6118, 0.5629, 0.5474, 0.5129, 0.5077, 0.4799, 0.4798, 0.4763, 0.4554, 0.44, 0.4331, 0.4278, 0.419, 0.4084, 0.3996, 0.3989, 0.385, 0.3589, 0.3481, 0.3405, 0.3356, 0.331, 0.3292, 0.2762, 0.2474, 0.2369, 0.2697, 0.1176, 0.1119, 0.2257, -0.0624, 0.2054, 0.2524, 0.227, 0.204, -0.1078, 0.0259, -0.0785, -0.1106, 0.0275, -0.1145, -0.5615, 0.0609, -0.4033, -0.3213, 0.1112, -0.2366, 0.638, 0.536, 0.5285, 0.5283, 0.5052, 0.483, 0.4784, 0.4778, 0.441, 0.4369, 0.435, 0.4138, 0.4098, 0.4097, 0.3967, 0.3904, 0.3756, 0.3641, 0.3606, 0.3591, 0.3566, 0.3507, 0.3493, 0.3488, 0.3424, 0.3389, 0.3357, 0.3349, 0.3314, 0.3311, 0.3263, 0.3087, 0.2979, 0.2851, 0.2974, 0.2008, 0.2751, 0.1213, 0.2986, -0.0452, 0.103, 0.2278, 0.0106, 0.0896, 0.0299, 0.1244, 0.1784, -0.0464, -0.6669, -0.0734, 0.8516, 0.8041, 0.7122, 0.708, 0.6772, 0.6429, 0.6266, 0.6065, 0.6053, 0.5917, 0.553, 0.5518, 0.5461, 0.5435, 0.5217, 0.5208, 0.5177, 0.5175, 0.5028, 0.4843, 0.4772, 0.4755, 0.4701, 0.4632, 0.453, 0.4525, 0.4501, 0.4484, 0.4437, 0.4406, 0.3438, 0.3614, 0.1146, 0.2753, 0.3545, 0.2178, 0.3304, -0.1168, 0.0559, 0.1049, -0.0379, 0.0301, -0.5827, -0.0673, 0.1503, 0.1002, -0.4906, -0.2395, -0.5199, -0.0987, -0.302, 0.1128, -0.1766, -0.465, -0.3404, 0.7651, 0.7104, 0.6994, 0.5919, 0.5908, 0.5768, 0.5621, 0.5442, 0.5308, 0.5174, 0.4857, 0.4785, 0.4643, 0.4619, 0.4581, 0.4548, 0.4472, 0.4391, 0.4256, 0.424, 0.4213, 0.4153, 0.4014, 0.3948, 0.3911, 0.3886, 0.3875, 0.3814, 0.368, 0.3504, 0.3464, 0.2783, 0.2726, 0.2102, 0.3179, 0.2207, 0.1033, 0.1231, 0.345, 0.0961, 0.1005, 0.2346, 0.1993, 0.2013, -0.3746, 0.0646, 0.2032, -0.4618, -0.1185, 0.0353, -0.3034, -1.1201, -0.4207]}, \"token.table\": {\"Topic\": [1, 2, 3, 4, 1, 2, 3, 4, 1, 2, 3, 4, 1, 2, 3, 4, 1, 2, 3, 4, 1, 2, 3, 4, 1, 2, 3, 4, 1, 2, 3, 4, 1, 2, 3, 4, 1, 2, 3, 4, 1, 2, 3, 4, 1, 2, 3, 4, 1, 2, 3, 4, 1, 2, 3, 4, 1, 2, 3, 4, 1, 2, 3, 4, 1, 2, 3, 4, 1, 2, 3, 4, 1, 2, 3, 4, 1, 2, 3, 4, 1, 2, 3, 4, 1, 2, 3, 4, 1, 2, 3, 4, 1, 2, 3, 4, 1, 2, 3, 4, 1, 2, 3, 4, 1, 2, 3, 4, 1, 2, 3, 4, 1, 2, 3, 4, 1, 2, 3, 4, 1, 2, 3, 4, 1, 2, 3, 4, 1, 2, 3, 4, 1, 2, 3, 4, 1, 2, 3, 4, 1, 2, 3, 4, 1, 2, 3, 4, 1, 2, 3, 4, 1, 2, 3, 4, 1, 2, 3, 4, 1, 2, 3, 4, 1, 2, 3, 4, 1, 2, 3, 4, 1, 2, 3, 4, 1, 2, 3, 4, 1, 2, 3, 4, 1, 2, 3, 4, 1, 2, 3, 4, 1, 2, 3, 4, 1, 2, 3, 4, 1, 2, 3, 4, 1, 2, 3, 4, 1, 2, 3, 4, 1, 2, 3, 4, 1, 2, 3, 4, 1, 2, 3, 4, 1, 2, 3, 4, 1, 2, 3, 4, 1, 2, 3, 4, 1, 2, 3, 4, 1, 2, 3, 4, 1, 2, 3, 4, 1, 2, 3, 4, 1, 2, 3, 4, 1, 2, 3, 4, 1, 2, 3, 4, 1, 2, 3, 4, 1, 2, 3, 4, 1, 2, 3, 4, 1, 2, 3, 4, 1, 2, 3, 4, 1, 2, 3, 4, 1, 2, 3, 4, 1, 2, 3, 4, 1, 2, 3, 4, 1, 2, 3, 4, 1, 2, 3, 4, 1, 2, 3, 4, 1, 2, 3, 4, 1, 2, 3, 4, 1, 2, 3, 4, 1, 2, 3, 4, 1, 2, 3, 4, 1, 2, 3, 4, 1, 2, 3, 4, 1, 2, 3, 4, 1, 2, 3, 4, 1, 2, 3, 4, 1, 2, 3, 4, 1, 2, 3, 4, 1, 2, 3, 4, 1, 2, 3, 4, 1, 2, 3, 4, 1, 2, 3, 4, 1, 2, 3, 4, 1, 2, 3, 4, 1, 2, 3, 4, 1, 2, 3, 4, 1, 2, 3, 4, 1, 2, 3, 4, 1, 2, 3, 4, 1, 2, 3, 4, 1, 2, 3, 4, 1, 2, 3, 4, 1, 2, 3, 4, 1, 2, 3, 4, 1, 2, 3, 4, 1, 2, 3, 4, 1, 2, 3, 4, 1, 2, 3, 4, 1, 2, 3, 4, 1, 2, 3, 4, 1, 2, 3, 4, 1, 2, 3, 4, 1, 2, 3, 4, 1, 2, 3, 4, 1, 2, 3, 4, 1, 2, 3, 4, 1, 2, 3, 4, 1, 2, 3, 4, 1, 2, 3, 4, 1, 2, 3, 4, 1, 2, 3, 4, 1, 2, 3, 4, 1, 2, 3, 4, 1, 2, 3, 4, 1, 2, 3, 4, 1, 2, 3, 4, 1, 2, 3, 4, 1, 2, 3, 4, 1, 2, 3, 4, 1, 2, 3, 4, 1, 2, 3, 4, 1, 2, 3, 4, 1, 2, 3, 4, 1, 2, 3, 4, 1, 2, 3, 4, 1, 2, 3, 4, 1, 2, 3, 4, 1, 2, 3, 4, 1, 2, 3, 4, 1, 2, 3, 4, 1, 2, 3, 4, 1, 2, 3, 4, 1, 2, 3, 4, 1, 2, 3, 4], \"Freq\": [0.2866704849675384, 0.19111365664502558, 0.3503750371825469, 0.1592613805375213, 0.4123945266619224, 0.18145359173124587, 0.2556846065303919, 0.1567099201315305, 0.2674664584492816, 0.11887398153301403, 0.4457774307488026, 0.20802946768277455, 0.16292187206820455, 0.2443828081023068, 0.4276699141790369, 0.1832871060767301, 0.2488211082227861, 0.37323166233417915, 0.22808601587088725, 0.1451456464632919, 0.48003598153904115, 0.1661663013019758, 0.24001799076952057, 0.1107775342013172, 0.27616043065472023, 0.3945149009353146, 0.1972574504676573, 0.11835447028059438, 0.21944018071572075, 0.40512033362902294, 0.2869602363205579, 0.08440006950604645, 0.22598254524109582, 0.45196509048219163, 0.16141610374363988, 0.16141610374363988, 0.49812752815238387, 0.21657718615321037, 0.19491946753788933, 0.08663087446128415, 0.4510117832789605, 0.12300321362153468, 0.2870074984502476, 0.1640042848287129, 0.255281563124817, 0.2042252504998536, 0.3233566466247682, 0.2212440213748414, 0.30492036216296814, 0.15246018108148407, 0.4065604828839575, 0.10164012072098938, 0.2664294445518437, 0.47365234586994437, 0.17761962970122913, 0.08880981485061457, 0.18549348894023124, 0.4377646338989457, 0.2559810147375191, 0.12242570270055261, 0.20080965552272406, 0.46068097443448464, 0.16537265748930216, 0.16537265748930216, 0.4492064931410446, 0.1382173825049368, 0.345543456262342, 0.0691086912524684, 0.23437383650076996, 0.5113610978198617, 0.14914698686412634, 0.10653356204580453, 0.4468710546217273, 0.24062287556554549, 0.1718734825468182, 0.13749878603745455, 0.18900639018405913, 0.3307611828221035, 0.18900639018405913, 0.30713538404909607, 0.25273514030025795, 0.27571106214573593, 0.20678329660930195, 0.27571106214573593, 0.6478369105481393, 0.14396375789958651, 0.11996979824965542, 0.09597583859972433, 0.25024512626592776, 0.18768384469944582, 0.2815257670491687, 0.2815257670491687, 0.2729729454141842, 0.19498067529584584, 0.3899613505916917, 0.11698840517750751, 0.3231618572013375, 0.20197616075083594, 0.26930154766778125, 0.215441238134225, 0.31570407678234536, 0.1722022236994611, 0.40180518863207587, 0.11480148246630739, 0.519301365236537, 0.14540438226623037, 0.20772054609461482, 0.12463232765676889, 0.3564436147226841, 0.13366635552100653, 0.3564436147226841, 0.13366635552100653, 0.25202483802467124, 0.2160212897354325, 0.37803725703700686, 0.144014193156955, 0.2334068428620684, 0.3792861196508612, 0.20423098750430985, 0.1750551321465513, 0.5599313490622996, 0.16797940471868988, 0.13065064811453658, 0.14931502641661323, 0.23625828332125834, 0.30895313972779936, 0.30895313972779936, 0.14538971281308205, 0.1173379427350553, 0.2868260822412463, 0.44327667255465336, 0.14341304112062314, 0.3459196788999839, 0.14825129095713593, 0.37062822739283985, 0.14825129095713593, 0.19678754289413306, 0.3935750857882661, 0.22958546670982188, 0.19678754289413306, 0.4940780852509649, 0.2058658688545687, 0.12351952131274123, 0.2058658688545687, 0.2889838082885112, 0.27584818063903344, 0.24300911151533897, 0.19703441474216674, 0.2435584534418888, 0.22326191565506476, 0.3247446045891851, 0.22326191565506476, 0.27449095366384885, 0.2897404510896182, 0.19824346653500194, 0.2439919588123101, 0.13567022206075247, 0.3798766217701069, 0.18993831088505345, 0.27134044412150493, 0.1709776373155915, 0.3869493897142334, 0.18897528334881167, 0.2519670444650822, 0.4160006603436454, 0.22186701884994423, 0.15253357545933666, 0.2080003301718227, 0.5033911033558102, 0.2157390442953472, 0.17978253691278934, 0.1078695221476736, 0.28327044752783426, 0.12140162036907183, 0.3237376543175249, 0.24280324073814366, 0.17326935859923961, 0.1980221241134167, 0.3960442482268334, 0.2227748896275938, 0.22962520797378874, 0.27555024956854646, 0.22962520797378874, 0.27555024956854646, 0.25223065734173894, 0.34515774162553753, 0.18585416856759712, 0.21240476407725387, 0.33048911121466096, 0.19028160948722903, 0.2804150034548638, 0.19028160948722903, 0.26565256283383437, 0.30815697288724786, 0.170017640213654, 0.26565256283383437, 0.5126645023116682, 0.10985667906678605, 0.2197133581335721, 0.14647557208904807, 0.2882995736607164, 0.2805076932915078, 0.16362948775337957, 0.2727158129222993, 0.14947712774590194, 0.24912854624316988, 0.23916340439344308, 0.3587451065901646, 0.6753364404386643, 0.1384580986673412, 0.12715539673531334, 0.056513509660139266, 0.2018083704831151, 0.43244650817810376, 0.2018083704831151, 0.1729786032712415, 0.23300760454529304, 0.37281216727246885, 0.23300760454529304, 0.15533840303019536, 0.14314614994955413, 0.3578653748738853, 0.20577259055248404, 0.28629229989910826, 0.17646162508909974, 0.4411540627227494, 0.17646162508909974, 0.20587189593728303, 0.20234258266409183, 0.36208672687258536, 0.14909453459459399, 0.28753945957528837, 0.2452186322478773, 0.2724651469420859, 0.3814512057189202, 0.08173954408262576, 0.526265873496891, 0.15036167814196885, 0.18795209767746107, 0.11277125860647663, 0.5132853055299049, 0.10806006432208526, 0.1620900964831279, 0.24313514472469183, 0.18829301749091928, 0.22595162098910315, 0.22595162098910315, 0.33892743148365473, 0.17390162933029016, 0.3478032586605803, 0.3974894384692346, 0.09937235961730866, 0.26432885940222745, 0.08810961980074249, 0.49928784553754074, 0.14684936633457082, 0.17185796966236505, 0.3559915085863276, 0.08592898483118253, 0.3805426471095226, 0.29169728269700246, 0.10482871096923527, 0.3828526835398157, 0.21877296202275184, 0.36396910635876556, 0.3846491692200591, 0.1406244274567958, 0.1116723394509849, 0.2980019156248388, 0.38809551802304587, 0.18018720479641417, 0.13167526504353344, 0.3555173035212275, 0.228546837977932, 0.15236455865195467, 0.2539409310865911, 0.7077913894441162, 0.2289913318789788, 0.04163478761435978, 0.02081739380717989, 0.23284351940298287, 0.23284351940298287, 0.27941222328357945, 0.24836642069651504, 0.2382114146003269, 0.3870935487255312, 0.17865856095024518, 0.20843498777528605, 0.5345705584270087, 0.10691411168540176, 0.2138282233708035, 0.142552148913869, 0.189518468972102, 0.379036937944204, 0.189518468972102, 0.189518468972102, 0.37076610196657234, 0.14830644078662894, 0.14830644078662894, 0.33368949176991514, 0.21560656067639114, 0.18480562343690668, 0.36961124687381336, 0.2464074979158756, 0.2181824338355914, 0.17454594706847312, 0.39272838090406453, 0.17454594706847312, 0.2745859447626069, 0.2745859447626069, 0.14326223205005578, 0.31040150277512085, 0.3615880169094539, 0.308019421811757, 0.13392148774424217, 0.19641818202488853, 0.19122593895391002, 0.26293566606162627, 0.3585486355385813, 0.21512918132314876, 0.2157696576437001, 0.33444296934773515, 0.2211638990847926, 0.2319523819669776, 0.2930069153894292, 0.21975518654207188, 0.21975518654207188, 0.25638105096575053, 0.32868276125657947, 0.4017233748691527, 0.14608122722514644, 0.10956092041885983, 0.3931189266074564, 0.32971264812238277, 0.20290009115223556, 0.07608753418208834, 0.15170392632310867, 0.28444486185582873, 0.26548187106544013, 0.30340785264621734, 0.3730738610723115, 0.16581060492102734, 0.20726325615128416, 0.248715907381541, 0.48057218807862734, 0.17475352293768268, 0.21844190367210334, 0.131065142203262, 0.5514659231523321, 0.08707356681352613, 0.232196178169403, 0.1160980890847015, 0.3746075470678403, 0.35832026241271675, 0.11401099258586442, 0.1465855618961114, 0.41429815837231687, 0.3007002762379719, 0.1670557090210955, 0.11359788213434495, 0.31086655964875554, 0.24869324771900445, 0.15543327982437777, 0.27977990368388, 0.2436259286973232, 0.18271944652299238, 0.42634537522031557, 0.14211512507343851, 0.27310321589109826, 0.22344808572908037, 0.347585911134125, 0.1489653904860536, 0.592217018684143, 0.11280324165412248, 0.22560648330824495, 0.05640162082706124, 0.4241413427850706, 0.29780136833845383, 0.1804856777808811, 0.09024283889044055, 0.1985441693185916, 0.3750278753795619, 0.24266509583383417, 0.15442324280334901, 0.33946601060804726, 0.22631067373869818, 0.30551940954724255, 0.13578640424321892, 0.230791677926291, 0.2130384719319609, 0.3018045019036113, 0.24854488392062107, 0.1526120442810788, 0.3662689062745891, 0.1526120442810788, 0.3052240885621576, 0.2800830016750102, 0.4481328026800163, 0.16804980100500613, 0.11203320067000408, 0.2589179458854451, 0.22192966790181007, 0.20343552890999256, 0.2959062238690801, 0.32896025379397925, 0.2614812273747015, 0.21087195756024313, 0.19400220095542367, 0.23436746821907325, 0.39061244703178877, 0.2538980905706627, 0.13671435646112606, 0.48016499419325764, 0.22744657619680625, 0.176902892597516, 0.10108736719858057, 0.6445648203339965, 0.11374673300011703, 0.11374673300011703, 0.11374673300011703, 0.40746128797150816, 0.16553114823842519, 0.21646380923486372, 0.21646380923486372, 0.2611493331038312, 0.2176244442531927, 0.39172399965574684, 0.17409955540255415, 0.39711795714042725, 0.3750558484104035, 0.09927948928510681, 0.13237265238014242, 0.3049745088007929, 0.2178389348577092, 0.3485422957723347, 0.13070336091462553, 0.4532463281479037, 0.22662316407395186, 0.22662316407395186, 0.09064926562958076, 0.507895974070405, 0.12697399351760125, 0.10157919481408098, 0.27934278573872273, 0.12896368323474902, 0.36344310729792906, 0.4689588481263601, 0.046895884812636006, 0.1981952541215887, 0.23783430494590643, 0.35675145741885966, 0.15855620329727096, 0.30798341424293274, 0.38189943366123663, 0.12319336569717311, 0.18479004854575967, 0.2508237423750785, 0.45148273627514124, 0.11287068406878531, 0.18811780678130885, 0.1867376247419492, 0.4001520530184625, 0.2400912318110775, 0.16006082120738502, 0.3389230009520451, 0.2990497067223927, 0.0996832355741309, 0.25917641249274037, 0.5655592137444267, 0.21399537817356687, 0.12228307324203821, 0.09171230493152867, 0.6766222800263935, 0.2388078635387271, 0.03980131058978785, 0.0796026211795757, 0.14916328252788022, 0.2684939085501844, 0.29832656505576044, 0.2684939085501844, 0.30833057664405217, 0.2713309074467659, 0.24666446131524175, 0.1726651229206692, 0.27230544650747357, 0.22279536532429658, 0.19804032473270808, 0.3218155276906506, 0.42189271334124334, 0.19053219312185185, 0.16331330839015873, 0.21775107785354497, 0.4935032709637331, 0.2151168104200888, 0.16450109032124435, 0.12653930024711105, 0.2747048380624328, 0.1373524190312164, 0.36627311741657703, 0.22892069838536064, 0.34057156993715376, 0.10836368134363984, 0.35605209584338804, 0.2012468367810454, 0.6021511225820959, 0.11392048265066679, 0.22784096530133358, 0.06509741865752387, 0.3656336454860306, 0.2708397373970597, 0.2708397373970597, 0.0947939080889709, 0.1635256552504187, 0.376109007075963, 0.19623078630050245, 0.2779936139257118, 0.2711649714115481, 0.4067474571173222, 0.1694781071322176, 0.15253029641899582, 0.4571888976656889, 0.18287555906627556, 0.25145389371612886, 0.13715666929970666, 0.30724474126776224, 0.3840559265847028, 0.23043355595082168, 0.11521677797541084, 0.1840496378392948, 0.4049092032464486, 0.2944794205428717, 0.14723971027143584, 0.30755321045290934, 0.2050354736352729, 0.2050354736352729, 0.2733806315136972, 0.20515451159200337, 0.24834493508505673, 0.3995114173107434, 0.1511664822256867, 0.4574937337009299, 0.18299749348037195, 0.20129724282840913, 0.14639799478429755, 0.5833309462767234, 0.09722182437945391, 0.19444364875890782, 0.09722182437945391, 0.2318784746383582, 0.4240063536244264, 0.14575218405839657, 0.1987529782614499, 0.36004292166394014, 0.2700321912479551, 0.25717351547424294, 0.11572808196340933, 0.30249344643290305, 0.12964004847124416, 0.475346844394562, 0.12964004847124416, 0.28476486339418045, 0.22148378263991814, 0.36386621433700833, 0.12656216150852465, 0.17503618134543342, 0.12502584381816673, 0.5251085440363003, 0.17503618134543342, 0.3230839771292489, 0.21538931808616593, 0.1884656533253952, 0.26923664760770744, 0.40338790753790765, 0.22292489627094897, 0.19107848251795626, 0.1804630112669587, 0.20463412874144948, 0.2675984760465109, 0.3305628233515722, 0.18889304191518413, 0.30426185686043994, 0.2583355388437698, 0.20379803619897394, 0.2325019849593928], \"Term\": [\"amigo\", \"amigo\", \"amigo\", \"amigo\", \"ano\", \"ano\", \"ano\", \"ano\", \"antiguo\", \"antiguo\", \"antiguo\", \"antiguo\", \"articulo\", \"articulo\", \"articulo\", \"articulo\", \"aspecto\", \"aspecto\", \"aspecto\", \"aspecto\", \"autor\", \"autor\", \"autor\", \"autor\", \"caber\", \"caber\", \"caber\", \"caber\", \"campo\", \"campo\", \"campo\", \"campo\", \"capitulo\", \"capitulo\", \"capitulo\", \"capitulo\", \"caracter\", \"caracter\", \"caracter\", \"caracter\", \"casa\", \"casa\", \"casa\", \"casa\", \"caso\", \"caso\", \"caso\", \"caso\", \"celebrar\", \"celebrar\", \"celebrar\", \"celebrar\", \"cerebro\", \"cerebro\", \"cerebro\", \"cerebro\", \"chomsky\", \"chomsky\", \"chomsky\", \"chomsky\", \"ciencia\", \"ciencia\", \"ciencia\", \"ciencia\", \"ciudad\", \"ciudad\", \"ciudad\", \"ciudad\", \"cognitiva\", \"cognitiva\", \"cognitiva\", \"cognitiva\", \"completo\", \"completo\", \"completo\", \"completo\", \"concreto\", \"concreto\", \"concreto\", \"concreto\", \"conocimiento\", \"conocimiento\", \"conocimiento\", \"conocimiento\", \"consciente\", \"consciente\", \"consciente\", \"consciente\", \"constituir\", \"constituir\", \"constituir\", \"constituir\", \"convertir\", \"convertir\", \"convertir\", \"convertir\", \"cosa\", \"cosa\", \"cosa\", \"cosa\", \"creer\", \"creer\", \"creer\", \"creer\", \"cultura\", \"cultura\", \"cultura\", \"cultura\", \"cultural\", \"cultural\", \"cultural\", \"cultural\", \"dejar\", \"dejar\", \"dejar\", \"dejar\", \"desarrollar\", \"desarrollar\", \"desarrollar\", \"desarrollar\", \"deseo\", \"deseo\", \"deseo\", \"deseo\", \"determinado\", \"determinado\", \"determinado\", \"determinado\", \"diccionario\", \"diccionario\", \"diccionario\", \"diccionario\", \"dio\", \"dio\", \"dio\", \"dio\", \"distinto\", \"distinto\", \"distinto\", \"distinto\", \"dudar\", \"dudar\", \"dudar\", \"dudar\", \"ejemplo\", \"ejemplo\", \"ejemplo\", \"ejemplo\", \"escribir\", \"escribir\", \"escribir\", \"escribir\", \"escrito\", \"escrito\", \"escrito\", \"escrito\", \"especifico\", \"especifico\", \"especifico\", \"especifico\", \"estructura\", \"estructura\", \"estructura\", \"estructura\", \"estudio\", \"estudio\", \"estudio\", \"estudio\", \"existencia\", \"existencia\", \"existencia\", \"existencia\", \"expresar\", \"expresar\", \"expresar\", \"expresar\", \"fanatismo\", \"fanatismo\", \"fanatismo\", \"fanatismo\", \"fenomeno\", \"fenomeno\", \"fenomeno\", \"fenomeno\", \"filosofia\", \"filosofia\", \"filosofia\", \"filosofia\", \"filosofico\", \"filosofico\", \"filosofico\", \"filosofico\", \"filosofo\", \"filosofo\", \"filosofo\", \"filosofo\", \"finalmente\", \"finalmente\", \"finalmente\", \"finalmente\", \"forma\", \"forma\", \"forma\", \"forma\", \"frase\", \"frase\", \"frase\", \"frase\", \"freud\", \"freud\", \"freud\", \"freud\", \"fundamental\", \"fundamental\", \"fundamental\", \"fundamental\", \"general\", \"general\", \"general\", \"general\", \"generativo\", \"generativo\", \"generativo\", \"generativo\", \"gramatica\", \"gramatica\", \"gramatica\", \"gramatica\", \"gramatico\", \"gramatico\", \"gramatico\", \"gramatico\", \"guerra\", \"guerra\", \"guerra\", \"guerra\", \"habiar\", \"habiar\", \"habiar\", \"habiar\", \"habrio\", \"habrio\", \"habrio\", \"habrio\", \"hacer\", \"hacer\", \"hacer\", \"hacer\", \"hecho\", \"hecho\", \"hecho\", \"hecho\", \"hijo\", \"hijo\", \"hijo\", \"hijo\", \"historia\", \"historia\", \"historia\", \"historia\", \"hombre\", \"hombre\", \"hombre\", \"hombre\", \"humano\", \"humano\", \"humano\", \"humano\", \"idea\", \"idea\", \"idea\", \"idea\", \"importante\", \"importante\", \"importante\", \"importante\", \"inconsciente\", \"inconsciente\", \"inconsciente\", \"inconsciente\", \"intelectual\", \"intelectual\", \"intelectual\", \"intelectual\", \"intentar\", \"intentar\", \"intentar\", \"intentar\", \"interno\", \"interno\", \"interno\", \"interno\", \"investigacion\", \"investigacion\", \"investigacion\", \"investigacion\", \"justo\", \"justo\", \"justo\", \"justo\", \"lector\", \"lector\", \"lector\", \"lector\", \"leer\", \"leer\", \"leer\", \"leer\", \"lengua\", \"lengua\", \"lengua\", \"lengua\", \"lenguaje\", \"lenguaje\", \"lenguaje\", \"lenguaje\", \"ley\", \"ley\", \"ley\", \"ley\", \"linguistico\", \"linguistico\", \"linguistico\", \"linguistico\", \"llevar\", \"llevar\", \"llevar\", \"llevar\", \"logico\", \"logico\", \"logico\", \"logico\", \"lugar\", \"lugar\", \"lugar\", \"lugar\", \"luis\", \"luis\", \"luis\", \"luis\", \"mantener\", \"mantener\", \"mantener\", \"mantener\", \"mayorio\", \"mayorio\", \"mayorio\", \"mayorio\", \"medico\", \"medico\", \"medico\", \"medico\", \"mental\", \"mental\", \"mental\", \"mental\", \"mente\", \"mente\", \"mente\", \"mente\", \"momento\", \"momento\", \"momento\", \"momento\", \"moral\", \"moral\", \"moral\", \"moral\", \"mostrar\", \"mostrar\", \"mostrar\", \"mostrar\", \"muerte\", \"muerte\", \"muerte\", \"muerte\", \"mundo\", \"mundo\", \"mundo\", \"mundo\", \"natural\", \"natural\", \"natural\", \"natural\", \"naturaleza\", \"naturaleza\", \"naturaleza\", \"naturaleza\", \"nino\", \"nino\", \"nino\", \"nino\", \"nivel\", \"nivel\", \"nivel\", \"nivel\", \"nombre\", \"nombre\", \"nombre\", \"nombre\", \"objeto\", \"objeto\", \"objeto\", \"objeto\", \"obra\", \"obra\", \"obra\", \"obra\", \"orden\", \"orden\", \"orden\", \"orden\", \"origen\", \"origen\", \"origen\", \"origen\", \"oscuro\", \"oscuro\", \"oscuro\", \"oscuro\", \"palabra\", \"palabra\", \"palabra\", \"palabra\", \"parecer\", \"parecer\", \"parecer\", \"parecer\", \"pensamiento\", \"pensamiento\", \"pensamiento\", \"pensamiento\", \"pequeno\", \"pequeno\", \"pequeno\", \"pequeno\", \"persona\", \"persona\", \"persona\", \"persona\", \"pese\", \"pese\", \"pese\", \"pese\", \"politico\", \"politico\", \"politico\", \"politico\", \"preguntar\", \"preguntar\", \"preguntar\", \"preguntar\", \"principio\", \"principio\", \"principio\", \"principio\", \"proceso\", \"proceso\", \"proceso\", \"proceso\", \"producir\", \"producir\", \"producir\", \"producir\", \"profundo\", \"profundo\", \"profundo\", \"profundo\", \"psicoanalisis\", \"psicoanalisis\", \"psicoanalisis\", \"psicoanalisis\", \"psique\", \"psique\", \"psique\", \"psique\", \"pueblo\", \"pueblo\", \"pueblo\", \"pueblo\", \"punto\", \"punto\", \"punto\", \"punto\", \"querer\", \"querer\", \"querer\", \"querer\", \"razon\", \"razon\", \"razon\", \"razon\", \"realidad\", \"realidad\", \"realidad\", \"realidad\", \"recibir\", \"recibir\", \"recibir\", \"recibir\", \"religion\", \"religion\", \"religion\", \"religion\", \"religioso\", \"religioso\", \"religioso\", \"religioso\", \"resultar\", \"resultar\", \"resultar\", \"resultar\", \"rey\", \"rey\", \"rey\", \"rey\", \"rousseau\", \"rousseau\", \"rousseau\", \"rousseau\", \"sentimiento\", \"sentimiento\", \"sentimiento\", \"sentimiento\", \"ser\", \"ser\", \"ser\", \"ser\", \"servir\", \"servir\", \"servir\", \"servir\", \"significado\", \"significado\", \"significado\", \"significado\", \"sociedad\", \"sociedad\", \"sociedad\", \"sociedad\", \"sujeto\", \"sujeto\", \"sujeto\", \"sujeto\", \"tenia\", \"tenia\", \"tenia\", \"tenia\", \"teoria\", \"teoria\", \"teoria\", \"teoria\", \"tiempo\", \"tiempo\", \"tiempo\", \"tiempo\", \"tierra\", \"tierra\", \"tierra\", \"tierra\", \"tipo\", \"tipo\", \"tipo\", \"tipo\", \"tolerancia\", \"tolerancia\", \"tolerancia\", \"tolerancia\", \"tomar\", \"tomar\", \"tomar\", \"tomar\", \"vida\", \"vida\", \"vida\", \"vida\", \"visto\", \"visto\", \"visto\", \"visto\", \"voltaire\", \"voltaire\", \"voltaire\", \"voltaire\"]}, \"R\": 30, \"lambda.step\": 0.01, \"plot.opts\": {\"xlab\": \"PC1\", \"ylab\": \"PC2\"}, \"topic.order\": [1, 2, 3, 4]};\n",
       "\n",
       "function LDAvis_load_lib(url, callback){\n",
       "  var s = document.createElement('script');\n",
       "  s.src = url;\n",
       "  s.async = true;\n",
       "  s.onreadystatechange = s.onload = callback;\n",
       "  s.onerror = function(){console.warn(\"failed to load library \" + url);};\n",
       "  document.getElementsByTagName(\"head\")[0].appendChild(s);\n",
       "}\n",
       "\n",
       "if(typeof(LDAvis) !== \"undefined\"){\n",
       "   // already loaded: just create the visualization\n",
       "   !function(LDAvis){\n",
       "       new LDAvis(\"#\" + \"ldavis_el8804110192732641209595999\", ldavis_el8804110192732641209595999_data);\n",
       "   }(LDAvis);\n",
       "}else if(typeof define === \"function\" && define.amd){\n",
       "   // require.js is available: use it to load d3/LDAvis\n",
       "   require.config({paths: {d3: \"https://d3js.org/d3.v5\"}});\n",
       "   require([\"d3\"], function(d3){\n",
       "      window.d3 = d3;\n",
       "      LDAvis_load_lib(\"https://cdn.jsdelivr.net/gh/bmabey/pyLDAvis@3.4.0/pyLDAvis/js/ldavis.v3.0.0.js\", function(){\n",
       "        new LDAvis(\"#\" + \"ldavis_el8804110192732641209595999\", ldavis_el8804110192732641209595999_data);\n",
       "      });\n",
       "    });\n",
       "}else{\n",
       "    // require.js not available: dynamically load d3 & LDAvis\n",
       "    LDAvis_load_lib(\"https://d3js.org/d3.v5.js\", function(){\n",
       "         LDAvis_load_lib(\"https://cdn.jsdelivr.net/gh/bmabey/pyLDAvis@3.4.0/pyLDAvis/js/ldavis.v3.0.0.js\", function(){\n",
       "                 new LDAvis(\"#\" + \"ldavis_el8804110192732641209595999\", ldavis_el8804110192732641209595999_data);\n",
       "            })\n",
       "         });\n",
       "}\n",
       "</script>"
      ],
      "text/plain": [
       "PreparedData(topic_coordinates=              x         y  topics  cluster       Freq\n",
       "topic                                                \n",
       "0      0.028882 -0.003355       1        1  32.329322\n",
       "1     -0.009191 -0.015617       2        1  27.165366\n",
       "2     -0.003162  0.019973       3        1  22.827131\n",
       "3     -0.016530 -0.001000       4        1  17.678181, topic_info=         Term        Freq       Total Category  logprob  loglift\n",
       "269     freud  353.000000  353.000000  Default  30.0000  30.0000\n",
       "70     hombre  219.000000  219.000000  Default  29.0000  29.0000\n",
       "89   historia   81.000000   81.000000  Default  28.0000  28.0000\n",
       "7     chomsky  269.000000  269.000000  Default  27.0000  27.0000\n",
       "104     frase  100.000000  100.000000  Default  26.0000  26.0000\n",
       "..        ...         ...         ...      ...      ...      ...\n",
       "48        ano   19.039201  121.243122   Topic4  -4.9196  -0.1185\n",
       "97       vida   17.251636   94.202130   Topic4  -5.0182   0.0353\n",
       "22       idea   18.832801  144.294374   Topic4  -4.9305  -0.3034\n",
       "269     freud   20.411850  353.897681   Topic4  -4.8500  -1.1201\n",
       "28      mente   17.370701  149.650677   Topic4  -5.0113  -0.4207\n",
       "\n",
       "[242 rows x 6 columns], token_table=      Topic      Freq      Term\n",
       "term                           \n",
       "82        1  0.286670     amigo\n",
       "82        2  0.191114     amigo\n",
       "82        3  0.350375     amigo\n",
       "82        4  0.159261     amigo\n",
       "48        1  0.412395       ano\n",
       "...     ...       ...       ...\n",
       "63        4  0.188893     visto\n",
       "292       1  0.304262  voltaire\n",
       "292       2  0.258336  voltaire\n",
       "292       3  0.203798  voltaire\n",
       "292       4  0.232502  voltaire\n",
       "\n",
       "[584 rows x 3 columns], R=30, lambda_step=0.01, plot_opts={'xlab': 'PC1', 'ylab': 'PC2'}, topic_order=[1, 2, 3, 4])"
      ]
     },
     "execution_count": 21,
     "metadata": {},
     "output_type": "execute_result"
    }
   ],
   "source": [
    "lda_model_opt = LdaMulticore(corpus = corpus,\n",
    "    id2word = dictionary,\n",
    "    num_topics = 4,\n",
    "    random_state=123)\n",
    "pyLDAvis.enable_notebook()\n",
    "LDA_visualization = gensimvis.prepare(lda_model_opt, corpus, dictionary)\n",
    "LDA_visualization"
   ]
  },
  {
   "cell_type": "markdown",
   "metadata": {},
   "source": [
    "Los resultados sugieren que hay 4 tipos de temas en estas páginas. Los 3 encontrados anteriormente, y páginas que hablan sobre estos 3 autores simultáneamente.\n",
    "\n",
    "Es importante destacar que la medida de coherencia  no es sólo del tema en sí, sino también del conjunto de datos que se utiliza como referencia. Asimismo, parte de la literatura suele favorecerla ya que lleva a mejor interpretabilidad que otras medidas."
   ]
  },
  {
   "cell_type": "markdown",
   "metadata": {},
   "source": [
    "#### Medida de Perplejidad\n",
    "\n",
    "Otra de las medidas utilizadas, es la medida de Perplejidad. A diferencia de la medida de coherencia lo que buscaremos es minimizar la perplejidad.\n",
    "\n",
    "Esta medida calcula el número de palabras diferentes que son igualmente probables a seguir a cualquier palabra dada. Para aclarar qué queremos decir con esto, consideremos un ejemplo con 2 palabras: *el* y *anunciar*. La palabra *el* puede anteceder a una gran cantidad de palabras de igual probabilidad, mientras que el número de palabras de igual probabilidad que anteceden a *anunciar* será relativamente menor. \n",
    "\n",
    "La idea intuitiva es que palabras que, en promedio, pueden ir seguidas de un menor número de palabras de igual probabilidad, son más específicas y por lo tanto  pueden estar más estrechamente vinculadas a los tópicos. Entonces puntuaciones más bajas de perplejidad implican mejores modelos de lenguaje.\n",
    "\n",
    "El cálculo es sencillo usando  [gensim](https://radimrehurek.com/gensim/index.html); ya que tanto [LDAModel](https://radimrehurek.com/gensim/models/ldamodel.html?highlight=ldamodel#module-gensim.models.ldamode)  como  [LdaMulticore](https://radimrehurek.com/gensim/models/ldamulticore.html) retornan el límite por palabra de la verosimilitud, por lo que para convertirlo en perplejidad necesitamos hacer $perplejidad=2^{(-limite)}$:"
   ]
  },
  {
   "cell_type": "code",
   "execution_count": 22,
   "metadata": {},
   "outputs": [
    {
     "data": {
      "text/plain": [
       "47.556641443315456"
      ]
     },
     "execution_count": 22,
     "metadata": {},
     "output_type": "execute_result"
    }
   ],
   "source": [
    "np.exp2(-lda_model_opt.log_perplexity(corpus))"
   ]
  },
  {
   "cell_type": "markdown",
   "metadata": {},
   "source": [
    "Dado que nos interesa minimizar esta perplejidad comparemos esta medida para distinto números de temas. Crearemos entonces una función similar a la que construimos en la sección anterior:"
   ]
  },
  {
   "cell_type": "code",
   "execution_count": 23,
   "metadata": {},
   "outputs": [],
   "source": [
    "def perplejidad_ntemas(dictionary, corpus, texts, start=1, limit=10, step=1):\n",
    " \n",
    "    perplejidad_values = []\n",
    "    model_list = []\n",
    "    \n",
    "    for num_topics in range(start, limit, step):\n",
    "        model = LdaMulticore(corpus=corpus,\n",
    "                        id2word=dictionary,\n",
    "                        num_topics=num_topics, \n",
    "                        random_state=123,\n",
    "                        passes=20)\n",
    "        model_list.append(model)\n",
    "        perplejidad_values.append(np.exp2(-model.log_perplexity(corpus)))\n",
    "\n",
    "    return model_list, perplejidad_values"
   ]
  },
  {
   "cell_type": "code",
   "execution_count": 24,
   "metadata": {},
   "outputs": [],
   "source": [
    "modelos, valores_p = perplejidad_ntemas(dictionary=dictionary, corpus=corpus, texts=clean, start=1, limit=10, step=1)"
   ]
  },
  {
   "cell_type": "code",
   "execution_count": 25,
   "metadata": {},
   "outputs": [
    {
     "data": {
      "image/png": "[encoded data removed]",
      "text/plain": [
       "<Figure size 640x480 with 1 Axes>"
      ]
     },
     "metadata": {},
     "output_type": "display_data"
    }
   ],
   "source": [
    "import matplotlib.pyplot as plt\n",
    "# Show graph\n",
    "limit=10; start=1; step=1;\n",
    "x = range(start, limit, step)\n",
    "plt.plot(x, valores_p)\n",
    "plt.xlabel(\"Número de Temas\")\n",
    "plt.ylabel(\"Medida de Perplejidad\")\n",
    "\n",
    "plt.show()"
   ]
  },
  {
   "cell_type": "markdown",
   "metadata": {},
   "source": [
    "Tenemos entonces un resultado análogo al anterior. En este caso ambos indicadores coinciden, pero a priori esto no tiene que ser así. En la práctica se tienden a utilizar ambos e indican el rango de posibles valores. Por esta razón, es recomendable calcular los 2 y en función de los resultados unidos al conocimiento del investigador decidir. "
   ]
  },
  {
   "cell_type": "markdown",
   "metadata": {},
   "source": [
    "## Consideraciones Finales\n",
    "\n",
    "Cuando queremos extraer información de una colección de documentos, el modelado de temas o tópicos es un enfoque que puede ser potencialmente útil, ya que proporciona información sobre la estructura subyacente de los documentos. \n",
    "\n",
    "En este sentido los modelos de temas se pueden usar para predecir los temas que pertenecen a documentos no vistos. Si vamos a hacer predicciones, es importante reconocer que los modelos de temas sólo conocen las palabras que se usan para entrenarlos. Es decir, si los documentos no vistos tienen palabras que no estaban en los datos de entrenamiento, el modelo no podrá procesar esas palabras incluso si se vinculan a uno de los temas identificados en los datos de entrenamiento. Debido a este hecho, los modelos de temas tienden a usarse más para el análisis exploratorio y la inferencia que para la predicción.\n",
    "\n",
    "Cuando se analiza el modelado de temas, es importante reforzar continuamente el hecho de que los grupos de palabras que representan los temas no están relacionados conceptualmente; están relacionados solo por proximidad. La proximidad frecuente de ciertas palabras en los documentos es suficiente para definir temas debido a que estamos asumiendo que todas las palabras en el mismo documento están relacionadas.\n",
    "\n",
    "Sin embargo, esta suposición puede no ser cierta o las palabras pueden ser demasiado genéricas para formar temas coherentes. La interpretación de temas abstractos implica equilibrar las características innatas de los datos de texto con las agrupaciones de palabras generadas. Los datos de texto, y el lenguaje en general, son muy variables, complejos y contextuales, lo que significa que cualquier resultado generalizado debe interpretarse con cautela.\n",
    "\n",
    "Es importante tener en cuenta también que la naturaleza ruidosa de los datos de texto puede hacer que los modelos de tópico asignen palabras no relacionadas con uno de los temas a ese tópico en particular. Esto no es necesariamente una falla en el modelo. En cambio, es una característica que, dados datos ruidosos, el modelo podría extraer peculiaridades de los datos que podrían afectar negativamente los resultados. Las correlaciones espurias podrían ser el resultado de cómo, dónde o cuándo se recopilaron los datos. \n",
    "\n",
    "Esto no es para minimizar o invalidar los resultados del modelo. Dados documentos cuidadosamente limpios y una cantidad adecuada de temas, las agrupaciones de palabras, como vimos, pueden ser una buena guía sobre lo que contiene un corpus y pueden incorporarse de manera efectiva en sistemas de datos más grandes como ser los sistemas de recomendación vistos en este módulo."
   ]
  },
  {
   "cell_type": "markdown",
   "metadata": {},
   "source": [
    "## Referencias\n",
    "\n",
    "- Banik, R. (2018). Hands-on recommendation systems with Python: start building powerful and personalized, recommendation engines with Python. Packt Publishing Ltd.\n",
    "\n",
    "- Blei, D. M., Jordan, M. I., &; Ng, A. Y. (2003). Latent Dirichlet Allocation. JMLR.org, 3, 993–1022. https://doi.org/10.5555/944919.944937 \n",
    "\n",
    "- Fradejas Rueda, J. M. (2020). Cuentapalabras. Estilometrıa y análisis de texto con R para filólogos.\n",
    "\n",
    "- Hoffman, M., Bach, F., & Blei, D. (2010). Online learning for latent dirichlet allocation. advances in neural information processing systems, 23.\n",
    "\n",
    "- Murphy, K. P. (2012). Machine learning: a probabilistic perspective. MIT press.\n",
    "\n",
    "- Patel, A. A. (2019). Hands-on unsupervised learning using Python: how to build applied machine learning solutions from unlabeled data. O'Reilly Media.\n",
    "\n",
    "- Rehurek, R., & Sojka, P. (2011). Gensim–python framework for vector space modeling. NLP Centre, Faculty of Informatics, Masaryk University, Brno, Czech Republic, 3(2).\n",
    "\n",
    "- Röder, M., Both, A., & Hinneburg, A. (2015). Exploring the space of topic coherence measures. In Proceedings of the eighth ACM international conference on Web search and data mining (pp. 399-408)."
   ]
  },
  {
   "cell_type": "markdown",
   "metadata": {},
   "source": [
    "# Información de Sesión"
   ]
  },
  {
   "cell_type": "code",
   "execution_count": 26,
   "metadata": {},
   "outputs": [
    {
     "name": "stdout",
     "output_type": "stream",
     "text": [
      "-----\n",
      "gensim              4.3.2\n",
      "matplotlib          3.7.1\n",
      "numpy               1.23.5\n",
      "pandas              2.0.1\n",
      "pyLDAvis            3.4.0\n",
      "session_info        1.0.0\n",
      "spacy               3.6.1\n",
      "unidecode           NA\n",
      "-----\n",
      "IPython             8.13.1\n",
      "jupyter_client      8.2.0\n",
      "jupyter_core        5.3.0\n",
      "-----\n",
      "Python 3.9.6 (default, May  7 2023, 23:32:44) [Clang 14.0.3 (clang-1403.0.22.14.1)]\n",
      "macOS-13.5.2-arm64-arm-64bit\n",
      "-----\n",
      "Session information updated at 2023-09-17 17:37\n"
     ]
    }
   ],
   "source": [
    "import session_info\n",
    "\n",
    "session_info.show(html=False)"
   ]
  }
 ],
 "metadata": {
  "interpreter": {
   "hash": "fe36d3cf18f454bb22b210d1ce52ae8c21a1b2f0a9257a143474ae90bef14b60"
  },
  "kernelspec": {
   "display_name": "Python 3 (ipykernel)",
   "language": "python",
   "name": "python3"
  },
  "language_info": {
   "codemirror_mode": {
    "name": "ipython",
    "version": 3
   },
   "file_extension": ".py",
   "mimetype": "text/x-python",
   "name": "python",
   "nbconvert_exporter": "python",
   "pygments_lexer": "ipython3",
   "version": "3.9.6"
  },
  "toc": {
   "base_numbering": 1,
   "nav_menu": {},
   "number_sections": true,
   "sideBar": true,
   "skip_h1_title": false,
   "title_cell": "Table of Contents",
   "title_sidebar": "Contents",
   "toc_cell": false,
   "toc_position": {},
   "toc_section_display": true,
   "toc_window_display": false
  }
 },
 "nbformat": 4,
 "nbformat_minor": 2
}
