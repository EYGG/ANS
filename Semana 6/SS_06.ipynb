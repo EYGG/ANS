{
 "cells": [
  {
   "cell_type": "markdown",
   "metadata": {},
   "source": [
    "<div >\n",
    "<img src = \"figs/ans_banner_1920x200.png\" />\n",
    "</div>"
   ]
  },
  {
   "cell_type": "markdown",
   "metadata": {},
   "source": [
    "# Semana 6. Sesión Sincrónica.\n",
    "\n",
    "\n",
    "El  *cuaderno* tiene dos objetivos:\n",
    " 1. Introducir a los estudiantes a los contenidos de la semana 6.\n",
    " 2. Introducir a los estudiantes al análisis de datos espaciales que se estudiarán en la semana 7.\n",
    "\n",
    "**NO** es necesario editar el archivo o hacer una entrega. Los ejemplos contienen celdas con código ejecutable (`en gris`), que podrá modificar libremente. Esta puede ser una buena forma de aprender nuevas funcionalidades del *cuaderno*, o experimentar variaciones en los códigos de ejemplo.\n",
    "\n"
   ]
  },
  {
   "cell_type": "markdown",
   "metadata": {},
   "source": [
    "## ¿Qué son los sistemas de recomendaciones?\n",
    "\n",
    "\n",
    "Las preferencias de los individuos suelen seguir patrones que los sistemas de recomendación pueden aprovechar, por ejemplo,\n",
    "\n",
    "- Si te interesó:  <div style=\"max-width:200px\">\n",
    "<img src = \"figs/iron_man.jpg\" />\n",
    "</div>\n",
    "\n",
    "\n",
    "- También te puede interesar: <div style=\"max-width:200px\">\n",
    "<img src = \"figs/thor.jpg\" />\n",
    "</div> \n",
    "\n",
    "\n",
    "\n",
    "\n",
    "- Los sistemas de recomendación entonces encuentran patrones que son utilizados para predecir qué otros productos podrían gustarnos y generar sugerencias, de forma tal que  los usuarios encuentren contenido atractivo en un gran corpus. \n",
    "\n",
    "- Estos sistemas son muy exitosos, por ejemplo según un estudio del 2013 de [McKinsey](https://www.mckinsey.com/industries/retail/our-insights/how-retailers-can-keep-up-with-consumers), el 35% de los artículos comprados en Amazon surgen de estos sistemas de recomendación, y por lo tanto vale la pena estudiarlos cuidadosamente."
   ]
  },
  {
   "cell_type": "markdown",
   "metadata": {},
   "source": [
    "# Filtrado Colaborativo Basado en Usuarios.\n",
    "\n",
    "El filtrado colaborativo aprovecha el poder de la colaboración para generar recomendaciones. \n",
    "\n",
    "\n",
    "Para entender un poco mejor cuál es el problema al que nos enfrentamos, supongamos que tenemos una matriz con 5 usuarios y 5 productos, en este caso restaurantes. \n",
    "\n",
    "El valor de la celda denota el rating que le dió cada usuario al ítem. Este valor lo denotamos como $r_{ij}$ que será entonces el rating que le dio el usuario $i$ al restaurante $j$. \n",
    " "
   ]
  },
  {
   "cell_type": "markdown",
   "metadata": {},
   "source": [
    "##### Ejemplo: Recomendando Restaurantes"
   ]
  },
  {
   "cell_type": "code",
   "execution_count": 1,
   "metadata": {},
   "outputs": [],
   "source": [
    "#cargamos librerias\n",
    "import pandas as pd\n",
    "import numpy as np"
   ]
  },
  {
   "cell_type": "code",
   "execution_count": 2,
   "metadata": {},
   "outputs": [
    {
     "data": {
      "text/html": [
       "<div>\n",
       "<style scoped>\n",
       "    .dataframe tbody tr th:only-of-type {\n",
       "        vertical-align: middle;\n",
       "    }\n",
       "\n",
       "    .dataframe tbody tr th {\n",
       "        vertical-align: top;\n",
       "    }\n",
       "\n",
       "    .dataframe thead th {\n",
       "        text-align: right;\n",
       "    }\n",
       "</style>\n",
       "<table border=\"1\" class=\"dataframe\">\n",
       "  <thead>\n",
       "    <tr style=\"text-align: right;\">\n",
       "      <th></th>\n",
       "      <th>restaurant_id</th>\n",
       "      <th>user_id</th>\n",
       "      <th>rating</th>\n",
       "      <th>comentarios</th>\n",
       "    </tr>\n",
       "  </thead>\n",
       "  <tbody>\n",
       "    <tr>\n",
       "      <th>0</th>\n",
       "      <td>1</td>\n",
       "      <td>1</td>\n",
       "      <td>5.0</td>\n",
       "      <td>Excelente zerbicio, la comida deliziosa.</td>\n",
       "    </tr>\n",
       "    <tr>\n",
       "      <th>1</th>\n",
       "      <td>1</td>\n",
       "      <td>2</td>\n",
       "      <td>4.0</td>\n",
       "      <td>NaN</td>\n",
       "    </tr>\n",
       "    <tr>\n",
       "      <th>2</th>\n",
       "      <td>1</td>\n",
       "      <td>3</td>\n",
       "      <td>3.0</td>\n",
       "      <td>Comida mala y mal servicio</td>\n",
       "    </tr>\n",
       "    <tr>\n",
       "      <th>3</th>\n",
       "      <td>1</td>\n",
       "      <td>4</td>\n",
       "      <td>NaN</td>\n",
       "      <td>NaN</td>\n",
       "    </tr>\n",
       "    <tr>\n",
       "      <th>4</th>\n",
       "      <td>1</td>\n",
       "      <td>5</td>\n",
       "      <td>NaN</td>\n",
       "      <td>NaN</td>\n",
       "    </tr>\n",
       "  </tbody>\n",
       "</table>\n",
       "</div>"
      ],
      "text/plain": [
       "   restaurant_id  user_id  rating                                comentarios\n",
       "0              1        1     5.0  Excelente zerbicio, la comida deliziosa. \n",
       "1              1        2     4.0                                        NaN\n",
       "2              1        3     3.0                 Comida mala y mal servicio\n",
       "3              1        4     NaN                                        NaN\n",
       "4              1        5     NaN                                        NaN"
      ]
     },
     "execution_count": 2,
     "metadata": {},
     "output_type": "execute_result"
    }
   ],
   "source": [
    "# Cargamos y visualizamos  los datos\n",
    "ratings = pd.read_csv('data/Ratings.csv', encoding='latin-1')\n",
    "ratings.head()"
   ]
  },
  {
   "cell_type": "code",
   "execution_count": 3,
   "metadata": {},
   "outputs": [
    {
     "data": {
      "text/html": [
       "<div>\n",
       "<style scoped>\n",
       "    .dataframe tbody tr th:only-of-type {\n",
       "        vertical-align: middle;\n",
       "    }\n",
       "\n",
       "    .dataframe tbody tr th {\n",
       "        vertical-align: top;\n",
       "    }\n",
       "\n",
       "    .dataframe thead th {\n",
       "        text-align: right;\n",
       "    }\n",
       "</style>\n",
       "<table border=\"1\" class=\"dataframe\">\n",
       "  <thead>\n",
       "    <tr style=\"text-align: right;\">\n",
       "      <th>restaurant_id</th>\n",
       "      <th>1</th>\n",
       "      <th>2</th>\n",
       "      <th>3</th>\n",
       "      <th>4</th>\n",
       "      <th>5</th>\n",
       "    </tr>\n",
       "    <tr>\n",
       "      <th>user_id</th>\n",
       "      <th></th>\n",
       "      <th></th>\n",
       "      <th></th>\n",
       "      <th></th>\n",
       "      <th></th>\n",
       "    </tr>\n",
       "  </thead>\n",
       "  <tbody>\n",
       "    <tr>\n",
       "      <th>1</th>\n",
       "      <td>5.0</td>\n",
       "      <td>4.0</td>\n",
       "      <td>5.0</td>\n",
       "      <td>NaN</td>\n",
       "      <td>NaN</td>\n",
       "    </tr>\n",
       "    <tr>\n",
       "      <th>2</th>\n",
       "      <td>4.0</td>\n",
       "      <td>3.0</td>\n",
       "      <td>4.0</td>\n",
       "      <td>NaN</td>\n",
       "      <td>NaN</td>\n",
       "    </tr>\n",
       "    <tr>\n",
       "      <th>3</th>\n",
       "      <td>3.0</td>\n",
       "      <td>2.0</td>\n",
       "      <td>3.0</td>\n",
       "      <td>NaN</td>\n",
       "      <td>NaN</td>\n",
       "    </tr>\n",
       "    <tr>\n",
       "      <th>4</th>\n",
       "      <td>NaN</td>\n",
       "      <td>NaN</td>\n",
       "      <td>NaN</td>\n",
       "      <td>4.0</td>\n",
       "      <td>5.0</td>\n",
       "    </tr>\n",
       "    <tr>\n",
       "      <th>5</th>\n",
       "      <td>NaN</td>\n",
       "      <td>NaN</td>\n",
       "      <td>NaN</td>\n",
       "      <td>4.0</td>\n",
       "      <td>5.0</td>\n",
       "    </tr>\n",
       "  </tbody>\n",
       "</table>\n",
       "</div>"
      ],
      "text/plain": [
       "restaurant_id    1    2    3    4    5\n",
       "user_id                               \n",
       "1              5.0  4.0  5.0  NaN  NaN\n",
       "2              4.0  3.0  4.0  NaN  NaN\n",
       "3              3.0  2.0  3.0  NaN  NaN\n",
       "4              NaN  NaN  NaN  4.0  5.0\n",
       "5              NaN  NaN  NaN  4.0  5.0"
      ]
     },
     "execution_count": 3,
     "metadata": {},
     "output_type": "execute_result"
    }
   ],
   "source": [
    "r_matrix = ratings.pivot_table(values='rating', index='user_id', columns='restaurant_id')\n",
    "r_matrix.head()"
   ]
  },
  {
   "cell_type": "markdown",
   "metadata": {},
   "source": [
    "## Agregando Información Espacial"
   ]
  },
  {
   "cell_type": "markdown",
   "metadata": {},
   "source": [
    "##### Usuarios"
   ]
  },
  {
   "cell_type": "code",
   "execution_count": 4,
   "metadata": {},
   "outputs": [
    {
     "data": {
      "text/html": [
       "<div>\n",
       "<style scoped>\n",
       "    .dataframe tbody tr th:only-of-type {\n",
       "        vertical-align: middle;\n",
       "    }\n",
       "\n",
       "    .dataframe tbody tr th {\n",
       "        vertical-align: top;\n",
       "    }\n",
       "\n",
       "    .dataframe thead th {\n",
       "        text-align: right;\n",
       "    }\n",
       "</style>\n",
       "<table border=\"1\" class=\"dataframe\">\n",
       "  <thead>\n",
       "    <tr style=\"text-align: right;\">\n",
       "      <th></th>\n",
       "      <th>user_id</th>\n",
       "      <th>nombre</th>\n",
       "      <th>latitud</th>\n",
       "      <th>longitud</th>\n",
       "    </tr>\n",
       "  </thead>\n",
       "  <tbody>\n",
       "    <tr>\n",
       "      <th>0</th>\n",
       "      <td>1</td>\n",
       "      <td>Juan</td>\n",
       "      <td>4.652834</td>\n",
       "      <td>-74.054339</td>\n",
       "    </tr>\n",
       "    <tr>\n",
       "      <th>1</th>\n",
       "      <td>2</td>\n",
       "      <td>Maria</td>\n",
       "      <td>4.653065</td>\n",
       "      <td>-74.054058</td>\n",
       "    </tr>\n",
       "    <tr>\n",
       "      <th>2</th>\n",
       "      <td>3</td>\n",
       "      <td>Pablo</td>\n",
       "      <td>4.653195</td>\n",
       "      <td>-74.059075</td>\n",
       "    </tr>\n",
       "    <tr>\n",
       "      <th>3</th>\n",
       "      <td>4</td>\n",
       "      <td>Joaquin</td>\n",
       "      <td>4.653328</td>\n",
       "      <td>-74.055814</td>\n",
       "    </tr>\n",
       "    <tr>\n",
       "      <th>4</th>\n",
       "      <td>5</td>\n",
       "      <td>Martina</td>\n",
       "      <td>4.653515</td>\n",
       "      <td>-74.058822</td>\n",
       "    </tr>\n",
       "  </tbody>\n",
       "</table>\n",
       "</div>"
      ],
      "text/plain": [
       "   user_id   nombre   latitud   longitud\n",
       "0        1     Juan  4.652834 -74.054339\n",
       "1        2    Maria  4.653065 -74.054058\n",
       "2        3    Pablo  4.653195 -74.059075\n",
       "3        4  Joaquin  4.653328 -74.055814\n",
       "4        5  Martina  4.653515 -74.058822"
      ]
     },
     "execution_count": 4,
     "metadata": {},
     "output_type": "execute_result"
    }
   ],
   "source": [
    "# Cargamos y visualizamos  los datos\n",
    "usuarios = pd.read_csv('data/Usuarios.csv')\n",
    "usuarios.head()"
   ]
  },
  {
   "cell_type": "markdown",
   "metadata": {},
   "source": [
    "##### Restaurantes"
   ]
  },
  {
   "cell_type": "code",
   "execution_count": 5,
   "metadata": {},
   "outputs": [
    {
     "data": {
      "text/html": [
       "<div>\n",
       "<style scoped>\n",
       "    .dataframe tbody tr th:only-of-type {\n",
       "        vertical-align: middle;\n",
       "    }\n",
       "\n",
       "    .dataframe tbody tr th {\n",
       "        vertical-align: top;\n",
       "    }\n",
       "\n",
       "    .dataframe thead th {\n",
       "        text-align: right;\n",
       "    }\n",
       "</style>\n",
       "<table border=\"1\" class=\"dataframe\">\n",
       "  <thead>\n",
       "    <tr style=\"text-align: right;\">\n",
       "      <th></th>\n",
       "      <th>restaurant_id</th>\n",
       "      <th>latitud</th>\n",
       "      <th>longitud</th>\n",
       "      <th>nombre</th>\n",
       "    </tr>\n",
       "  </thead>\n",
       "  <tbody>\n",
       "    <tr>\n",
       "      <th>0</th>\n",
       "      <td>1</td>\n",
       "      <td>4.651420</td>\n",
       "      <td>-74.054638</td>\n",
       "      <td>Vegan Island</td>\n",
       "    </tr>\n",
       "    <tr>\n",
       "      <th>1</th>\n",
       "      <td>2</td>\n",
       "      <td>4.651475</td>\n",
       "      <td>-74.054732</td>\n",
       "      <td>La Verdura Inquieta</td>\n",
       "    </tr>\n",
       "    <tr>\n",
       "      <th>2</th>\n",
       "      <td>3</td>\n",
       "      <td>4.651530</td>\n",
       "      <td>-74.054834</td>\n",
       "      <td>El Pirata del sabor vegano</td>\n",
       "    </tr>\n",
       "    <tr>\n",
       "      <th>3</th>\n",
       "      <td>4</td>\n",
       "      <td>4.655471</td>\n",
       "      <td>-74.057151</td>\n",
       "      <td>Muuu said the happy cow</td>\n",
       "    </tr>\n",
       "    <tr>\n",
       "      <th>4</th>\n",
       "      <td>5</td>\n",
       "      <td>4.655363</td>\n",
       "      <td>-74.057581</td>\n",
       "      <td>Paul's Mcarne Feast Palace</td>\n",
       "    </tr>\n",
       "  </tbody>\n",
       "</table>\n",
       "</div>"
      ],
      "text/plain": [
       "   restaurant_id   latitud   longitud                      nombre\n",
       "0              1  4.651420 -74.054638               Vegan Island \n",
       "1              2  4.651475 -74.054732         La Verdura Inquieta\n",
       "2              3  4.651530 -74.054834  El Pirata del sabor vegano\n",
       "3              4  4.655471 -74.057151   Muuu said the happy cow  \n",
       "4              5  4.655363 -74.057581  Paul's Mcarne Feast Palace"
      ]
     },
     "execution_count": 5,
     "metadata": {},
     "output_type": "execute_result"
    }
   ],
   "source": [
    "# Cargamos y visualizamos  los datos\n",
    "restaurants = pd.read_csv('data/Restaurants.csv')\n",
    "restaurants.head()"
   ]
  },
  {
   "cell_type": "markdown",
   "metadata": {},
   "source": [
    "### Transformación a geopandas"
   ]
  },
  {
   "cell_type": "code",
   "execution_count": 6,
   "metadata": {},
   "outputs": [],
   "source": [
    "#Cargamos geopandas que es la librería a utilizar\n",
    "import geopandas as gpd"
   ]
  },
  {
   "cell_type": "code",
   "execution_count": 7,
   "metadata": {},
   "outputs": [
    {
     "data": {
      "text/html": [
       "<div>\n",
       "<style scoped>\n",
       "    .dataframe tbody tr th:only-of-type {\n",
       "        vertical-align: middle;\n",
       "    }\n",
       "\n",
       "    .dataframe tbody tr th {\n",
       "        vertical-align: top;\n",
       "    }\n",
       "\n",
       "    .dataframe thead th {\n",
       "        text-align: right;\n",
       "    }\n",
       "</style>\n",
       "<table border=\"1\" class=\"dataframe\">\n",
       "  <thead>\n",
       "    <tr style=\"text-align: right;\">\n",
       "      <th></th>\n",
       "      <th>restaurant_id</th>\n",
       "      <th>latitud</th>\n",
       "      <th>longitud</th>\n",
       "      <th>nombre</th>\n",
       "      <th>geometry</th>\n",
       "    </tr>\n",
       "  </thead>\n",
       "  <tbody>\n",
       "    <tr>\n",
       "      <th>0</th>\n",
       "      <td>1</td>\n",
       "      <td>4.651420</td>\n",
       "      <td>-74.054638</td>\n",
       "      <td>Vegan Island</td>\n",
       "      <td>POINT (-74.05464 4.65142)</td>\n",
       "    </tr>\n",
       "    <tr>\n",
       "      <th>1</th>\n",
       "      <td>2</td>\n",
       "      <td>4.651475</td>\n",
       "      <td>-74.054732</td>\n",
       "      <td>La Verdura Inquieta</td>\n",
       "      <td>POINT (-74.05473 4.65147)</td>\n",
       "    </tr>\n",
       "    <tr>\n",
       "      <th>2</th>\n",
       "      <td>3</td>\n",
       "      <td>4.651530</td>\n",
       "      <td>-74.054834</td>\n",
       "      <td>El Pirata del sabor vegano</td>\n",
       "      <td>POINT (-74.05483 4.65153)</td>\n",
       "    </tr>\n",
       "    <tr>\n",
       "      <th>3</th>\n",
       "      <td>4</td>\n",
       "      <td>4.655471</td>\n",
       "      <td>-74.057151</td>\n",
       "      <td>Muuu said the happy cow</td>\n",
       "      <td>POINT (-74.05715 4.65547)</td>\n",
       "    </tr>\n",
       "    <tr>\n",
       "      <th>4</th>\n",
       "      <td>5</td>\n",
       "      <td>4.655363</td>\n",
       "      <td>-74.057581</td>\n",
       "      <td>Paul's Mcarne Feast Palace</td>\n",
       "      <td>POINT (-74.05758 4.65536)</td>\n",
       "    </tr>\n",
       "  </tbody>\n",
       "</table>\n",
       "</div>"
      ],
      "text/plain": [
       "   restaurant_id   latitud   longitud                      nombre  \\\n",
       "0              1  4.651420 -74.054638               Vegan Island    \n",
       "1              2  4.651475 -74.054732         La Verdura Inquieta   \n",
       "2              3  4.651530 -74.054834  El Pirata del sabor vegano   \n",
       "3              4  4.655471 -74.057151   Muuu said the happy cow     \n",
       "4              5  4.655363 -74.057581  Paul's Mcarne Feast Palace   \n",
       "\n",
       "                    geometry  \n",
       "0  POINT (-74.05464 4.65142)  \n",
       "1  POINT (-74.05473 4.65147)  \n",
       "2  POINT (-74.05483 4.65153)  \n",
       "3  POINT (-74.05715 4.65547)  \n",
       "4  POINT (-74.05758 4.65536)  "
      ]
     },
     "execution_count": 7,
     "metadata": {},
     "output_type": "execute_result"
    }
   ],
   "source": [
    "restaurants = gpd.GeoDataFrame(restaurants, geometry=gpd.points_from_xy(restaurants.longitud, restaurants.latitud),crs=4326)\n",
    "restaurants"
   ]
  },
  {
   "cell_type": "code",
   "execution_count": 8,
   "metadata": {},
   "outputs": [
    {
     "data": {
      "text/html": [
       "<div>\n",
       "<style scoped>\n",
       "    .dataframe tbody tr th:only-of-type {\n",
       "        vertical-align: middle;\n",
       "    }\n",
       "\n",
       "    .dataframe tbody tr th {\n",
       "        vertical-align: top;\n",
       "    }\n",
       "\n",
       "    .dataframe thead th {\n",
       "        text-align: right;\n",
       "    }\n",
       "</style>\n",
       "<table border=\"1\" class=\"dataframe\">\n",
       "  <thead>\n",
       "    <tr style=\"text-align: right;\">\n",
       "      <th></th>\n",
       "      <th>user_id</th>\n",
       "      <th>nombre</th>\n",
       "      <th>latitud</th>\n",
       "      <th>longitud</th>\n",
       "      <th>geometry</th>\n",
       "    </tr>\n",
       "  </thead>\n",
       "  <tbody>\n",
       "    <tr>\n",
       "      <th>0</th>\n",
       "      <td>1</td>\n",
       "      <td>Juan</td>\n",
       "      <td>4.652834</td>\n",
       "      <td>-74.054339</td>\n",
       "      <td>POINT (-74.05434 4.65283)</td>\n",
       "    </tr>\n",
       "    <tr>\n",
       "      <th>1</th>\n",
       "      <td>2</td>\n",
       "      <td>Maria</td>\n",
       "      <td>4.653065</td>\n",
       "      <td>-74.054058</td>\n",
       "      <td>POINT (-74.05406 4.65306)</td>\n",
       "    </tr>\n",
       "    <tr>\n",
       "      <th>2</th>\n",
       "      <td>3</td>\n",
       "      <td>Pablo</td>\n",
       "      <td>4.653195</td>\n",
       "      <td>-74.059075</td>\n",
       "      <td>POINT (-74.05908 4.65320)</td>\n",
       "    </tr>\n",
       "    <tr>\n",
       "      <th>3</th>\n",
       "      <td>4</td>\n",
       "      <td>Joaquin</td>\n",
       "      <td>4.653328</td>\n",
       "      <td>-74.055814</td>\n",
       "      <td>POINT (-74.05581 4.65333)</td>\n",
       "    </tr>\n",
       "    <tr>\n",
       "      <th>4</th>\n",
       "      <td>5</td>\n",
       "      <td>Martina</td>\n",
       "      <td>4.653515</td>\n",
       "      <td>-74.058822</td>\n",
       "      <td>POINT (-74.05882 4.65351)</td>\n",
       "    </tr>\n",
       "    <tr>\n",
       "      <th>5</th>\n",
       "      <td>6</td>\n",
       "      <td>Rosario</td>\n",
       "      <td>4.653647</td>\n",
       "      <td>-74.058792</td>\n",
       "      <td>POINT (-74.05879 4.65365)</td>\n",
       "    </tr>\n",
       "  </tbody>\n",
       "</table>\n",
       "</div>"
      ],
      "text/plain": [
       "   user_id   nombre   latitud   longitud                   geometry\n",
       "0        1     Juan  4.652834 -74.054339  POINT (-74.05434 4.65283)\n",
       "1        2    Maria  4.653065 -74.054058  POINT (-74.05406 4.65306)\n",
       "2        3    Pablo  4.653195 -74.059075  POINT (-74.05908 4.65320)\n",
       "3        4  Joaquin  4.653328 -74.055814  POINT (-74.05581 4.65333)\n",
       "4        5  Martina  4.653515 -74.058822  POINT (-74.05882 4.65351)\n",
       "5        6  Rosario  4.653647 -74.058792  POINT (-74.05879 4.65365)"
      ]
     },
     "execution_count": 8,
     "metadata": {},
     "output_type": "execute_result"
    }
   ],
   "source": [
    "usuarios = gpd.GeoDataFrame(usuarios, geometry=gpd.points_from_xy(usuarios.longitud, usuarios.latitud),crs=4326)\n",
    "usuarios"
   ]
  },
  {
   "cell_type": "markdown",
   "metadata": {},
   "source": [
    "### Visualización interactiva"
   ]
  },
  {
   "cell_type": "code",
   "execution_count": 9,
   "metadata": {
    "scrolled": true
   },
   "outputs": [
    {
     "data": {
      "text/html": [
       "<div style=\"width:100%;\"><div style=\"position:relative;width:100%;height:0;padding-bottom:60%;\"><span style=\"color:#565656\">Make this Notebook Trusted to load map: File -> Trust Notebook</span><iframe srcdoc=\"&lt;!DOCTYPE html&gt;\n",
       "&lt;html&gt;\n",
       "&lt;head&gt;\n",
       "    \n",
       "    &lt;meta http-equiv=&quot;content-type&quot; content=&quot;text/html; charset=UTF-8&quot; /&gt;\n",
       "    \n",
       "        &lt;script&gt;\n",
       "            L_NO_TOUCH = false;\n",
       "            L_DISABLE_3D = false;\n",
       "        &lt;/script&gt;\n",
       "    \n",
       "    &lt;style&gt;html, body {width: 100%;height: 100%;margin: 0;padding: 0;}&lt;/style&gt;\n",
       "    &lt;style&gt;#map {position:absolute;top:0;bottom:0;right:0;left:0;}&lt;/style&gt;\n",
       "    &lt;script src=&quot;https://cdn.jsdelivr.net/npm/leaflet@1.9.3/dist/leaflet.js&quot;&gt;&lt;/script&gt;\n",
       "    &lt;script src=&quot;https://code.jquery.com/jquery-1.12.4.min.js&quot;&gt;&lt;/script&gt;\n",
       "    &lt;script src=&quot;https://cdn.jsdelivr.net/npm/bootstrap@5.2.2/dist/js/bootstrap.bundle.min.js&quot;&gt;&lt;/script&gt;\n",
       "    &lt;script src=&quot;https://cdnjs.cloudflare.com/ajax/libs/Leaflet.awesome-markers/2.0.2/leaflet.awesome-markers.js&quot;&gt;&lt;/script&gt;\n",
       "    &lt;link rel=&quot;stylesheet&quot; href=&quot;https://cdn.jsdelivr.net/npm/leaflet@1.9.3/dist/leaflet.css&quot;/&gt;\n",
       "    &lt;link rel=&quot;stylesheet&quot; href=&quot;https://cdn.jsdelivr.net/npm/bootstrap@5.2.2/dist/css/bootstrap.min.css&quot;/&gt;\n",
       "    &lt;link rel=&quot;stylesheet&quot; href=&quot;https://netdna.bootstrapcdn.com/bootstrap/3.0.0/css/bootstrap.min.css&quot;/&gt;\n",
       "    &lt;link rel=&quot;stylesheet&quot; href=&quot;https://cdn.jsdelivr.net/npm/@fortawesome/fontawesome-free@6.2.0/css/all.min.css&quot;/&gt;\n",
       "    &lt;link rel=&quot;stylesheet&quot; href=&quot;https://cdnjs.cloudflare.com/ajax/libs/Leaflet.awesome-markers/2.0.2/leaflet.awesome-markers.css&quot;/&gt;\n",
       "    &lt;link rel=&quot;stylesheet&quot; href=&quot;https://cdn.jsdelivr.net/gh/python-visualization/folium/folium/templates/leaflet.awesome.rotate.min.css&quot;/&gt;\n",
       "    \n",
       "            &lt;meta name=&quot;viewport&quot; content=&quot;width=device-width,\n",
       "                initial-scale=1.0, maximum-scale=1.0, user-scalable=no&quot; /&gt;\n",
       "            &lt;style&gt;\n",
       "                #map_48a8a694a1b45188f4461d478f008ae5 {\n",
       "                    position: relative;\n",
       "                    width: 100.0%;\n",
       "                    height: 100.0%;\n",
       "                    left: 0.0%;\n",
       "                    top: 0.0%;\n",
       "                }\n",
       "                .leaflet-container { font-size: 1rem; }\n",
       "            &lt;/style&gt;\n",
       "        \n",
       "&lt;/head&gt;\n",
       "&lt;body&gt;\n",
       "    \n",
       "    \n",
       "            &lt;div class=&quot;folium-map&quot; id=&quot;map_48a8a694a1b45188f4461d478f008ae5&quot; &gt;&lt;/div&gt;\n",
       "        \n",
       "&lt;/body&gt;\n",
       "&lt;script&gt;\n",
       "    \n",
       "    \n",
       "            var map_48a8a694a1b45188f4461d478f008ae5 = L.map(\n",
       "                &quot;map_48a8a694a1b45188f4461d478f008ae5&quot;,\n",
       "                {\n",
       "                    center: [4.65283, -74.054339],\n",
       "                    crs: L.CRS.EPSG3857,\n",
       "                    zoom: 16,\n",
       "                    zoomControl: true,\n",
       "                    preferCanvas: false,\n",
       "                }\n",
       "            );\n",
       "\n",
       "            \n",
       "\n",
       "        \n",
       "    \n",
       "            var tile_layer_9240a8798d8f4d9f4ee0a92ce92db1c2 = L.tileLayer(\n",
       "                &quot;https://{s}.tile.openstreetmap.org/{z}/{x}/{y}.png&quot;,\n",
       "                {&quot;attribution&quot;: &quot;Data by \\u0026copy; \\u003ca target=\\&quot;_blank\\&quot; href=\\&quot;http://openstreetmap.org\\&quot;\\u003eOpenStreetMap\\u003c/a\\u003e, under \\u003ca target=\\&quot;_blank\\&quot; href=\\&quot;http://www.openstreetmap.org/copyright\\&quot;\\u003eODbL\\u003c/a\\u003e.&quot;, &quot;detectRetina&quot;: false, &quot;maxNativeZoom&quot;: 18, &quot;maxZoom&quot;: 18, &quot;minZoom&quot;: 0, &quot;noWrap&quot;: false, &quot;opacity&quot;: 1, &quot;subdomains&quot;: &quot;abc&quot;, &quot;tms&quot;: false}\n",
       "            ).addTo(map_48a8a694a1b45188f4461d478f008ae5);\n",
       "        \n",
       "    \n",
       "            var marker_35017e982dc087cc71354d154e5a97cd = L.marker(\n",
       "                [4.65142, -74.054638],\n",
       "                {}\n",
       "            ).addTo(map_48a8a694a1b45188f4461d478f008ae5);\n",
       "        \n",
       "    \n",
       "        var popup_bc6b30c172d34c1ea83bd0297eccb508 = L.popup({&quot;maxWidth&quot;: &quot;100%&quot;});\n",
       "\n",
       "        \n",
       "            \n",
       "                var html_a2f1912b5dbef7893b525d62a0775bf8 = $(`&lt;div id=&quot;html_a2f1912b5dbef7893b525d62a0775bf8&quot; style=&quot;width: 100.0%; height: 100.0%;&quot;&gt;Vegan Island &lt;/div&gt;`)[0];\n",
       "                popup_bc6b30c172d34c1ea83bd0297eccb508.setContent(html_a2f1912b5dbef7893b525d62a0775bf8);\n",
       "            \n",
       "        \n",
       "\n",
       "        marker_35017e982dc087cc71354d154e5a97cd.bindPopup(popup_bc6b30c172d34c1ea83bd0297eccb508)\n",
       "        ;\n",
       "\n",
       "        \n",
       "    \n",
       "    \n",
       "            var marker_10acf79f5fba52d89663f1c7e406d559 = L.marker(\n",
       "                [4.651475, -74.054732],\n",
       "                {}\n",
       "            ).addTo(map_48a8a694a1b45188f4461d478f008ae5);\n",
       "        \n",
       "    \n",
       "        var popup_63ea1a13b49940a16ef7049c25e0fbd1 = L.popup({&quot;maxWidth&quot;: &quot;100%&quot;});\n",
       "\n",
       "        \n",
       "            \n",
       "                var html_21977587cdc93697c6ef91630fcee793 = $(`&lt;div id=&quot;html_21977587cdc93697c6ef91630fcee793&quot; style=&quot;width: 100.0%; height: 100.0%;&quot;&gt;La Verdura Inquieta&lt;/div&gt;`)[0];\n",
       "                popup_63ea1a13b49940a16ef7049c25e0fbd1.setContent(html_21977587cdc93697c6ef91630fcee793);\n",
       "            \n",
       "        \n",
       "\n",
       "        marker_10acf79f5fba52d89663f1c7e406d559.bindPopup(popup_63ea1a13b49940a16ef7049c25e0fbd1)\n",
       "        ;\n",
       "\n",
       "        \n",
       "    \n",
       "    \n",
       "            var marker_f76bc09aee7349126eb2f3885565d970 = L.marker(\n",
       "                [4.65153, -74.054834],\n",
       "                {}\n",
       "            ).addTo(map_48a8a694a1b45188f4461d478f008ae5);\n",
       "        \n",
       "    \n",
       "        var popup_24be26ea1a8c7933ce8e2797a620acaa = L.popup({&quot;maxWidth&quot;: &quot;100%&quot;});\n",
       "\n",
       "        \n",
       "            \n",
       "                var html_3719197e5d4d3bcb24db939bf09d6e8f = $(`&lt;div id=&quot;html_3719197e5d4d3bcb24db939bf09d6e8f&quot; style=&quot;width: 100.0%; height: 100.0%;&quot;&gt;El Pirata del sabor vegano&lt;/div&gt;`)[0];\n",
       "                popup_24be26ea1a8c7933ce8e2797a620acaa.setContent(html_3719197e5d4d3bcb24db939bf09d6e8f);\n",
       "            \n",
       "        \n",
       "\n",
       "        marker_f76bc09aee7349126eb2f3885565d970.bindPopup(popup_24be26ea1a8c7933ce8e2797a620acaa)\n",
       "        ;\n",
       "\n",
       "        \n",
       "    \n",
       "    \n",
       "            var marker_ecdea71f17461589d574a98487a16113 = L.marker(\n",
       "                [4.655471, -74.057151],\n",
       "                {}\n",
       "            ).addTo(map_48a8a694a1b45188f4461d478f008ae5);\n",
       "        \n",
       "    \n",
       "        var popup_33e371db871ff88677736d374fa18051 = L.popup({&quot;maxWidth&quot;: &quot;100%&quot;});\n",
       "\n",
       "        \n",
       "            \n",
       "                var html_7ec141eed73ea8b46c47545901688171 = $(`&lt;div id=&quot;html_7ec141eed73ea8b46c47545901688171&quot; style=&quot;width: 100.0%; height: 100.0%;&quot;&gt;Muuu said the happy cow  &lt;/div&gt;`)[0];\n",
       "                popup_33e371db871ff88677736d374fa18051.setContent(html_7ec141eed73ea8b46c47545901688171);\n",
       "            \n",
       "        \n",
       "\n",
       "        marker_ecdea71f17461589d574a98487a16113.bindPopup(popup_33e371db871ff88677736d374fa18051)\n",
       "        ;\n",
       "\n",
       "        \n",
       "    \n",
       "    \n",
       "            var marker_5a7e98285af59db49cfb16504bc1c98e = L.marker(\n",
       "                [4.655363, -74.057581],\n",
       "                {}\n",
       "            ).addTo(map_48a8a694a1b45188f4461d478f008ae5);\n",
       "        \n",
       "    \n",
       "        var popup_0f868202130d5532f668ecd520561200 = L.popup({&quot;maxWidth&quot;: &quot;100%&quot;});\n",
       "\n",
       "        \n",
       "            \n",
       "                var html_df94460d619b8e60b878da34857423a6 = $(`&lt;div id=&quot;html_df94460d619b8e60b878da34857423a6&quot; style=&quot;width: 100.0%; height: 100.0%;&quot;&gt;Paul&#x27;s Mcarne Feast Palace&lt;/div&gt;`)[0];\n",
       "                popup_0f868202130d5532f668ecd520561200.setContent(html_df94460d619b8e60b878da34857423a6);\n",
       "            \n",
       "        \n",
       "\n",
       "        marker_5a7e98285af59db49cfb16504bc1c98e.bindPopup(popup_0f868202130d5532f668ecd520561200)\n",
       "        ;\n",
       "\n",
       "        \n",
       "    \n",
       "    \n",
       "            var marker_3282efdc9b35684736f7fdf19bc143e1 = L.marker(\n",
       "                [4.652834, -74.054339],\n",
       "                {}\n",
       "            ).addTo(map_48a8a694a1b45188f4461d478f008ae5);\n",
       "        \n",
       "    \n",
       "            var icon_b007f5d96f26d4c716f761d0e7f2af2a = L.AwesomeMarkers.icon(\n",
       "                {&quot;extraClasses&quot;: &quot;fa-rotate-0&quot;, &quot;icon&quot;: &quot;info-sign&quot;, &quot;iconColor&quot;: &quot;white&quot;, &quot;markerColor&quot;: &quot;red&quot;, &quot;prefix&quot;: &quot;glyphicon&quot;}\n",
       "            );\n",
       "            marker_3282efdc9b35684736f7fdf19bc143e1.setIcon(icon_b007f5d96f26d4c716f761d0e7f2af2a);\n",
       "        \n",
       "    \n",
       "        var popup_8c9320627f490c3f469d1689f4d1bcb8 = L.popup({&quot;maxWidth&quot;: &quot;100%&quot;});\n",
       "\n",
       "        \n",
       "            \n",
       "                var html_1538ee2d8d7093208675a2b10f49253a = $(`&lt;div id=&quot;html_1538ee2d8d7093208675a2b10f49253a&quot; style=&quot;width: 100.0%; height: 100.0%;&quot;&gt;Juan&lt;/div&gt;`)[0];\n",
       "                popup_8c9320627f490c3f469d1689f4d1bcb8.setContent(html_1538ee2d8d7093208675a2b10f49253a);\n",
       "            \n",
       "        \n",
       "\n",
       "        marker_3282efdc9b35684736f7fdf19bc143e1.bindPopup(popup_8c9320627f490c3f469d1689f4d1bcb8)\n",
       "        ;\n",
       "\n",
       "        \n",
       "    \n",
       "    \n",
       "            var marker_fb5d07e1b5238a0de4fdaf1260601259 = L.marker(\n",
       "                [4.653065, -74.054058],\n",
       "                {}\n",
       "            ).addTo(map_48a8a694a1b45188f4461d478f008ae5);\n",
       "        \n",
       "    \n",
       "            var icon_1dd00c9e7c39860d3d68d62ddcb797d5 = L.AwesomeMarkers.icon(\n",
       "                {&quot;extraClasses&quot;: &quot;fa-rotate-0&quot;, &quot;icon&quot;: &quot;info-sign&quot;, &quot;iconColor&quot;: &quot;white&quot;, &quot;markerColor&quot;: &quot;red&quot;, &quot;prefix&quot;: &quot;glyphicon&quot;}\n",
       "            );\n",
       "            marker_fb5d07e1b5238a0de4fdaf1260601259.setIcon(icon_1dd00c9e7c39860d3d68d62ddcb797d5);\n",
       "        \n",
       "    \n",
       "        var popup_2faee407466a7bfb1f9f6206f059ccad = L.popup({&quot;maxWidth&quot;: &quot;100%&quot;});\n",
       "\n",
       "        \n",
       "            \n",
       "                var html_4aa6ed930e2b539656e9a0c78b33a247 = $(`&lt;div id=&quot;html_4aa6ed930e2b539656e9a0c78b33a247&quot; style=&quot;width: 100.0%; height: 100.0%;&quot;&gt;Maria&lt;/div&gt;`)[0];\n",
       "                popup_2faee407466a7bfb1f9f6206f059ccad.setContent(html_4aa6ed930e2b539656e9a0c78b33a247);\n",
       "            \n",
       "        \n",
       "\n",
       "        marker_fb5d07e1b5238a0de4fdaf1260601259.bindPopup(popup_2faee407466a7bfb1f9f6206f059ccad)\n",
       "        ;\n",
       "\n",
       "        \n",
       "    \n",
       "    \n",
       "            var marker_f52e1fcbe48627c38ed019afeaf29e0a = L.marker(\n",
       "                [4.653195, -74.059075],\n",
       "                {}\n",
       "            ).addTo(map_48a8a694a1b45188f4461d478f008ae5);\n",
       "        \n",
       "    \n",
       "            var icon_8bb18becbfc8571afe8e1113ec5e99e5 = L.AwesomeMarkers.icon(\n",
       "                {&quot;extraClasses&quot;: &quot;fa-rotate-0&quot;, &quot;icon&quot;: &quot;info-sign&quot;, &quot;iconColor&quot;: &quot;white&quot;, &quot;markerColor&quot;: &quot;red&quot;, &quot;prefix&quot;: &quot;glyphicon&quot;}\n",
       "            );\n",
       "            marker_f52e1fcbe48627c38ed019afeaf29e0a.setIcon(icon_8bb18becbfc8571afe8e1113ec5e99e5);\n",
       "        \n",
       "    \n",
       "        var popup_a01a4dec9b010065906cfe888d50ce7f = L.popup({&quot;maxWidth&quot;: &quot;100%&quot;});\n",
       "\n",
       "        \n",
       "            \n",
       "                var html_74f446e8c17230530ea279af133ff93d = $(`&lt;div id=&quot;html_74f446e8c17230530ea279af133ff93d&quot; style=&quot;width: 100.0%; height: 100.0%;&quot;&gt;Pablo&lt;/div&gt;`)[0];\n",
       "                popup_a01a4dec9b010065906cfe888d50ce7f.setContent(html_74f446e8c17230530ea279af133ff93d);\n",
       "            \n",
       "        \n",
       "\n",
       "        marker_f52e1fcbe48627c38ed019afeaf29e0a.bindPopup(popup_a01a4dec9b010065906cfe888d50ce7f)\n",
       "        ;\n",
       "\n",
       "        \n",
       "    \n",
       "    \n",
       "            var marker_7b50a3be8fd09cef617d67c2f0bbe7f2 = L.marker(\n",
       "                [4.653328, -74.055814],\n",
       "                {}\n",
       "            ).addTo(map_48a8a694a1b45188f4461d478f008ae5);\n",
       "        \n",
       "    \n",
       "            var icon_063e96dea18081ff2306796d7003896e = L.AwesomeMarkers.icon(\n",
       "                {&quot;extraClasses&quot;: &quot;fa-rotate-0&quot;, &quot;icon&quot;: &quot;info-sign&quot;, &quot;iconColor&quot;: &quot;white&quot;, &quot;markerColor&quot;: &quot;red&quot;, &quot;prefix&quot;: &quot;glyphicon&quot;}\n",
       "            );\n",
       "            marker_7b50a3be8fd09cef617d67c2f0bbe7f2.setIcon(icon_063e96dea18081ff2306796d7003896e);\n",
       "        \n",
       "    \n",
       "        var popup_7234e5c8583ce80f36e97c987dffb23e = L.popup({&quot;maxWidth&quot;: &quot;100%&quot;});\n",
       "\n",
       "        \n",
       "            \n",
       "                var html_c192337bf6a462b10d903bb86ad693d0 = $(`&lt;div id=&quot;html_c192337bf6a462b10d903bb86ad693d0&quot; style=&quot;width: 100.0%; height: 100.0%;&quot;&gt;Joaquin&lt;/div&gt;`)[0];\n",
       "                popup_7234e5c8583ce80f36e97c987dffb23e.setContent(html_c192337bf6a462b10d903bb86ad693d0);\n",
       "            \n",
       "        \n",
       "\n",
       "        marker_7b50a3be8fd09cef617d67c2f0bbe7f2.bindPopup(popup_7234e5c8583ce80f36e97c987dffb23e)\n",
       "        ;\n",
       "\n",
       "        \n",
       "    \n",
       "    \n",
       "            var marker_f195c29ee60326beeed4291279803cc3 = L.marker(\n",
       "                [4.653515, -74.058822],\n",
       "                {}\n",
       "            ).addTo(map_48a8a694a1b45188f4461d478f008ae5);\n",
       "        \n",
       "    \n",
       "            var icon_e32ec6fda487232f856ff45a77d51603 = L.AwesomeMarkers.icon(\n",
       "                {&quot;extraClasses&quot;: &quot;fa-rotate-0&quot;, &quot;icon&quot;: &quot;info-sign&quot;, &quot;iconColor&quot;: &quot;white&quot;, &quot;markerColor&quot;: &quot;red&quot;, &quot;prefix&quot;: &quot;glyphicon&quot;}\n",
       "            );\n",
       "            marker_f195c29ee60326beeed4291279803cc3.setIcon(icon_e32ec6fda487232f856ff45a77d51603);\n",
       "        \n",
       "    \n",
       "        var popup_c05afa5acc62b1ec3f316b6525efb204 = L.popup({&quot;maxWidth&quot;: &quot;100%&quot;});\n",
       "\n",
       "        \n",
       "            \n",
       "                var html_dc8d0a590244b12be5493d67c0b73dfc = $(`&lt;div id=&quot;html_dc8d0a590244b12be5493d67c0b73dfc&quot; style=&quot;width: 100.0%; height: 100.0%;&quot;&gt;Martina&lt;/div&gt;`)[0];\n",
       "                popup_c05afa5acc62b1ec3f316b6525efb204.setContent(html_dc8d0a590244b12be5493d67c0b73dfc);\n",
       "            \n",
       "        \n",
       "\n",
       "        marker_f195c29ee60326beeed4291279803cc3.bindPopup(popup_c05afa5acc62b1ec3f316b6525efb204)\n",
       "        ;\n",
       "\n",
       "        \n",
       "    \n",
       "    \n",
       "            var marker_cbff4978f1996dcbc54f8e8b96760b44 = L.marker(\n",
       "                [4.653647, -74.058792],\n",
       "                {}\n",
       "            ).addTo(map_48a8a694a1b45188f4461d478f008ae5);\n",
       "        \n",
       "    \n",
       "            var icon_bea1c5443a9bba2de5cea0f9655c0995 = L.AwesomeMarkers.icon(\n",
       "                {&quot;extraClasses&quot;: &quot;fa-rotate-0&quot;, &quot;icon&quot;: &quot;info-sign&quot;, &quot;iconColor&quot;: &quot;white&quot;, &quot;markerColor&quot;: &quot;red&quot;, &quot;prefix&quot;: &quot;glyphicon&quot;}\n",
       "            );\n",
       "            marker_cbff4978f1996dcbc54f8e8b96760b44.setIcon(icon_bea1c5443a9bba2de5cea0f9655c0995);\n",
       "        \n",
       "    \n",
       "        var popup_b4fe404a8eb2de206aacbdeec79c5147 = L.popup({&quot;maxWidth&quot;: &quot;100%&quot;});\n",
       "\n",
       "        \n",
       "            \n",
       "                var html_9d909c1b503d7ce9ad72e3d7c39456ba = $(`&lt;div id=&quot;html_9d909c1b503d7ce9ad72e3d7c39456ba&quot; style=&quot;width: 100.0%; height: 100.0%;&quot;&gt;Rosario&lt;/div&gt;`)[0];\n",
       "                popup_b4fe404a8eb2de206aacbdeec79c5147.setContent(html_9d909c1b503d7ce9ad72e3d7c39456ba);\n",
       "            \n",
       "        \n",
       "\n",
       "        marker_cbff4978f1996dcbc54f8e8b96760b44.bindPopup(popup_b4fe404a8eb2de206aacbdeec79c5147)\n",
       "        ;\n",
       "\n",
       "        \n",
       "    \n",
       "&lt;/script&gt;\n",
       "&lt;/html&gt;\" style=\"position:absolute;width:100%;height:100%;left:0;top:0;border:none !important;\" allowfullscreen webkitallowfullscreen mozallowfullscreen></iframe></div></div>"
      ],
      "text/plain": [
       "<folium.folium.Map at 0x7f4bca28cb10>"
      ]
     },
     "execution_count": 9,
     "metadata": {},
     "output_type": "execute_result"
    }
   ],
   "source": [
    "import folium\n",
    "\n",
    "map = folium.Map(location = [4.65283,-74.054339], tiles = \"OpenStreetMap\", zoom_start = 16)\n",
    "# Otras opciones de tiles\n",
    "#Stamen Terrain, Toner, and Watercolor\n",
    "\n",
    "\n",
    "for i in range(0,len(restaurants)):\n",
    "   folium.Marker(\n",
    "      location=[restaurants.iloc[i]['latitud'], restaurants.iloc[i]['longitud']],\n",
    "       popup=restaurants.iloc[i]['nombre'],\n",
    "   ).add_to(map)\n",
    "\n",
    "for i in range(0,len(usuarios)):\n",
    "   folium.Marker(\n",
    "      location=[usuarios.iloc[i]['latitud'], usuarios.iloc[i]['longitud']],\n",
    "       popup=usuarios.iloc[i]['nombre'], icon=folium.Icon(color='red')\n",
    "   ).add_to(map)\n",
    "    \n",
    "\n",
    "#Display el mapa\n",
    "map\n",
    "\n"
   ]
  },
  {
   "cell_type": "markdown",
   "metadata": {},
   "source": [
    "### Midiendo Distancias"
   ]
  },
  {
   "cell_type": "code",
   "execution_count": 10,
   "metadata": {},
   "outputs": [
    {
     "data": {
      "text/html": [
       "<div>\n",
       "<style scoped>\n",
       "    .dataframe tbody tr th:only-of-type {\n",
       "        vertical-align: middle;\n",
       "    }\n",
       "\n",
       "    .dataframe tbody tr th {\n",
       "        vertical-align: top;\n",
       "    }\n",
       "\n",
       "    .dataframe thead th {\n",
       "        text-align: right;\n",
       "    }\n",
       "</style>\n",
       "<table border=\"1\" class=\"dataframe\">\n",
       "  <thead>\n",
       "    <tr style=\"text-align: right;\">\n",
       "      <th></th>\n",
       "      <th>0</th>\n",
       "      <th>1</th>\n",
       "      <th>2</th>\n",
       "      <th>3</th>\n",
       "      <th>4</th>\n",
       "    </tr>\n",
       "  </thead>\n",
       "  <tbody>\n",
       "    <tr>\n",
       "      <th>0</th>\n",
       "      <td>0.001445</td>\n",
       "      <td>0.001415</td>\n",
       "      <td>0.001395</td>\n",
       "      <td>0.003855</td>\n",
       "      <td>0.004112</td>\n",
       "    </tr>\n",
       "    <tr>\n",
       "      <th>1</th>\n",
       "      <td>0.001744</td>\n",
       "      <td>0.001727</td>\n",
       "      <td>0.001720</td>\n",
       "      <td>0.003919</td>\n",
       "      <td>0.004206</td>\n",
       "    </tr>\n",
       "    <tr>\n",
       "      <th>2</th>\n",
       "      <td>0.004779</td>\n",
       "      <td>0.004671</td>\n",
       "      <td>0.004556</td>\n",
       "      <td>0.002980</td>\n",
       "      <td>0.002633</td>\n",
       "    </tr>\n",
       "    <tr>\n",
       "      <th>3</th>\n",
       "      <td>0.002241</td>\n",
       "      <td>0.002146</td>\n",
       "      <td>0.002048</td>\n",
       "      <td>0.002526</td>\n",
       "      <td>0.002695</td>\n",
       "    </tr>\n",
       "    <tr>\n",
       "      <th>4</th>\n",
       "      <td>0.004679</td>\n",
       "      <td>0.004571</td>\n",
       "      <td>0.004455</td>\n",
       "      <td>0.002573</td>\n",
       "      <td>0.002226</td>\n",
       "    </tr>\n",
       "    <tr>\n",
       "      <th>5</th>\n",
       "      <td>0.004713</td>\n",
       "      <td>0.004604</td>\n",
       "      <td>0.004489</td>\n",
       "      <td>0.002454</td>\n",
       "      <td>0.002100</td>\n",
       "    </tr>\n",
       "  </tbody>\n",
       "</table>\n",
       "</div>"
      ],
      "text/plain": [
       "          0         1         2         3         4\n",
       "0  0.001445  0.001415  0.001395  0.003855  0.004112\n",
       "1  0.001744  0.001727  0.001720  0.003919  0.004206\n",
       "2  0.004779  0.004671  0.004556  0.002980  0.002633\n",
       "3  0.002241  0.002146  0.002048  0.002526  0.002695\n",
       "4  0.004679  0.004571  0.004455  0.002573  0.002226\n",
       "5  0.004713  0.004604  0.004489  0.002454  0.002100"
      ]
     },
     "execution_count": 10,
     "metadata": {},
     "output_type": "execute_result"
    }
   ],
   "source": [
    "usuarios.geometry.apply(lambda g: restaurants.distance(g))\n"
   ]
  },
  {
   "cell_type": "markdown",
   "metadata": {},
   "source": [
    "#### Proyecciones: La tierra no es plana!"
   ]
  },
  {
   "cell_type": "markdown",
   "metadata": {},
   "source": [
    "<div style=\"max-width:700px\">\n",
    "<img src = \"figs/proj.png\" />\n",
    "</div> "
   ]
  },
  {
   "cell_type": "code",
   "execution_count": 11,
   "metadata": {},
   "outputs": [
    {
     "data": {
      "text/html": [
       "\n",
       "        <iframe\n",
       "            width=\"700\"\n",
       "            height=\"350\"\n",
       "            src=\"https://gifs.com/gif/mercator-projection-y4xP7j\"\n",
       "            frameborder=\"0\"\n",
       "            allowfullscreen\n",
       "            \n",
       "        ></iframe>\n",
       "        "
      ],
      "text/plain": [
       "<IPython.lib.display.IFrame at 0x7f4bca272450>"
      ]
     },
     "execution_count": 11,
     "metadata": {},
     "output_type": "execute_result"
    }
   ],
   "source": [
    "from IPython.display import IFrame\n",
    "IFrame('https://gifs.com/gif/mercator-projection-y4xP7j', width=700, height=350)"
   ]
  },
  {
   "cell_type": "markdown",
   "metadata": {},
   "source": [
    "#### Calculamos la distancia\n",
    "\n",
    "[MAGNA-SIRGAS](https://epsg.io/3116): Marco Geocéntrico Nacional de Referencia,densificación del Sistema de Referencia Geocéntrico para las Américas."
   ]
  },
  {
   "cell_type": "code",
   "execution_count": 12,
   "metadata": {},
   "outputs": [
    {
     "data": {
      "text/html": [
       "<div>\n",
       "<style scoped>\n",
       "    .dataframe tbody tr th:only-of-type {\n",
       "        vertical-align: middle;\n",
       "    }\n",
       "\n",
       "    .dataframe tbody tr th {\n",
       "        vertical-align: top;\n",
       "    }\n",
       "\n",
       "    .dataframe thead th {\n",
       "        text-align: right;\n",
       "    }\n",
       "</style>\n",
       "<table border=\"1\" class=\"dataframe\">\n",
       "  <thead>\n",
       "    <tr style=\"text-align: right;\">\n",
       "      <th></th>\n",
       "      <th>0</th>\n",
       "      <th>1</th>\n",
       "      <th>2</th>\n",
       "      <th>3</th>\n",
       "      <th>4</th>\n",
       "    </tr>\n",
       "  </thead>\n",
       "  <tbody>\n",
       "    <tr>\n",
       "      <th>0</th>\n",
       "      <td>159.843081</td>\n",
       "      <td>156.478825</td>\n",
       "      <td>154.303897</td>\n",
       "      <td>427.059596</td>\n",
       "      <td>455.637595</td>\n",
       "    </tr>\n",
       "    <tr>\n",
       "      <th>1</th>\n",
       "      <td>192.954635</td>\n",
       "      <td>191.067920</td>\n",
       "      <td>190.331335</td>\n",
       "      <td>434.237728</td>\n",
       "      <td>466.233130</td>\n",
       "    </tr>\n",
       "    <tr>\n",
       "      <th>2</th>\n",
       "      <td>529.994347</td>\n",
       "      <td>518.056803</td>\n",
       "      <td>505.298993</td>\n",
       "      <td>330.026024</td>\n",
       "      <td>291.469123</td>\n",
       "    </tr>\n",
       "    <tr>\n",
       "      <th>3</th>\n",
       "      <td>248.077661</td>\n",
       "      <td>237.486837</td>\n",
       "      <td>226.616828</td>\n",
       "      <td>279.579176</td>\n",
       "      <td>298.460267</td>\n",
       "    </tr>\n",
       "    <tr>\n",
       "      <th>4</th>\n",
       "      <td>518.831024</td>\n",
       "      <td>506.783591</td>\n",
       "      <td>493.942100</td>\n",
       "      <td>284.885691</td>\n",
       "      <td>246.415864</td>\n",
       "    </tr>\n",
       "    <tr>\n",
       "      <th>5</th>\n",
       "      <td>522.572861</td>\n",
       "      <td>510.507838</td>\n",
       "      <td>497.659757</td>\n",
       "      <td>271.726343</td>\n",
       "      <td>232.513237</td>\n",
       "    </tr>\n",
       "  </tbody>\n",
       "</table>\n",
       "</div>"
      ],
      "text/plain": [
       "            0           1           2           3           4\n",
       "0  159.843081  156.478825  154.303897  427.059596  455.637595\n",
       "1  192.954635  191.067920  190.331335  434.237728  466.233130\n",
       "2  529.994347  518.056803  505.298993  330.026024  291.469123\n",
       "3  248.077661  237.486837  226.616828  279.579176  298.460267\n",
       "4  518.831024  506.783591  493.942100  284.885691  246.415864\n",
       "5  522.572861  510.507838  497.659757  271.726343  232.513237"
      ]
     },
     "execution_count": 12,
     "metadata": {},
     "output_type": "execute_result"
    }
   ],
   "source": [
    "usuarios= usuarios.to_crs(3116)\n",
    "restaurants= restaurants.to_crs(3116)\n",
    "usuarios.geometry.apply(lambda g: restaurants.distance(g))"
   ]
  },
  {
   "cell_type": "markdown",
   "metadata": {},
   "source": [
    " <div style=\"max-width:500px\">\n",
    "<img src = \"figs/dist1.png\" />\n",
    "</div> "
   ]
  },
  {
   "cell_type": "markdown",
   "metadata": {},
   "source": [
    "# Filtrado Colaborativo Basado en Contenido. Análisis de textos\n",
    "\n",
    "\n",
    "- Los sistemas basados en contenido, a diferencia de los filtros colaborativos, no requieren datos relacionados a otros individuos u actividades pasadas. \n",
    "\n",
    "\n",
    "- Por el contrario, estos brindan recomendaciones basadas en el perfil del usuario y los metadatos que se tiene sobre elementos particulares.\n",
    "\n",
    "\n",
    "- Parte importante viene de la descripción de los items y esta descripción esta por lo general expresada en texto.\n",
    "\n",
    "\n",
    "- Visitaremos entonces brevemente como aprovechar esta información para mejorar las recomendaciones.\n",
    "\n",
    "\n",
    "- Para ello tenemos que encontrar el significado de las expresiones\n",
    "\n",
    "    - El principio de composicionalidad, que tiene su origen en la filosofía del lenguaje, dice que el significado de una expresión es una función de los significados de sus subexpresiones. \n",
    "    - El significado de una oración es una función de los significados de sus frases, el significado de una frase es una función de los significados de sus palabras, y el significado de una palabra es una función de los significados de sus lexemas. \n",
    "\n",
    "\n",
    "- Habiendo determinado la estructura de un fragmento de texto, encontrar su significado puede verse como un proceso de abajo hacia arriba, desde los lexemas en la parte inferior pasando por los morfemas, las oraciones, los temas, y más allá."
   ]
  },
  {
   "cell_type": "code",
   "execution_count": 13,
   "metadata": {},
   "outputs": [],
   "source": [
    "#cargamos librerias\n",
    "import pandas as pd\n",
    "import numpy as np"
   ]
  },
  {
   "cell_type": "code",
   "execution_count": 14,
   "metadata": {
    "scrolled": true
   },
   "outputs": [
    {
     "data": {
      "text/html": [
       "<div>\n",
       "<style scoped>\n",
       "    .dataframe tbody tr th:only-of-type {\n",
       "        vertical-align: middle;\n",
       "    }\n",
       "\n",
       "    .dataframe tbody tr th {\n",
       "        vertical-align: top;\n",
       "    }\n",
       "\n",
       "    .dataframe thead th {\n",
       "        text-align: right;\n",
       "    }\n",
       "</style>\n",
       "<table border=\"1\" class=\"dataframe\">\n",
       "  <thead>\n",
       "    <tr style=\"text-align: right;\">\n",
       "      <th></th>\n",
       "      <th>restaurant_id</th>\n",
       "      <th>user_id</th>\n",
       "      <th>rating</th>\n",
       "      <th>comentarios</th>\n",
       "    </tr>\n",
       "  </thead>\n",
       "  <tbody>\n",
       "    <tr>\n",
       "      <th>0</th>\n",
       "      <td>1</td>\n",
       "      <td>1</td>\n",
       "      <td>5.0</td>\n",
       "      <td>Excelente zerbicio, la comida deliziosa.</td>\n",
       "    </tr>\n",
       "    <tr>\n",
       "      <th>1</th>\n",
       "      <td>1</td>\n",
       "      <td>2</td>\n",
       "      <td>4.0</td>\n",
       "      <td>NaN</td>\n",
       "    </tr>\n",
       "    <tr>\n",
       "      <th>2</th>\n",
       "      <td>1</td>\n",
       "      <td>3</td>\n",
       "      <td>3.0</td>\n",
       "      <td>Comida mala y mal servicio</td>\n",
       "    </tr>\n",
       "    <tr>\n",
       "      <th>3</th>\n",
       "      <td>1</td>\n",
       "      <td>4</td>\n",
       "      <td>NaN</td>\n",
       "      <td>NaN</td>\n",
       "    </tr>\n",
       "    <tr>\n",
       "      <th>4</th>\n",
       "      <td>1</td>\n",
       "      <td>5</td>\n",
       "      <td>NaN</td>\n",
       "      <td>NaN</td>\n",
       "    </tr>\n",
       "  </tbody>\n",
       "</table>\n",
       "</div>"
      ],
      "text/plain": [
       "   restaurant_id  user_id  rating                                comentarios\n",
       "0              1        1     5.0  Excelente zerbicio, la comida deliziosa. \n",
       "1              1        2     4.0                                        NaN\n",
       "2              1        3     3.0                 Comida mala y mal servicio\n",
       "3              1        4     NaN                                        NaN\n",
       "4              1        5     NaN                                        NaN"
      ]
     },
     "execution_count": 14,
     "metadata": {},
     "output_type": "execute_result"
    }
   ],
   "source": [
    "# Cargamos y visualizamos  los datos\n",
    "ratings = pd.read_csv('data/Ratings.csv', encoding='latin-1')\n",
    "ratings.head()"
   ]
  },
  {
   "cell_type": "code",
   "execution_count": 15,
   "metadata": {},
   "outputs": [
    {
     "data": {
      "text/html": [
       "<div>\n",
       "<style scoped>\n",
       "    .dataframe tbody tr th:only-of-type {\n",
       "        vertical-align: middle;\n",
       "    }\n",
       "\n",
       "    .dataframe tbody tr th {\n",
       "        vertical-align: top;\n",
       "    }\n",
       "\n",
       "    .dataframe thead th {\n",
       "        text-align: right;\n",
       "    }\n",
       "</style>\n",
       "<table border=\"1\" class=\"dataframe\">\n",
       "  <thead>\n",
       "    <tr style=\"text-align: right;\">\n",
       "      <th></th>\n",
       "      <th>restaurant_id</th>\n",
       "      <th>user_id</th>\n",
       "      <th>rating</th>\n",
       "      <th>comentarios</th>\n",
       "    </tr>\n",
       "  </thead>\n",
       "  <tbody>\n",
       "    <tr>\n",
       "      <th>0</th>\n",
       "      <td>1</td>\n",
       "      <td>1</td>\n",
       "      <td>5.0</td>\n",
       "      <td>Excelente zerbicio, la comida deliziosa.</td>\n",
       "    </tr>\n",
       "    <tr>\n",
       "      <th>2</th>\n",
       "      <td>1</td>\n",
       "      <td>3</td>\n",
       "      <td>3.0</td>\n",
       "      <td>Comida mala y mal servicio</td>\n",
       "    </tr>\n",
       "    <tr>\n",
       "      <th>7</th>\n",
       "      <td>2</td>\n",
       "      <td>3</td>\n",
       "      <td>2.0</td>\n",
       "      <td>Pésima comida y pésimo servicio</td>\n",
       "    </tr>\n",
       "    <tr>\n",
       "      <th>10</th>\n",
       "      <td>3</td>\n",
       "      <td>1</td>\n",
       "      <td>5.0</td>\n",
       "      <td>Comida deliciosa, el servicio excelente!</td>\n",
       "    </tr>\n",
       "    <tr>\n",
       "      <th>11</th>\n",
       "      <td>3</td>\n",
       "      <td>2</td>\n",
       "      <td>4.0</td>\n",
       "      <td>Excelente servicio, buena comida</td>\n",
       "    </tr>\n",
       "    <tr>\n",
       "      <th>12</th>\n",
       "      <td>3</td>\n",
       "      <td>3</td>\n",
       "      <td>3.0</td>\n",
       "      <td>La comida llegó fría, el serbizio fue muy malo!</td>\n",
       "    </tr>\n",
       "    <tr>\n",
       "      <th>18</th>\n",
       "      <td>4</td>\n",
       "      <td>4</td>\n",
       "      <td>4.0</td>\n",
       "      <td>Buena comida, buen servicio</td>\n",
       "    </tr>\n",
       "    <tr>\n",
       "      <th>19</th>\n",
       "      <td>4</td>\n",
       "      <td>5</td>\n",
       "      <td>4.0</td>\n",
       "      <td>Buen menu, servicio excelente</td>\n",
       "    </tr>\n",
       "    <tr>\n",
       "      <th>23</th>\n",
       "      <td>5</td>\n",
       "      <td>4</td>\n",
       "      <td>5.0</td>\n",
       "      <td>Excelente comida y servicio</td>\n",
       "    </tr>\n",
       "  </tbody>\n",
       "</table>\n",
       "</div>"
      ],
      "text/plain": [
       "    restaurant_id  user_id  rating  \\\n",
       "0               1        1     5.0   \n",
       "2               1        3     3.0   \n",
       "7               2        3     2.0   \n",
       "10              3        1     5.0   \n",
       "11              3        2     4.0   \n",
       "12              3        3     3.0   \n",
       "18              4        4     4.0   \n",
       "19              4        5     4.0   \n",
       "23              5        4     5.0   \n",
       "\n",
       "                                        comentarios  \n",
       "0         Excelente zerbicio, la comida deliziosa.   \n",
       "2                        Comida mala y mal servicio  \n",
       "7                   Pésima comida y pésimo servicio  \n",
       "10         Comida deliciosa, el servicio excelente!  \n",
       "11                 Excelente servicio, buena comida  \n",
       "12  La comida llegó fría, el serbizio fue muy malo!  \n",
       "18                     Buena comida, buen servicio   \n",
       "19                    Buen menu, servicio excelente  \n",
       "23                      Excelente comida y servicio  "
      ]
     },
     "execution_count": 15,
     "metadata": {},
     "output_type": "execute_result"
    }
   ],
   "source": [
    "ratings=ratings.dropna()\n",
    "ratings"
   ]
  },
  {
   "cell_type": "markdown",
   "metadata": {},
   "source": [
    "- Necesitamos procesar el texto para que sea útil y poder capturar significado de las palabras a través de los morfemas.\n",
    "\n",
    "- Vamos a realizar unos pasos previos\n",
    "\n",
    "    - Remover elementos como stopwords, tildes, signos de puntuación, números, y cualquier otro símbolo que pueden llegar a entorpecer el análisis. En este paso las expresiones regulares son especialmente útiles. \n",
    "    \n",
    "  - Separar el texto en palabras o *tokens*\n",
    "  \n",
    "  - Encontrar los morfemas o lexemas via *lematización* o *stemming*"
   ]
  },
  {
   "cell_type": "markdown",
   "metadata": {},
   "source": [
    "##### Comencemos con la limpieza de los comentarios\n",
    "\n",
    "- Voy a mostrarles como hacerlo con la librería de procesamiento y análisis de texto, ConTexto, desarrollada por el DNP de Colombia.\n",
    "\n",
    "\n",
    "- Ver https://ucd-dnp.github.io/ConTexto/versiones/master/index.html"
   ]
  },
  {
   "cell_type": "code",
   "execution_count": 16,
   "metadata": {},
   "outputs": [
    {
     "name": "stdout",
     "output_type": "stream",
     "text": [
      "La comida llegó fría, el serbizio fue muy malo!\n"
     ]
    }
   ],
   "source": [
    "print(ratings['comentarios'][12]) "
   ]
  },
  {
   "cell_type": "code",
   "execution_count": 17,
   "metadata": {},
   "outputs": [
    {
     "name": "stdout",
     "output_type": "stream",
     "text": [
      "La comida llegó fría, el servicio fue muy malo!\n"
     ]
    }
   ],
   "source": [
    "# Cargamos las librerías a utilizar ()\n",
    "from contexto.limpieza import *\n",
    "\n",
    "from contexto.correccion import Corrector, corregir_texto\n",
    "texto_corregido = corregir_texto(ratings['comentarios'][12])\n",
    "print(texto_corregido)"
   ]
  },
  {
   "cell_type": "code",
   "execution_count": 18,
   "metadata": {},
   "outputs": [
    {
     "data": {
      "text/plain": [
       "'La comida llego fria, el servicio fue muy malo!'"
      ]
     },
     "execution_count": 18,
     "metadata": {},
     "output_type": "execute_result"
    }
   ],
   "source": [
    "# Para quitar acentos (diéresis, tildes y virgulillas)\n",
    "texto_corregido=remover_acentos(texto_corregido)\n",
    "texto_corregido"
   ]
  },
  {
   "cell_type": "code",
   "execution_count": 19,
   "metadata": {},
   "outputs": [],
   "source": [
    "import spacy\n",
    "nlp = spacy.load(\"es_core_news_sm\")\n",
    "\n",
    "# Cargamos las stopwords extra\n",
    "extra_stopwords = pd.read_csv('data/extra_stopwords.csv', sep=',',header=None)\n",
    "extra_stopwords.columns = ['stopwords']\n",
    "extra_stopwords=set(extra_stopwords['stopwords'].to_list())\n",
    "\n",
    "# Agregamos a nuestro modelo de SpaCy\n",
    "nlp.Defaults.stop_words |= extra_stopwords\n",
    "\n",
    "#print(nlp.Defaults.stop_words) # Mostrar la nueva lista de stopwords"
   ]
  },
  {
   "cell_type": "code",
   "execution_count": 20,
   "metadata": {},
   "outputs": [
    {
     "data": {
      "text/plain": [
       "'comida llego fria servicio malo'"
      ]
     },
     "execution_count": 20,
     "metadata": {},
     "output_type": "execute_result"
    }
   ],
   "source": [
    "# corremos limpieza de texto\n",
    "texto_corregido=limpieza_texto(texto_corregido,lista_palabras=extra_stopwords)\n",
    "texto_corregido"
   ]
  },
  {
   "cell_type": "markdown",
   "metadata": {},
   "source": [
    "##### Lematización\n",
    " \n",
    "- Operación que consiste en transformar las palabras de su forma flexionada (plural, femenino, conjugaciones, etc.) a su lema correspondiente, el cual es el representante de todas las formas flexionadas de una misma palabra. \n",
    " \n",
    " \n",
    " - Por ejemplo, las palabras niños, niña y niñito tienen todas el mismo lema: niño. \n",
    " \n",
    " \n",
    " - Realizar lematización sobre textos puede simplificarlos, al unificar palabras que comparten el mismo lema, y evitando así tener un vocabulario más grande de lo necesario."
   ]
  },
  {
   "cell_type": "code",
   "execution_count": 21,
   "metadata": {},
   "outputs": [
    {
     "data": {
      "text/plain": [
       "'comida llego frio servicio malo'"
      ]
     },
     "execution_count": 21,
     "metadata": {},
     "output_type": "execute_result"
    }
   ],
   "source": [
    "#La primera vez que se utilice una combinación particular de lenguaje + tamaño, la librería descargará el modelo correspondiente en el computador del usuario. \n",
    "#Para usarlo, se debe reiniciar la sesión y correr la función de nuevo.\n",
    "from contexto.lematizacion import LematizadorSpacy\n",
    "from contexto.lematizacion import lematizar_texto\n",
    "\n",
    "\n",
    "texto_corregido = lematizar_texto(texto_corregido)\n",
    "\n",
    "texto_corregido"
   ]
  },
  {
   "cell_type": "code",
   "execution_count": 22,
   "metadata": {},
   "outputs": [
    {
     "name": "stdout",
     "output_type": "stream",
     "text": [
      "comida llegar frio servicio mal\n"
     ]
    }
   ],
   "source": [
    "# Agregar lemas desde un diccionario\n",
    "\n",
    "segundo_dict = {\n",
    "    \"llego\" : \"llegar\",\n",
    "    \"deliciós\": \"delicioso\",\n",
    "    \"comido\": \"comida\",\n",
    "    \"malo\":\"mal\"\n",
    "    \n",
    "}\n",
    "texto_lematizado = lematizar_texto(texto_corregido, dict_lemmas=segundo_dict)\n",
    "print(texto_lematizado)\n"
   ]
  },
  {
   "cell_type": "markdown",
   "metadata": {},
   "source": [
    "##### Stemming \n",
    "\n",
    "- El stemming es un método para reducir todas las formas flexionadas de palabras a su «raíz» o «tallo» (stem, en inglés), cuando estas comparten una misma raíz.\n",
    "\n",
    "\n",
    "- Por ejemplo, las palabras niños, niña y niñez tienen todas la misma raíz: «niñ». A diferencia de la lematización, en donde cada lema es una palabra que existe en el vocabulario del lenguaje correspondiente, las palabras raíz que se obtienen al aplicar stemming no necesariamente existen por sí solas como palabra.\n",
    "\n",
    "\n",
    "- Aplicar stemming a textos puede simplificarlos, al unificar palabras que comparten la misma raíz, y evitando así tener un vocabulario más grande de lo necesario."
   ]
  },
  {
   "cell_type": "code",
   "execution_count": 23,
   "metadata": {},
   "outputs": [
    {
     "name": "stdout",
     "output_type": "stream",
     "text": [
      "com lleg fri servici mal\n"
     ]
    }
   ],
   "source": [
    "from contexto.stemming import Stemmer, stem_texto\n",
    "\n",
    "# Determinar automáticamente el lenguaje del texto\n",
    "texto_stem = stem_texto(texto_lematizado, 'auto')\n",
    "print(texto_stem)"
   ]
  },
  {
   "cell_type": "markdown",
   "metadata": {},
   "source": [
    "- Podemos definir todas juntas"
   ]
  },
  {
   "cell_type": "code",
   "execution_count": 28,
   "metadata": {},
   "outputs": [
    {
     "data": {
      "text/plain": [
       "0           Excelente zerbicio, la comida deliziosa. \n",
       "2                          Comida mala y mal servicio\n",
       "7                     Pésima comida y pésimo servicio\n",
       "10           Comida deliciosa, el servicio excelente!\n",
       "11                   Excelente servicio, buena comida\n",
       "12    La comida llegó fría, el serbizio fue muy malo!\n",
       "18                       Buena comida, buen servicio \n",
       "19                      Buen menu, servicio excelente\n",
       "23                        Excelente comida y servicio\n",
       "Name: comentarios, dtype: object"
      ]
     },
     "execution_count": 28,
     "metadata": {},
     "output_type": "execute_result"
    }
   ],
   "source": [
    "ratings['comentarios']"
   ]
  },
  {
   "cell_type": "code",
   "execution_count": 36,
   "metadata": {},
   "outputs": [
    {
     "data": {
      "text/plain": [
       "0     excelente servicio comida delicioso\n",
       "2                 comida mal mal servicio\n",
       "7           pesimo comida pesimo servicio\n",
       "10    comida delicioso servicio excelente\n",
       "11         excelente servicio buen comida\n",
       "12        comida llegar frio servicio mal\n",
       "18              buen comida buen servicio\n",
       "19           buen menu servicio excelente\n",
       "23              excelente comida servicio\n",
       "Name: comentarios, dtype: object"
      ]
     },
     "execution_count": 36,
     "metadata": {},
     "output_type": "execute_result"
    }
   ],
   "source": [
    "# Funcion que limpia el texto y separa en tokens\n",
    "def text_cleaning(txt):\n",
    "\n",
    "    out = corregir_texto(txt)\n",
    "    out= remover_acentos(out)\n",
    "    out= limpieza_texto(out,lista_palabras=extra_stopwords)\n",
    "    out=lematizar_texto(out)\n",
    "    out=lematizar_texto(out, dict_lemmas=segundo_dict)\n",
    "#    out=stem_texto(out, 'auto')\n",
    "    return out\n",
    "\n",
    "\n",
    "clean = ratings['comentarios'].apply(text_cleaning)\n",
    "clean"
   ]
  },
  {
   "cell_type": "markdown",
   "metadata": {},
   "source": [
    "### Similaridad entre las comentarios"
   ]
  },
  {
   "cell_type": "code",
   "execution_count": 37,
   "metadata": {},
   "outputs": [
    {
     "data": {
      "text/plain": [
       "array([[1.        , 0.40824829, 0.40824829, 1.        , 0.75      ,\n",
       "        0.4472136 , 0.40824829, 0.5       , 0.8660254 ],\n",
       "       [0.40824829, 1.        , 0.33333333, 0.40824829, 0.40824829,\n",
       "        0.73029674, 0.33333333, 0.20412415, 0.47140452],\n",
       "       [0.40824829, 0.33333333, 1.        , 0.40824829, 0.40824829,\n",
       "        0.36514837, 0.33333333, 0.20412415, 0.47140452],\n",
       "       [1.        , 0.40824829, 0.40824829, 1.        , 0.75      ,\n",
       "        0.4472136 , 0.40824829, 0.5       , 0.8660254 ],\n",
       "       [0.75      , 0.40824829, 0.40824829, 0.75      , 1.        ,\n",
       "        0.4472136 , 0.81649658, 0.75      , 0.8660254 ],\n",
       "       [0.4472136 , 0.73029674, 0.36514837, 0.4472136 , 0.4472136 ,\n",
       "        1.        , 0.36514837, 0.2236068 , 0.51639778],\n",
       "       [0.40824829, 0.33333333, 0.33333333, 0.40824829, 0.81649658,\n",
       "        0.36514837, 1.        , 0.61237244, 0.47140452],\n",
       "       [0.5       , 0.20412415, 0.20412415, 0.5       , 0.75      ,\n",
       "        0.2236068 , 0.61237244, 1.        , 0.57735027],\n",
       "       [0.8660254 , 0.47140452, 0.47140452, 0.8660254 , 0.8660254 ,\n",
       "        0.51639778, 0.47140452, 0.57735027, 1.        ]])"
      ]
     },
     "execution_count": 37,
     "metadata": {},
     "output_type": "execute_result"
    }
   ],
   "source": [
    "from contexto.comparacion import Similitud, Distancia, DiferenciaStrings\n",
    "from contexto.vectorizacion import *\n",
    "\n",
    "# Bolsa de palabras\n",
    "v_bow = VectorizadorFrecuencias()\n",
    "v_bow.ajustar(clean)\n",
    "\n",
    "# Similitu de coseno\n",
    "s_bow = Similitud(v_bow)\n",
    "coseno_bow = s_bow.coseno(clean)\n",
    "coseno_bow"
   ]
  },
  {
   "cell_type": "markdown",
   "metadata": {},
   "source": [
    "### Modelado de tópicos\n",
    "\n",
    "- Contar palabras puede ser una forma bastante buena de cuantificar de qué se trata un documento, pero no es perfecta.\n",
    "\n",
    "\n",
    "- Supongamos que estamos tratando de categorizar documentos en diferentes géneros. \n",
    "\n",
    "\n",
    "- Si un documento contiene la palabra \"láser\" o \"robot\" u otras palabras similares, esa es una buena señal de que es una palabra de ingeniería  o una historia de ciencia ficción. \n",
    "\n",
    "\n",
    "- Supongamos además que muchas de estas palabras relacionadas con la tecnología simplemente ocurren una vez, digamos, \"fotón\" aparece solo en un artículo de ingeniería y \"Warp\" aparece solo en un historia de ciencia ficción. \n",
    "\n",
    "\n",
    "- Esa no sería una muy buena evidencia de que los documentos que mencionan \"fotón\" son ingeniería y los documentos que mencionan \"Warp\" son ciencia ficción. \n",
    "\n",
    "\n",
    "- Sería más razónable que un modelo aprenda que todas estas son palabras relacionadas con la tecnología, y que las palabras relacionadas con la tecnología  son indicativas tanto de ingeniería como de ciencia ficción.\n",
    "\n",
    "\n",
    "- Es decir, estas palabras pertenecen al tema de la tecnología, y tanto la ingeniería como la ciencia ficción usan estas palabras.\n",
    "\n",
    "\n",
    "- ¿Cómo podríamos aprender esos temas automáticamente? La respuesta más utilizada es LDA\n",
    "\n",
    "\n",
    "- La idea detrás LDA, es responder ¿qué pasa si usamos vectores donde cada componente del vector es un tema diferente? \n",
    "\n",
    "\n",
    "- El enfoque es bayesiano\n",
    "\n",
    "\\begin{align}\n",
    "P(tópicos| data) = \\frac{\\int P(tópicos, data, \\theta) d\\theta}{\\int P( data, \\theta) d\\theta }\n",
    "\\end{align}\n",
    "\n",
    "\n",
    "- En estos casos estamos buscando encontrar de forma no supervizada cual es el factor (tópico o tema) subyacente del texto."
   ]
  },
  {
   "cell_type": "code",
   "execution_count": 39,
   "metadata": {},
   "outputs": [
    {
     "data": {
      "text/plain": [
       "0     [excelente, servicio, comida, delicioso]\n",
       "2                 [comida, mal, mal, servicio]\n",
       "7           [pesimo, comida, pesimo, servicio]\n",
       "10    [comida, delicioso, servicio, excelente]\n",
       "11         [excelente, servicio, buen, comida]\n",
       "12       [comida, llegar, frio, servicio, mal]\n",
       "18              [buen, comida, buen, servicio]\n",
       "19           [buen, menu, servicio, excelente]\n",
       "23               [excelente, comida, servicio]\n",
       "Name: comentarios, dtype: object"
      ]
     },
     "execution_count": 39,
     "metadata": {},
     "output_type": "execute_result"
    }
   ],
   "source": [
    "# Cargamos la función \n",
    "from gensim.corpora import Dictionary\n",
    "\n",
    "#helper function\n",
    "def splitter(txt):\n",
    "    out = txt.split(\" \")\n",
    "    return out\n",
    "\n",
    "clean = clean.apply(splitter)\n",
    "clean"
   ]
  },
  {
   "cell_type": "code",
   "execution_count": 40,
   "metadata": {},
   "outputs": [
    {
     "data": {
      "text/plain": [
       "<gensim.corpora.dictionary.Dictionary at 0x7f4b24290150>"
      ]
     },
     "execution_count": 40,
     "metadata": {},
     "output_type": "execute_result"
    }
   ],
   "source": [
    "# Creamos la representación de diccionario del documento\n",
    "dictionary = Dictionary(clean)\n",
    "dictionary\n"
   ]
  },
  {
   "cell_type": "code",
   "execution_count": 41,
   "metadata": {},
   "outputs": [
    {
     "data": {
      "text/plain": [
       "[[(0, 1), (1, 1), (2, 1), (3, 1)],\n",
       " [(0, 1), (3, 1), (4, 2)],\n",
       " [(0, 1), (3, 1), (5, 2)],\n",
       " [(0, 1), (1, 1), (2, 1), (3, 1)],\n",
       " [(0, 1), (2, 1), (3, 1), (6, 1)],\n",
       " [(0, 1), (3, 1), (4, 1), (7, 1), (8, 1)],\n",
       " [(0, 1), (3, 1), (6, 2)],\n",
       " [(2, 1), (3, 1), (6, 1), (9, 1)],\n",
       " [(0, 1), (2, 1), (3, 1)]]"
      ]
     },
     "execution_count": 41,
     "metadata": {},
     "output_type": "execute_result"
    }
   ],
   "source": [
    "corpus = [dictionary.doc2bow(doc) for doc in clean]\n",
    "corpus"
   ]
  },
  {
   "cell_type": "code",
   "execution_count": 76,
   "metadata": {},
   "outputs": [],
   "source": [
    "from gensim.models import LdaModel\n",
    "\n",
    "Estimacion = LdaModel(\n",
    "    corpus=corpus,\n",
    "    id2word=dictionary,\n",
    "    num_topics=4,\n",
    "    chunksize=1000,\n",
    "    passes=20,\n",
    "    iterations=400,\n",
    "    alpha='auto',\n",
    "    eta='auto',\n",
    "    random_state=123,\n",
    "    eval_every=None\n",
    ")"
   ]
  },
  {
   "cell_type": "code",
   "execution_count": 77,
   "metadata": {},
   "outputs": [
    {
     "name": "stdout",
     "output_type": "stream",
     "text": [
      "[(0,\n",
      "  '0.193*\"menu\" + 0.192*\"buen\" + 0.192*\"excelente\" + 0.192*\"servicio\" + '\n",
      "  '0.039*\"comida\" + 0.039*\"delicioso\" + 0.039*\"pesimo\" + 0.039*\"mal\" + '\n",
      "  '0.039*\"frio\" + 0.039*\"llegar\"'),\n",
      " (1,\n",
      "  '0.245*\"servicio\" + 0.244*\"comida\" + 0.198*\"excelente\" + 0.151*\"buen\" + '\n",
      "  '0.104*\"delicioso\" + 0.012*\"mal\" + 0.012*\"llegar\" + 0.012*\"frio\" + '\n",
      "  '0.012*\"menu\" + 0.012*\"pesimo\"'),\n",
      " (2,\n",
      "  '0.283*\"mal\" + 0.195*\"servicio\" + 0.195*\"comida\" + 0.109*\"frio\" + '\n",
      "  '0.109*\"llegar\" + 0.022*\"excelente\" + 0.022*\"buen\" + 0.022*\"pesimo\" + '\n",
      "  '0.022*\"delicioso\" + 0.022*\"menu\"'),\n",
      " (3,\n",
      "  '0.347*\"pesimo\" + 0.192*\"comida\" + 0.192*\"servicio\" + 0.039*\"excelente\" + '\n",
      "  '0.039*\"delicioso\" + 0.039*\"buen\" + 0.039*\"mal\" + 0.039*\"menu\" + '\n",
      "  '0.039*\"llegar\" + 0.039*\"frio\"')]\n"
     ]
    }
   ],
   "source": [
    "from pprint import pprint\n",
    "\n",
    "pprint(Estimacion.print_topics())"
   ]
  },
  {
   "cell_type": "code",
   "execution_count": 78,
   "metadata": {},
   "outputs": [],
   "source": [
    "?LdaModel.get_document_topics\n"
   ]
  },
  {
   "cell_type": "code",
   "execution_count": 79,
   "metadata": {},
   "outputs": [
    {
     "data": {
      "text/plain": [
       "[[(0, 0.012655084), (1, 0.95526034), (2, 0.019107873), (3, 0.012976743)],\n",
       " [(0, 0.012655079), (1, 0.046342954), (2, 0.9280252), (3, 0.0129767405)],\n",
       " [(0, 0.012655081), (1, 0.04660532), (2, 0.01910816), (3, 0.92163146)],\n",
       " [(0, 0.012655084), (1, 0.95526034), (2, 0.019107873), (3, 0.012976743)],\n",
       " [(0, 0.012655082), (1, 0.95526034), (2, 0.019107867), (3, 0.0129767405)],\n",
       " [(0, 0.010309739), (1, 0.037556592), (2, 0.94156194), (3, 0.010571787)],\n",
       " [(0, 0.012655083), (1, 0.95526034), (2, 0.019107869), (3, 0.012976742)],\n",
       " [(0, 0.92106533), (1, 0.046850067), (2, 0.019107834), (3, 0.012976742)],\n",
       " [(0, 0.016381735), (1, 0.94208527), (2, 0.024734909), (3, 0.016798118)]]"
      ]
     },
     "execution_count": 79,
     "metadata": {},
     "output_type": "execute_result"
    }
   ],
   "source": [
    "l=[Estimacion.get_document_topics(item) for item in corpus]\n",
    "l"
   ]
  },
  {
   "cell_type": "markdown",
   "metadata": {},
   "source": [
    "## Consideraciones sobre LDA\n",
    "\n",
    "\n",
    "- Cuando se analiza el modelado de tópicos, es importante reforzar continuamente el hecho de que los grupos de palabras que representan los tópicos no están relacionados conceptualmente; están relacionados solo por proximidad. \n",
    "\n",
    "\n",
    "- La proximidad frecuente de ciertas palabras en los documentos es suficiente para definir tópicos debido a que estamos asumiendo que todas las palabras en el mismo documento están relacionadas.\n",
    "\n",
    "\n",
    "- Sin embargo, esta suposición puede no ser cierta o las palabras pueden ser demasiado genéricas para formar tópicos coherentes. \n",
    "\n",
    "\n",
    "- La interpretación de tópicos abstractos implica equilibrar las características innatas de los datos de texto con las agrupaciones de palabras generadas. \n",
    "\n",
    "\n",
    "- Es importante tener en cuenta también que la naturaleza ruidosa de los datos de texto puede hacer que los modelos de tópico asignen palabras no relacionadas con uno de los tópicos a ese tópico en particular. \n",
    "\n",
    "\n",
    "- Esto no es necesariamente una falla en el modelo. En cambio, es una característica que, dados datos ruidosos, el modelo podría extraer peculiaridades de los datos que podrían afectar negativamente los resultados. Las correlaciones espurias podrían ser el resultado de cómo, dónde o cuándo se recopilaron los datos. \n",
    "\n",
    "\n",
    "- Recuerden \"GIGO\" (garbage in, garbage out) si entra basura, sale basura. "
   ]
  }
 ],
 "metadata": {
  "kernelspec": {
   "display_name": "Python 3 (ipykernel)",
   "language": "python",
   "name": "python3"
  },
  "language_info": {
   "codemirror_mode": {
    "name": "ipython",
    "version": 3
   },
   "file_extension": ".py",
   "mimetype": "text/x-python",
   "name": "python",
   "nbconvert_exporter": "python",
   "pygments_lexer": "ipython3",
   "version": "3.7.6"
  },
  "toc": {
   "base_numbering": 1,
   "nav_menu": {},
   "number_sections": true,
   "sideBar": true,
   "skip_h1_title": false,
   "title_cell": "Table of Contents",
   "title_sidebar": "Contents",
   "toc_cell": false,
   "toc_position": {
    "height": "calc(100% - 180px)",
    "left": "10px",
    "top": "150px",
    "width": "150.4px"
   },
   "toc_section_display": true,
   "toc_window_display": false
  }
 },
 "nbformat": 4,
 "nbformat_minor": 5
}
